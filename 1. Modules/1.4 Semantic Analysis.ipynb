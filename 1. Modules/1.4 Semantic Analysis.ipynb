{
 "cells": [
  {
   "cell_type": "markdown",
   "metadata": {},
   "source": [
    "<h1>CS 41344 - Natural Language Processing</h1>\n",
    "<h2 style = 'color:yellow'>1.4 Semantic Analysis</h2>\n",
    "\n",
    "<ul>\n",
    "    <li>Eigen Decomposition</li>\n",
    "    <li>Singular Value Decomposition (SVD)</li>\n",
    "    <li>Latent Semantic Analysis</li>\n",
    "    <li>Latent Dirichlet Allocation</li>\n",
    "</ul>"
   ]
  },
  {
   "cell_type": "code",
   "execution_count": null,
   "metadata": {},
   "outputs": [],
   "source": []
  }
 ],
 "metadata": {
  "language_info": {
   "name": "python"
  }
 },
 "nbformat": 4,
 "nbformat_minor": 2
}
