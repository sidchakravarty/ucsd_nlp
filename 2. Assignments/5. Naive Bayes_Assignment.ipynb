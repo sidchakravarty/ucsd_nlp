{
 "cells": [
  {
   "cell_type": "markdown",
   "metadata": {},
   "source": [
    "<h1>CS 41344 - Natural Language Processing</h1>\n",
    "<h2 style = 'color:yellow'>Assignment - 5: Naive Bayes</h2>"
   ]
  },
  {
   "cell_type": "markdown",
   "metadata": {},
   "source": [
    "<h3 style = 'color:lightgreen'>Assignment - 5.0 Import Libraries</h3>\n"
   ]
  },
  {
   "cell_type": "code",
   "execution_count": 1,
   "metadata": {},
   "outputs": [],
   "source": [
    "import numpy as np\n",
    "import pandas as pd\n",
    "import matplotlib.pyplot as plt"
   ]
  },
  {
   "cell_type": "code",
   "execution_count": 4,
   "metadata": {},
   "outputs": [],
   "source": [
    "def calculate_conditional_probabilities(df, a_values, b_value):\n",
    "    \"\"\"\n",
    "    Calculate the conditional probabilities P(B=b_value|A=a_value)\n",
    "\n",
    "    Parameters:\n",
    "    - df: DataFrame containing the data\n",
    "    - a_values: List of unique values in column A for which to calculate the conditional probabilities\n",
    "    - b_value: The specific value in column B for which to calculate the conditional probability\n",
    "\n",
    "    Returns:\n",
    "    A dictionary with keys as A values and values as the corresponding conditional probabilities.\n",
    "    \"\"\"\n",
    "    probabilities = {}\n",
    "    for a_value in a_values:\n",
    "        # Filtering df for the specific A value\n",
    "        df_filtered_a = df[df['A'] == a_value]\n",
    "        # Counting occurrences where B equals b_value given A equals a_value\n",
    "        count_b_given_a = len(df_filtered_a[df_filtered_a['B'] == b_value])\n",
    "        # Calculating the probability\n",
    "        probability = count_b_given_a / len(df_filtered_a) if len(df_filtered_a) > 0 else 0\n",
    "        probabilities[a_value] = probability\n",
    "    return probabilities"
   ]
  },
  {
   "cell_type": "code",
   "execution_count": 11,
   "metadata": {},
   "outputs": [],
   "source": [
    "def calculate_conditional_probabilities_laplace(df, a_values, b_value, k=1):\n",
    "    \"\"\"\n",
    "    Calculate the conditional probabilities with Laplace smoothing P(B=b_value|A=a_value) for each a_value in a_values.\n",
    "\n",
    "    Parameters:\n",
    "    - df: DataFrame containing the data\n",
    "    - a_values: List of unique values in column A for which to calculate the conditional probabilities\n",
    "    - b_value: The specific value in column B for which to calculate the conditional probability\n",
    "    - k: The smoothing parameter (default 1 for Laplace smoothing)\n",
    "\n",
    "    Returns:\n",
    "    A dictionary with keys as A values and values as the corresponding conditional probabilities with Laplace smoothing.\n",
    "    \"\"\"\n",
    "    probabilities_laplace = {}\n",
    "    for a_value in a_values:\n",
    "        # Filtering df for the specific A value\n",
    "        df_filtered_a = df[df['A'] == a_value]\n",
    "        # Counting occurrences where B equals b_value given A equals a_value with Laplace smoothing\n",
    "        count_b_given_a = len(df_filtered_a[df_filtered_a['B'] == b_value]) + k\n",
    "        # Adjusting denominator for Laplace smoothing\n",
    "        total_possible_b_values = len(df['B'].unique())  # Number of unique B values\n",
    "        smoothed_denominator = len(df_filtered_a) + k * total_possible_b_values\n",
    "        # Calculating the probability with Laplace smoothing\n",
    "        probability_laplace = count_b_given_a / smoothed_denominator\n",
    "        probabilities_laplace[a_value] = probability_laplace\n",
    "    return probabilities_laplace\n"
   ]
  },
  {
   "cell_type": "markdown",
   "metadata": {},
   "source": [
    "<h4 style = 'color:green'>Assignment - 5.1 Compute Conditional Probabilities</h4>"
   ]
  },
  {
   "cell_type": "code",
   "execution_count": 3,
   "metadata": {},
   "outputs": [
    {
     "data": {
      "text/html": [
       "<div>\n",
       "<style scoped>\n",
       "    .dataframe tbody tr th:only-of-type {\n",
       "        vertical-align: middle;\n",
       "    }\n",
       "\n",
       "    .dataframe tbody tr th {\n",
       "        vertical-align: top;\n",
       "    }\n",
       "\n",
       "    .dataframe thead th {\n",
       "        text-align: right;\n",
       "    }\n",
       "</style>\n",
       "<table border=\"1\" class=\"dataframe\">\n",
       "  <thead>\n",
       "    <tr style=\"text-align: right;\">\n",
       "      <th></th>\n",
       "      <th>#</th>\n",
       "      <th>A</th>\n",
       "      <th>B</th>\n",
       "    </tr>\n",
       "  </thead>\n",
       "  <tbody>\n",
       "    <tr>\n",
       "      <th>0</th>\n",
       "      <td>1</td>\n",
       "      <td>A1</td>\n",
       "      <td>B1</td>\n",
       "    </tr>\n",
       "    <tr>\n",
       "      <th>1</th>\n",
       "      <td>2</td>\n",
       "      <td>A2</td>\n",
       "      <td>B2</td>\n",
       "    </tr>\n",
       "    <tr>\n",
       "      <th>2</th>\n",
       "      <td>3</td>\n",
       "      <td>A2</td>\n",
       "      <td>B2</td>\n",
       "    </tr>\n",
       "    <tr>\n",
       "      <th>3</th>\n",
       "      <td>4</td>\n",
       "      <td>A1</td>\n",
       "      <td>B1</td>\n",
       "    </tr>\n",
       "    <tr>\n",
       "      <th>4</th>\n",
       "      <td>5</td>\n",
       "      <td>A3</td>\n",
       "      <td>B4</td>\n",
       "    </tr>\n",
       "    <tr>\n",
       "      <th>5</th>\n",
       "      <td>6</td>\n",
       "      <td>A3</td>\n",
       "      <td>B3</td>\n",
       "    </tr>\n",
       "    <tr>\n",
       "      <th>6</th>\n",
       "      <td>7</td>\n",
       "      <td>A1</td>\n",
       "      <td>B4</td>\n",
       "    </tr>\n",
       "    <tr>\n",
       "      <th>7</th>\n",
       "      <td>8</td>\n",
       "      <td>A3</td>\n",
       "      <td>B4</td>\n",
       "    </tr>\n",
       "    <tr>\n",
       "      <th>8</th>\n",
       "      <td>9</td>\n",
       "      <td>A1</td>\n",
       "      <td>B3</td>\n",
       "    </tr>\n",
       "  </tbody>\n",
       "</table>\n",
       "</div>"
      ],
      "text/plain": [
       "   #   A   B\n",
       "0  1  A1  B1\n",
       "1  2  A2  B2\n",
       "2  3  A2  B2\n",
       "3  4  A1  B1\n",
       "4  5  A3  B4\n",
       "5  6  A3  B3\n",
       "6  7  A1  B4\n",
       "7  8  A3  B4\n",
       "8  9  A1  B3"
      ]
     },
     "execution_count": 3,
     "metadata": {},
     "output_type": "execute_result"
    }
   ],
   "source": [
    "df = pd.DataFrame({\n",
    "    '#': np.arange(1, 10),\n",
    "    'A': ['A1', 'A2', 'A2', 'A1', 'A3', 'A3', 'A1', 'A3', 'A1'],\n",
    "    'B': ['B1', 'B2', 'B2', 'B1', 'B4', 'B3', 'B4', 'B4', 'B3']\n",
    "})\n",
    "df"
   ]
  },
  {
   "cell_type": "code",
   "execution_count": 5,
   "metadata": {},
   "outputs": [
    {
     "name": "stdout",
     "output_type": "stream",
     "text": [
      "{'A1': 0.5, 'A2': 0.0, 'A3': 0.0}\n"
     ]
    }
   ],
   "source": [
    "# P(B=B1|A=A1); P(B=B1|A=A2); P(B=B1|A=A3)\n",
    "\n",
    "a_values = ['A1', 'A2', 'A3']\n",
    "b_value = 'B1'\n",
    "probabilities = calculate_conditional_probabilities(df, a_values, b_value)\n",
    "print(probabilities)"
   ]
  },
  {
   "cell_type": "code",
   "execution_count": 6,
   "metadata": {},
   "outputs": [
    {
     "name": "stdout",
     "output_type": "stream",
     "text": [
      "{'A1': 0.0, 'A2': 1.0, 'A3': 0.0}\n"
     ]
    }
   ],
   "source": [
    "# P(B=B2|A=A1); P(B=B2|A=A2); P(B=B2|A=A3)\n",
    "\n",
    "a_values = ['A1', 'A2', 'A3']\n",
    "b_value = 'B2'\n",
    "probabilities = calculate_conditional_probabilities(df, a_values, b_value)\n",
    "print(probabilities)"
   ]
  },
  {
   "cell_type": "code",
   "execution_count": 7,
   "metadata": {},
   "outputs": [
    {
     "name": "stdout",
     "output_type": "stream",
     "text": [
      "{'A1': 0.25, 'A2': 0.0, 'A3': 0.3333333333333333}\n"
     ]
    }
   ],
   "source": [
    "# P(B=B3|A=A1); P(B=B3|A=A2); P(B=B3|A=A3)\n",
    "\n",
    "a_values = ['A1', 'A2', 'A3']\n",
    "b_value = 'B3'\n",
    "probabilities = calculate_conditional_probabilities(df, a_values, b_value)\n",
    "print(probabilities)"
   ]
  },
  {
   "cell_type": "code",
   "execution_count": 8,
   "metadata": {},
   "outputs": [
    {
     "name": "stdout",
     "output_type": "stream",
     "text": [
      "{'A1': 0.25, 'A2': 0.0, 'A3': 0.6666666666666666}\n"
     ]
    }
   ],
   "source": [
    "# P(B=B4|A=A1); P(B=B4|A=A2); P(B=B4|A=A3)\n",
    "\n",
    "a_values = ['A1', 'A2', 'A3']\n",
    "b_value = 'B4'\n",
    "probabilities = calculate_conditional_probabilities(df, a_values, b_value)\n",
    "print(probabilities)"
   ]
  },
  {
   "cell_type": "code",
   "execution_count": 9,
   "metadata": {},
   "outputs": [
    {
     "name": "stdout",
     "output_type": "stream",
     "text": [
      "{'A1': 0.0, 'A2': 0.0, 'A3': 0.0}\n"
     ]
    }
   ],
   "source": [
    "# P(B=B5|A=A1); P(B=B5|A=A2); P(B=B5|A=A3)\n",
    "a_values = ['A1', 'A2', 'A3']\n",
    "b_value = 'B5'\n",
    "probabilities = calculate_conditional_probabilities(df, a_values, b_value)\n",
    "print(probabilities)"
   ]
  },
  {
   "cell_type": "markdown",
   "metadata": {},
   "source": [
    "<h4 style = 'color:green'>Assignment - 5.2 Compute Laplace Smoothing Probabilities</h4>"
   ]
  },
  {
   "cell_type": "code",
   "execution_count": 12,
   "metadata": {},
   "outputs": [
    {
     "name": "stdout",
     "output_type": "stream",
     "text": [
      "{'A1': 0.375, 'A2': 0.16666666666666666, 'A3': 0.14285714285714285}\n"
     ]
    }
   ],
   "source": [
    "# P(B=B1|A=A1); P(B=B1|A=A2); P(B=B1|A=A3)\n",
    "\n",
    "a_values = ['A1', 'A2', 'A3']\n",
    "b_value = 'B1'\n",
    "probabilities_laplace = calculate_conditional_probabilities_laplace(df, a_values, b_value)\n",
    "print(probabilities_laplace)"
   ]
  },
  {
   "cell_type": "code",
   "execution_count": 13,
   "metadata": {},
   "outputs": [
    {
     "name": "stdout",
     "output_type": "stream",
     "text": [
      "{'A1': 0.125, 'A2': 0.5, 'A3': 0.14285714285714285}\n"
     ]
    }
   ],
   "source": [
    "# P(B=B2|A=A1); P(B=B2|A=A2); P(B=B2|A=A3)\n",
    "\n",
    "a_values = ['A1', 'A2', 'A3']\n",
    "b_value = 'B2'\n",
    "probabilities_laplace = calculate_conditional_probabilities_laplace(df, a_values, b_value)\n",
    "print(probabilities_laplace)"
   ]
  },
  {
   "cell_type": "code",
   "execution_count": 14,
   "metadata": {},
   "outputs": [
    {
     "name": "stdout",
     "output_type": "stream",
     "text": [
      "{'A1': 0.25, 'A2': 0.16666666666666666, 'A3': 0.2857142857142857}\n"
     ]
    }
   ],
   "source": [
    "# P(B=B3|A=A1); P(B=B3|A=A2); P(B=B3|A=A3)\n",
    "\n",
    "a_values = ['A1', 'A2', 'A3']\n",
    "b_value = 'B3'\n",
    "probabilities_laplace = calculate_conditional_probabilities_laplace(df, a_values, b_value)\n",
    "print(probabilities_laplace)"
   ]
  },
  {
   "cell_type": "code",
   "execution_count": 15,
   "metadata": {},
   "outputs": [
    {
     "name": "stdout",
     "output_type": "stream",
     "text": [
      "{'A1': 0.25, 'A2': 0.16666666666666666, 'A3': 0.42857142857142855}\n"
     ]
    }
   ],
   "source": [
    "# P(B=B4|A=A1); P(B=B4|A=A2); P(B=B4|A=A3)\n",
    "\n",
    "a_values = ['A1', 'A2', 'A3']\n",
    "b_value = 'B4'\n",
    "probabilities_laplace = calculate_conditional_probabilities_laplace(df, a_values, b_value)\n",
    "print(probabilities_laplace)"
   ]
  },
  {
   "cell_type": "code",
   "execution_count": 16,
   "metadata": {},
   "outputs": [
    {
     "name": "stdout",
     "output_type": "stream",
     "text": [
      "{'A1': 0.125, 'A2': 0.16666666666666666, 'A3': 0.14285714285714285}\n"
     ]
    }
   ],
   "source": [
    "# P(B=B5|A=A1); P(B=B5|A=A2); P(B=B5|A=A3)\n",
    "\n",
    "a_values = ['A1', 'A2', 'A3']\n",
    "b_value = 'B5'\n",
    "probabilities_laplace = calculate_conditional_probabilities_laplace(df, a_values, b_value)\n",
    "print(probabilities_laplace)"
   ]
  },
  {
   "cell_type": "code",
   "execution_count": null,
   "metadata": {},
   "outputs": [],
   "source": []
  }
 ],
 "metadata": {
  "kernelspec": {
   "display_name": "base",
   "language": "python",
   "name": "python3"
  },
  "language_info": {
   "codemirror_mode": {
    "name": "ipython",
    "version": 3
   },
   "file_extension": ".py",
   "mimetype": "text/x-python",
   "name": "python",
   "nbconvert_exporter": "python",
   "pygments_lexer": "ipython3",
   "version": "3.11.5"
  }
 },
 "nbformat": 4,
 "nbformat_minor": 2
}
