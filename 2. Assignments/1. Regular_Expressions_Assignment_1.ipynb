{
 "cells": [
  {
   "cell_type": "markdown",
   "metadata": {},
   "source": [
    "<h1>CS 41344 - Natural Language Processing</h1>\n",
    "<h2 style = 'color:yellow'>Assignment - 1: Regular Expressions</h2>"
   ]
  },
  {
   "cell_type": "markdown",
   "metadata": {},
   "source": [
    "<h3 style = 'color:lightgreen'>0. Import Libraries</h3>"
   ]
  },
  {
   "cell_type": "code",
   "execution_count": 1,
   "metadata": {},
   "outputs": [],
   "source": [
    "import pandas as pd\n",
    "import re"
   ]
  },
  {
   "cell_type": "code",
   "execution_count": 2,
   "metadata": {},
   "outputs": [
    {
     "data": {
      "text/html": [
       "<div>\n",
       "<style scoped>\n",
       "    .dataframe tbody tr th:only-of-type {\n",
       "        vertical-align: middle;\n",
       "    }\n",
       "\n",
       "    .dataframe tbody tr th {\n",
       "        vertical-align: top;\n",
       "    }\n",
       "\n",
       "    .dataframe thead th {\n",
       "        text-align: right;\n",
       "    }\n",
       "</style>\n",
       "<table border=\"1\" class=\"dataframe\">\n",
       "  <thead>\n",
       "    <tr style=\"text-align: right;\">\n",
       "      <th></th>\n",
       "      <th>Country</th>\n",
       "      <th>Latitude</th>\n",
       "      <th>Area</th>\n",
       "      <th>Population</th>\n",
       "      <th>Flora</th>\n",
       "      <th>Endemism</th>\n",
       "      <th>Continent</th>\n",
       "    </tr>\n",
       "  </thead>\n",
       "  <tbody>\n",
       "    <tr>\n",
       "      <th>0</th>\n",
       "      <td>NaN</td>\n",
       "      <td>NaN</td>\n",
       "      <td>NaN</td>\n",
       "      <td>NaN</td>\n",
       "      <td>NaN</td>\n",
       "      <td>NaN</td>\n",
       "      <td>NaN</td>\n",
       "    </tr>\n",
       "    <tr>\n",
       "      <th>1</th>\n",
       "      <td>Afghanistan</td>\n",
       "      <td>30.0</td>\n",
       "      <td>636.0</td>\n",
       "      <td>14.3</td>\n",
       "      <td>3000.0</td>\n",
       "      <td>0.270</td>\n",
       "      <td>Asia</td>\n",
       "    </tr>\n",
       "    <tr>\n",
       "      <th>2</th>\n",
       "      <td>NaN</td>\n",
       "      <td>NaN</td>\n",
       "      <td>NaN</td>\n",
       "      <td>NaN</td>\n",
       "      <td>NaN</td>\n",
       "      <td>NaN</td>\n",
       "      <td>NaN</td>\n",
       "    </tr>\n",
       "    <tr>\n",
       "      <th>3</th>\n",
       "      <td>Albania</td>\n",
       "      <td>42.0</td>\n",
       "      <td>29.0</td>\n",
       "      <td>3.0</td>\n",
       "      <td>3200.0</td>\n",
       "      <td>0.008</td>\n",
       "      <td>Europe</td>\n",
       "    </tr>\n",
       "    <tr>\n",
       "      <th>4</th>\n",
       "      <td>Algeria</td>\n",
       "      <td>35.0</td>\n",
       "      <td>2382.0</td>\n",
       "      <td>21.3</td>\n",
       "      <td>3139.0</td>\n",
       "      <td>0.080</td>\n",
       "      <td>N.Africa</td>\n",
       "    </tr>\n",
       "  </tbody>\n",
       "</table>\n",
       "</div>"
      ],
      "text/plain": [
       "       Country  Latitude    Area  Population   Flora  Endemism Continent\n",
       "0          NaN       NaN     NaN         NaN     NaN       NaN       NaN\n",
       "1  Afghanistan      30.0   636.0        14.3  3000.0     0.270      Asia\n",
       "2          NaN       NaN     NaN         NaN     NaN       NaN       NaN\n",
       "3      Albania      42.0    29.0         3.0  3200.0     0.008    Europe\n",
       "4      Algeria      35.0  2382.0        21.3  3139.0     0.080  N.Africa"
      ]
     },
     "execution_count": 2,
     "metadata": {},
     "output_type": "execute_result"
    }
   ],
   "source": [
    "df = pd.read_csv('../0. Data/worldfloras.csv')\n",
    "df.head()"
   ]
  },
  {
   "cell_type": "code",
   "execution_count": 3,
   "metadata": {},
   "outputs": [
    {
     "name": "stdout",
     "output_type": "stream",
     "text": [
      "<class 'pandas.core.frame.DataFrame'>\n",
      "RangeIndex: 163 entries, 0 to 162\n",
      "Data columns (total 7 columns):\n",
      " #   Column      Non-Null Count  Dtype  \n",
      "---  ------      --------------  -----  \n",
      " 0   Country     161 non-null    object \n",
      " 1   Latitude    161 non-null    float64\n",
      " 2   Area        161 non-null    float64\n",
      " 3   Population  161 non-null    float64\n",
      " 4   Flora       161 non-null    float64\n",
      " 5   Endemism    161 non-null    float64\n",
      " 6   Continent   161 non-null    object \n",
      "dtypes: float64(5), object(2)\n",
      "memory usage: 9.0+ KB\n"
     ]
    }
   ],
   "source": [
    "df.info()"
   ]
  },
  {
   "cell_type": "code",
   "execution_count": 4,
   "metadata": {},
   "outputs": [
    {
     "data": {
      "text/plain": [
       "Country\n",
       "True     161\n",
       "False      2\n",
       "Name: count, dtype: int64"
      ]
     },
     "execution_count": 4,
     "metadata": {},
     "output_type": "execute_result"
    }
   ],
   "source": [
    "df['Country'].notnull().value_counts()"
   ]
  },
  {
   "cell_type": "code",
   "execution_count": 5,
   "metadata": {},
   "outputs": [
    {
     "name": "stdout",
     "output_type": "stream",
     "text": [
      "<class 'pandas.core.frame.DataFrame'>\n",
      "Index: 161 entries, 1 to 162\n",
      "Data columns (total 7 columns):\n",
      " #   Column      Non-Null Count  Dtype  \n",
      "---  ------      --------------  -----  \n",
      " 0   Country     161 non-null    object \n",
      " 1   Latitude    161 non-null    float64\n",
      " 2   Area        161 non-null    float64\n",
      " 3   Population  161 non-null    float64\n",
      " 4   Flora       161 non-null    float64\n",
      " 5   Endemism    161 non-null    float64\n",
      " 6   Continent   161 non-null    object \n",
      "dtypes: float64(5), object(2)\n",
      "memory usage: 10.1+ KB\n"
     ]
    }
   ],
   "source": [
    "# Remove rows with Country = NaN\n",
    "df = df[df['Country'].notnull()]\n",
    "df.info()"
   ]
  },
  {
   "cell_type": "markdown",
   "metadata": {},
   "source": [
    "<h3 style = 'color:lightgreen'>1. Homework Assignment</h3>"
   ]
  },
  {
   "cell_type": "code",
   "execution_count": 6,
   "metadata": {},
   "outputs": [
    {
     "name": "stdout",
     "output_type": "stream",
     "text": [
      "40               Denmark\n",
      "41    Dominican Republic\n",
      "42               Ecuador\n",
      "43                 Egypt\n",
      "44           El Salvador\n",
      "45              Ethiopia\n",
      "Name: Country, dtype: object\n"
     ]
    }
   ],
   "source": [
    "# Find all words that begin with the letter D or E.\n",
    "\n",
    "boolean_mask = df['Country'].str.contains(r'^[D-E]\\w+', regex=True)\n",
    "print(df[boolean_mask]['Country'])"
   ]
  },
  {
   "cell_type": "code",
   "execution_count": 10,
   "metadata": {},
   "outputs": [
    {
     "name": "stdout",
     "output_type": "stream",
     "text": [
      "102    New Caledonia\n",
      "103      New Zealand\n",
      "Name: Country, dtype: object\n"
     ]
    }
   ],
   "source": [
    "# Display country names that start with the word 'New'\n",
    "\n",
    "boolean_mask = df['Country'].str.contains(r'^New\\s\\w+', regex=True)\n",
    "print(df[boolean_mask]['Country'])"
   ]
  },
  {
   "cell_type": "code",
   "execution_count": 11,
   "metadata": {},
   "outputs": [
    {
     "name": "stdout",
     "output_type": "stream",
     "text": [
      "38     Cyprus\n",
      "140     Syria\n",
      "Name: Country, dtype: object\n"
     ]
    }
   ],
   "source": [
    "# Display country names that have a character 'y' as the second character.\n",
    "boolean_mask = df['Country'].str.contains(r'^.{1}y.*', regex=True)\n",
    "print(df[boolean_mask]['Country'])\n"
   ]
  },
  {
   "cell_type": "code",
   "execution_count": 12,
   "metadata": {},
   "outputs": [
    {
     "name": "stdout",
     "output_type": "stream",
     "text": [
      "107    Norway\n",
      "126    Sicily\n",
      "148    Turkey\n",
      "Name: Country, dtype: object\n"
     ]
    }
   ],
   "source": [
    "# Display country names that have the character 'y' as the 6th character.\n",
    "\n",
    "boolean_mask = df['Country'].str.contains(r'^.{5}y.*', regex=True)\n",
    "print(df[boolean_mask]['Country'])"
   ]
  },
  {
   "cell_type": "code",
   "execution_count": 13,
   "metadata": {},
   "outputs": [
    {
     "name": "stdout",
     "output_type": "stream",
     "text": [
      "39     Czechoslovakia\n",
      "86      Liechtenstein\n",
      "125        Seychelles\n",
      "Name: Country, dtype: object\n"
     ]
    }
   ],
   "source": [
    "# Display the country names that have a character 'c' as the fourth character.\n",
    "\n",
    "boolean_mask = df['Country'].str.contains(r'^.{3}c.*', regex=True)\n",
    "print(df[boolean_mask]['Country'])"
   ]
  }
 ],
 "metadata": {
  "kernelspec": {
   "display_name": "base",
   "language": "python",
   "name": "python3"
  },
  "language_info": {
   "codemirror_mode": {
    "name": "ipython",
    "version": 3
   },
   "file_extension": ".py",
   "mimetype": "text/x-python",
   "name": "python",
   "nbconvert_exporter": "python",
   "pygments_lexer": "ipython3",
   "version": "3.11.5"
  }
 },
 "nbformat": 4,
 "nbformat_minor": 2
}
