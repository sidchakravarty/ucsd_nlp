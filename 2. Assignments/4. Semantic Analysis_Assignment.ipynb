{
 "cells": [
  {
   "cell_type": "markdown",
   "metadata": {},
   "source": [
    "<h1>CS 41344 - Natural Language Processing</h1>\n",
    "<h2 style = 'color:yellow'>Assignment - 4: Semantic Analysis</h2>"
   ]
  },
  {
   "cell_type": "markdown",
   "metadata": {},
   "source": [
    "<h3 style = 'color:lightgreen'>Assignment - 4.0 Import Libraries</h3>"
   ]
  },
  {
   "cell_type": "code",
   "execution_count": 1,
   "metadata": {},
   "outputs": [],
   "source": [
    "import numpy as np\n",
    "import pandas as pd\n",
    "import matplotlib.pyplot as plt\n",
    "from scipy import linalg as lg\n",
    "\n",
    "from sklearn.feature_extraction.text import CountVectorizer\n",
    "from sklearn.decomposition import TruncatedSVD"
   ]
  },
  {
   "cell_type": "markdown",
   "metadata": {},
   "source": [
    "<h3 style = 'color:lightgreen'>Assignment - 4.1 Assignment Problems</h3>"
   ]
  },
  {
   "cell_type": "markdown",
   "metadata": {},
   "source": [
    "<h4 style = 'color:green'>4.1.1 Compute the Eigen Vectors and Eigen Values of the following 3 matrices</h4>"
   ]
  },
  {
   "cell_type": "markdown",
   "metadata": {},
   "source": [
    "Eigen vectors and eigen values cannot be computed if we have a non-square matrix. This is because to perform a linear transformation that stretches or flips the vector, and not change the direction, we need a square matrix."
   ]
  },
  {
   "cell_type": "code",
   "execution_count": 2,
   "metadata": {},
   "outputs": [],
   "source": [
    "def calculate_eigenvalues_and_eigenvectors(A):\n",
    "    eigenvalues, eigenvectors = lg.eig(A)\n",
    "    return eigenvalues, eigenvectors"
   ]
  },
  {
   "cell_type": "code",
   "execution_count": 3,
   "metadata": {},
   "outputs": [],
   "source": [
    "def print_eigenvalues_and_eigenvectors(A):\n",
    "    eigenvalues, eigenvectors = calculate_eigenvalues_and_eigenvectors(A)\n",
    "    print(\"Eigenvalues:\")\n",
    "    print(np.real(eigenvalues))\n",
    "    print(\"Eigenvectors:\")\n",
    "    print(np.real(eigenvectors))"
   ]
  },
  {
   "cell_type": "code",
   "execution_count": 4,
   "metadata": {},
   "outputs": [
    {
     "data": {
      "text/plain": [
       "array([[2, 0],\n",
       "       [0, 5]])"
      ]
     },
     "execution_count": 4,
     "metadata": {},
     "output_type": "execute_result"
    }
   ],
   "source": [
    "A = np.array([\n",
    "    [2, 0],\n",
    "    [0, 5]\n",
    "])\n",
    "A"
   ]
  },
  {
   "cell_type": "code",
   "execution_count": 5,
   "metadata": {},
   "outputs": [
    {
     "name": "stdout",
     "output_type": "stream",
     "text": [
      "Eigenvalues:\n",
      "[2. 5.]\n",
      "Eigenvectors:\n",
      "[[1. 0.]\n",
      " [0. 1.]]\n"
     ]
    }
   ],
   "source": [
    "print_eigenvalues_and_eigenvectors(A)"
   ]
  },
  {
   "cell_type": "code",
   "execution_count": 6,
   "metadata": {},
   "outputs": [
    {
     "data": {
      "text/plain": [
       "array([[4, 1, 6],\n",
       "       [0, 2, 3],\n",
       "       [0, 0, 9]])"
      ]
     },
     "execution_count": 6,
     "metadata": {},
     "output_type": "execute_result"
    }
   ],
   "source": [
    "B = np.array([\n",
    "    [4, 1, 6],\n",
    "    [0, 2, 3],\n",
    "    [0, 0, 9]\n",
    "])\n",
    "B"
   ]
  },
  {
   "cell_type": "code",
   "execution_count": 7,
   "metadata": {},
   "outputs": [
    {
     "name": "stdout",
     "output_type": "stream",
     "text": [
      "Eigenvalues:\n",
      "[4. 2. 9.]\n",
      "Eigenvectors:\n",
      "[[ 1.         -0.4472136   0.76337004]\n",
      " [ 0.          0.89442719  0.25445668]\n",
      " [ 0.          0.          0.59373225]]\n"
     ]
    }
   ],
   "source": [
    "print_eigenvalues_and_eigenvectors(B)"
   ]
  },
  {
   "cell_type": "code",
   "execution_count": 8,
   "metadata": {},
   "outputs": [
    {
     "data": {
      "text/plain": [
       "array([[1, 4, 0, 0],\n",
       "       [0, 2, 0, 0],\n",
       "       [5, 3, 1, 1],\n",
       "       [4, 7, 2, 2]])"
      ]
     },
     "execution_count": 8,
     "metadata": {},
     "output_type": "execute_result"
    }
   ],
   "source": [
    "C = np.array([\n",
    "    [1, 4, 0, 0],\n",
    "    [0, 2, 0, 0],\n",
    "    [5, 3, 1, 1],\n",
    "    [4, 7, 2, 2]\n",
    "])\n",
    "C"
   ]
  },
  {
   "cell_type": "code",
   "execution_count": 9,
   "metadata": {},
   "outputs": [
    {
     "name": "stdout",
     "output_type": "stream",
     "text": [
      "Eigenvalues:\n",
      "[0. 3. 1. 2.]\n",
      "Eigenvectors:\n",
      "[[ 0.          0.          0.19518001  0.10929207]\n",
      " [ 0.          0.          0.          0.02732302]\n",
      " [-0.70710678 -0.4472136   0.09759001 -0.31421469]\n",
      " [ 0.70710678 -0.89442719 -0.97590007 -0.94264406]]\n"
     ]
    }
   ],
   "source": [
    "print_eigenvalues_and_eigenvectors(C)"
   ]
  },
  {
   "cell_type": "code",
   "execution_count": 10,
   "metadata": {},
   "outputs": [
    {
     "name": "stdout",
     "output_type": "stream",
     "text": [
      "0.9375\n"
     ]
    }
   ],
   "source": [
    "total = 80\n",
    "marks = 75\n",
    "print(marks/total)"
   ]
  },
  {
   "cell_type": "markdown",
   "metadata": {},
   "source": [
    "<h4 style = 'color:green'>4.1.2 Compute the SVD (Singular Value Decomposition) (3 separate matrices U,Sigma,V) of the following matrix.</h4>"
   ]
  },
  {
   "cell_type": "code",
   "execution_count": 11,
   "metadata": {},
   "outputs": [],
   "source": [
    "def calculate_svd(A):\n",
    "    U, s, Vt = lg.svd(A)\n",
    "    return U, s, Vt"
   ]
  },
  {
   "cell_type": "code",
   "execution_count": 12,
   "metadata": {},
   "outputs": [
    {
     "data": {
      "text/plain": [
       "array([[ 5,  7, 21, 32],\n",
       "       [ 0,  3, 43, 24],\n",
       "       [ 2, 36, 95, 84],\n",
       "       [92, 37, 57, 64]])"
      ]
     },
     "execution_count": 12,
     "metadata": {},
     "output_type": "execute_result"
    }
   ],
   "source": [
    "A = np.array([\n",
    "    [5, 7, 21, 32],\n",
    "    [0, 3, 43, 24],\n",
    "    [2, 36, 95, 84],\n",
    "    [92, 37, 57, 64]\n",
    "])\n",
    "A"
   ]
  },
  {
   "cell_type": "code",
   "execution_count": 13,
   "metadata": {},
   "outputs": [
    {
     "name": "stdout",
     "output_type": "stream",
     "text": [
      "U:\n",
      "[[-0.20468979 -0.10450951 -0.51344003 -0.82677638]\n",
      " [-0.24019891 -0.2628848   0.8325511  -0.42432856]\n",
      " [-0.68596945 -0.59544671 -0.19825567  0.36821708]\n",
      " [-0.65563137  0.7519392   0.06271115  0.02832426]]\n",
      "s:\n",
      "[181.08950358  73.81513152  14.85458672   8.32221756]\n",
      "Vt:\n",
      "[[-0.34631203 -0.28221783 -0.64700119 -0.61790819]\n",
      " [ 0.91397203  0.06591396 -0.36856466 -0.15643072]\n",
      " [ 0.18887868 -0.39808031  0.65688152 -0.61185258]\n",
      " [-0.09512076  0.87036804  0.11855891 -0.46835383]]\n"
     ]
    }
   ],
   "source": [
    "U, s, Vt = calculate_svd(A)\n",
    "print(f\"U:\\n{U}\")\n",
    "print(f\"s:\\n{s}\")\n",
    "print(f\"Vt:\\n{Vt}\")"
   ]
  },
  {
   "cell_type": "code",
   "execution_count": 14,
   "metadata": {},
   "outputs": [
    {
     "name": "stdout",
     "output_type": "stream",
     "text": [
      "A_reconstructed:\n",
      "[[ 5.00000000e+00  7.00000000e+00  2.10000000e+01  3.20000000e+01]\n",
      " [-3.55271368e-15  3.00000000e+00  4.30000000e+01  2.40000000e+01]\n",
      " [ 2.00000000e+00  3.60000000e+01  9.50000000e+01  8.40000000e+01]\n",
      " [ 9.20000000e+01  3.70000000e+01  5.70000000e+01  6.40000000e+01]]\n"
     ]
    }
   ],
   "source": [
    "# Recreate the original matrix\n",
    "A_reconstructed = U @ np.diag(s) @ Vt\n",
    "print(f\"A_reconstructed:\\n{A_reconstructed}\")"
   ]
  },
  {
   "cell_type": "code",
   "execution_count": 15,
   "metadata": {},
   "outputs": [
    {
     "name": "stdout",
     "output_type": "stream",
     "text": [
      "Original matrix:\n",
      "[[ 5  7 21 32]\n",
      " [ 0  3 43 24]\n",
      " [ 2 36 95 84]\n",
      " [92 37 57 64]]\n"
     ]
    }
   ],
   "source": [
    "print(f\"Original matrix:\\n{A}\")"
   ]
  },
  {
   "cell_type": "markdown",
   "metadata": {},
   "source": [
    "<h4 style = 'color:green'>4.1.3 Compute the SVD of this new matrix</h4>"
   ]
  },
  {
   "cell_type": "markdown",
   "metadata": {},
   "source": [
    "The last two rows of the sigma matrix are zero because the last two rows of A are linearly dependent."
   ]
  },
  {
   "cell_type": "code",
   "execution_count": 16,
   "metadata": {},
   "outputs": [
    {
     "data": {
      "text/plain": [
       "array([[  2,  39, 138, 108],\n",
       "       [  0,   3,  43,  24],\n",
       "       [  2,  36,  95,  84],\n",
       "       [  0,   3,  43,  24]])"
      ]
     },
     "execution_count": 16,
     "metadata": {},
     "output_type": "execute_result"
    }
   ],
   "source": [
    "# Make the firt row of A = Sum of second and third row of A\n",
    "A[0] = A[1] + A[2]\n",
    "# Make the last row of A = Same as the second row of A\n",
    "A[-1] = A[1]\n",
    "A"
   ]
  },
  {
   "cell_type": "code",
   "execution_count": 17,
   "metadata": {},
   "outputs": [
    {
     "name": "stdout",
     "output_type": "stream",
     "text": [
      "U:\n",
      "[[-0.77161256 -0.06792686  0.62577601 -0.09167545]\n",
      " [-0.20657449 -0.59776833 -0.41538427 -0.65380112]\n",
      " [-0.56503807  0.52984147 -0.62577601  0.09167545]\n",
      " [-0.20657449 -0.59776833 -0.21039173  0.74547657]]\n",
      "s:\n",
      "[2.32669952e+02 1.86197104e+01 1.26987275e-15 7.65382685e-17]\n",
      "Vt:\n",
      "[[-0.01148967 -0.22209016 -0.76471652 -0.60477483]\n",
      " [ 0.04961566  0.68951315 -0.56107449  0.45530794]\n",
      " [ 0.21552967  0.66423277  0.31295486 -0.64373989]\n",
      " [-0.97516831  0.18450585  0.04963176 -0.1119868 ]]\n"
     ]
    }
   ],
   "source": [
    "U, s, Vt = calculate_svd(A)\n",
    "print(f\"U:\\n{U}\")\n",
    "print(f\"s:\\n{s}\")\n",
    "print(f\"Vt:\\n{Vt}\")"
   ]
  },
  {
   "cell_type": "markdown",
   "metadata": {},
   "source": [
    "<h4 style = 'color:green'>4.1.4 Compute the SVD of a rectangular matrix</h4>"
   ]
  },
  {
   "cell_type": "code",
   "execution_count": 18,
   "metadata": {},
   "outputs": [],
   "source": [
    "def calculate_svd_rectangular(A):\n",
    "    U, s, Vt = lg.svd(A, full_matrices=False)\n",
    "    return U, s, Vt"
   ]
  },
  {
   "cell_type": "code",
   "execution_count": 19,
   "metadata": {},
   "outputs": [
    {
     "data": {
      "text/plain": [
       "array([[ 3,  1,  1],\n",
       "       [-1,  3,  1]])"
      ]
     },
     "execution_count": 19,
     "metadata": {},
     "output_type": "execute_result"
    }
   ],
   "source": [
    "A = np.array([\n",
    "    [3, 1, 1],\n",
    "    [-1, 3, 1]\n",
    "])\n",
    "A"
   ]
  },
  {
   "cell_type": "code",
   "execution_count": 20,
   "metadata": {},
   "outputs": [
    {
     "name": "stdout",
     "output_type": "stream",
     "text": [
      "U:\n",
      "[[ 0.70710678 -0.70710678]\n",
      " [ 0.70710678  0.70710678]]\n",
      "s:\n",
      "[3.46410162 3.16227766]\n",
      "Vt:\n",
      "[[ 4.08248290e-01  8.16496581e-01  4.08248290e-01]\n",
      " [-8.94427191e-01  4.47213595e-01  8.32667268e-16]]\n"
     ]
    }
   ],
   "source": [
    "U, s, Vt = calculate_svd_rectangular(A)\n",
    "print(f\"U:\\n{U}\")\n",
    "print(f\"s:\\n{s}\")\n",
    "print(f\"Vt:\\n{Vt}\")"
   ]
  },
  {
   "cell_type": "code",
   "execution_count": 21,
   "metadata": {},
   "outputs": [
    {
     "name": "stdout",
     "output_type": "stream",
     "text": [
      "A_reconstructed:\n",
      "[[ 3.  1.  1.]\n",
      " [-1.  3.  1.]]\n"
     ]
    }
   ],
   "source": [
    "# Recreate the original matrix\n",
    "A_reconstructed = U @ np.diag(s) @ Vt\n",
    "print(f\"A_reconstructed:\\n{A_reconstructed}\")"
   ]
  },
  {
   "cell_type": "code",
   "execution_count": 22,
   "metadata": {},
   "outputs": [
    {
     "data": {
      "text/plain": [
       "array([[ 1,  1],\n",
       "       [ 0,  1],\n",
       "       [-1,  1]])"
      ]
     },
     "execution_count": 22,
     "metadata": {},
     "output_type": "execute_result"
    }
   ],
   "source": [
    "B = np.array([\n",
    "    [1, 1],\n",
    "    [0, 1],\n",
    "    [-1, 1]\n",
    "])\n",
    "B"
   ]
  },
  {
   "cell_type": "code",
   "execution_count": 23,
   "metadata": {},
   "outputs": [
    {
     "name": "stdout",
     "output_type": "stream",
     "text": [
      "U:\n",
      "[[-0.57735027 -0.70710678]\n",
      " [-0.57735027  0.        ]\n",
      " [-0.57735027  0.70710678]]\n",
      "s:\n",
      "[1.73205081 1.41421356]\n",
      "Vt:\n",
      "[[-0. -1.]\n",
      " [-1. -0.]]\n"
     ]
    }
   ],
   "source": [
    "U, s, Vt = calculate_svd_rectangular(B)\n",
    "print(f\"U:\\n{U}\")\n",
    "print(f\"s:\\n{s}\")\n",
    "print(f\"Vt:\\n{Vt}\")"
   ]
  },
  {
   "cell_type": "code",
   "execution_count": 24,
   "metadata": {},
   "outputs": [
    {
     "name": "stdout",
     "output_type": "stream",
     "text": [
      "B_reconstructed:\n",
      "[[ 1.  1.]\n",
      " [ 0.  1.]\n",
      " [-1.  1.]]\n"
     ]
    }
   ],
   "source": [
    "# Recreate the original matrix\n",
    "B_reconstructed = U @ np.diag(s) @ Vt\n",
    "print(f\"B_reconstructed:\\n{B_reconstructed}\")"
   ]
  },
  {
   "cell_type": "markdown",
   "metadata": {},
   "source": [
    "<h4 style = 'color:green'>4.1.5 Using the SVD principals, perform LSA</h4>"
   ]
  },
  {
   "cell_type": "code",
   "execution_count": 25,
   "metadata": {},
   "outputs": [],
   "source": [
    "def normalize_vector(v):\n",
    "    return v / np.sqrt(np.sum(v**2))"
   ]
  },
  {
   "cell_type": "code",
   "execution_count": 26,
   "metadata": {},
   "outputs": [],
   "source": [
    "def calculate_cosine_similarity(v1, v2):\n",
    "    return np.dot(v1, v2)"
   ]
  },
  {
   "cell_type": "code",
   "execution_count": 27,
   "metadata": {},
   "outputs": [],
   "source": [
    "def truncate_svd(U, S, VT, k):\n",
    "    \"\"\"\n",
    "    Truncate the SVD matrices\n",
    "\n",
    "    Parameters\n",
    "    ----------\n",
    "    U : numpy.ndarray\n",
    "        U matrix from SVD decomposition\n",
    "    S : numpy.ndarray\n",
    "        Singular values from SVD decomposition\n",
    "    VT : numpy.ndarray\n",
    "        VT matrix from SVD decomposition\n",
    "    k : int\n",
    "        Number of singular values/columns to retain\n",
    "\n",
    "    Returns\n",
    "    -------\n",
    "    truncated_U : numpy.ndarray\n",
    "        Truncated U matrix\n",
    "    truncated_S : numpy.ndarray\n",
    "        Truncated singular values\n",
    "    truncated_VT : numpy.ndarray\n",
    "        Truncated VT matrix\n",
    "\n",
    "    \"\"\"\n",
    "    truncated_U = U[:, :k]\n",
    "    truncated_S = S[:k]\n",
    "    truncated_S = np.diag(truncated_S)\n",
    "    truncated_VT = VT[:k, :]\n",
    "    return truncated_U, truncated_S, truncated_VT"
   ]
  },
  {
   "cell_type": "code",
   "execution_count": 28,
   "metadata": {},
   "outputs": [],
   "source": [
    "def vectorize(corpus):\n",
    "    \"\"\"\n",
    "    Convert a list of strings into a matrix of token counts\n",
    "    \n",
    "    Parameters\n",
    "    ----------\n",
    "    corpus : list\n",
    "        List of strings\n",
    "    \"\"\"\n",
    "    vectorizer = CountVectorizer()\n",
    "    return vectorizer.fit_transform(corpus).toarray(), vectorizer.get_feature_names_out()"
   ]
  },
  {
   "cell_type": "code",
   "execution_count": 29,
   "metadata": {},
   "outputs": [
    {
     "data": {
      "text/plain": [
       "['runs',\n",
       " 'runs pitcher innings',\n",
       " 'pitcher',\n",
       " 'touchdown',\n",
       " 'quarterback',\n",
       " 'touchdown quarterback']"
      ]
     },
     "execution_count": 29,
     "metadata": {},
     "output_type": "execute_result"
    }
   ],
   "source": [
    "corpus = [\n",
    "    'runs',\n",
    "    'runs pitcher innings',\n",
    "    'pitcher',\n",
    "    'touchdown',\n",
    "    'quarterback',\n",
    "    'touchdown quarterback'\n",
    "]\n",
    "corpus"
   ]
  },
  {
   "cell_type": "code",
   "execution_count": 30,
   "metadata": {},
   "outputs": [
    {
     "data": {
      "text/plain": [
       "array([[0, 0, 0, 1, 0],\n",
       "       [1, 1, 0, 1, 0],\n",
       "       [0, 1, 0, 0, 0],\n",
       "       [0, 0, 0, 0, 1],\n",
       "       [0, 0, 1, 0, 0],\n",
       "       [0, 0, 1, 0, 1]], dtype=int64)"
      ]
     },
     "execution_count": 30,
     "metadata": {},
     "output_type": "execute_result"
    }
   ],
   "source": [
    "bagofwords, feature_names = vectorize(corpus)\n",
    "bagofwords"
   ]
  },
  {
   "cell_type": "code",
   "execution_count": 32,
   "metadata": {},
   "outputs": [
    {
     "data": {
      "text/html": [
       "<div>\n",
       "<style scoped>\n",
       "    .dataframe tbody tr th:only-of-type {\n",
       "        vertical-align: middle;\n",
       "    }\n",
       "\n",
       "    .dataframe tbody tr th {\n",
       "        vertical-align: top;\n",
       "    }\n",
       "\n",
       "    .dataframe thead th {\n",
       "        text-align: right;\n",
       "    }\n",
       "</style>\n",
       "<table border=\"1\" class=\"dataframe\">\n",
       "  <thead>\n",
       "    <tr style=\"text-align: right;\">\n",
       "      <th></th>\n",
       "      <th>innings</th>\n",
       "      <th>pitcher</th>\n",
       "      <th>quarterback</th>\n",
       "      <th>runs</th>\n",
       "      <th>touchdown</th>\n",
       "    </tr>\n",
       "  </thead>\n",
       "  <tbody>\n",
       "    <tr>\n",
       "      <th>0</th>\n",
       "      <td>0</td>\n",
       "      <td>0</td>\n",
       "      <td>0</td>\n",
       "      <td>1</td>\n",
       "      <td>0</td>\n",
       "    </tr>\n",
       "    <tr>\n",
       "      <th>1</th>\n",
       "      <td>1</td>\n",
       "      <td>1</td>\n",
       "      <td>0</td>\n",
       "      <td>1</td>\n",
       "      <td>0</td>\n",
       "    </tr>\n",
       "    <tr>\n",
       "      <th>2</th>\n",
       "      <td>0</td>\n",
       "      <td>1</td>\n",
       "      <td>0</td>\n",
       "      <td>0</td>\n",
       "      <td>0</td>\n",
       "    </tr>\n",
       "    <tr>\n",
       "      <th>3</th>\n",
       "      <td>0</td>\n",
       "      <td>0</td>\n",
       "      <td>0</td>\n",
       "      <td>0</td>\n",
       "      <td>1</td>\n",
       "    </tr>\n",
       "    <tr>\n",
       "      <th>4</th>\n",
       "      <td>0</td>\n",
       "      <td>0</td>\n",
       "      <td>1</td>\n",
       "      <td>0</td>\n",
       "      <td>0</td>\n",
       "    </tr>\n",
       "    <tr>\n",
       "      <th>5</th>\n",
       "      <td>0</td>\n",
       "      <td>0</td>\n",
       "      <td>1</td>\n",
       "      <td>0</td>\n",
       "      <td>1</td>\n",
       "    </tr>\n",
       "  </tbody>\n",
       "</table>\n",
       "</div>"
      ],
      "text/plain": [
       "   innings  pitcher  quarterback  runs  touchdown\n",
       "0        0        0            0     1          0\n",
       "1        1        1            0     1          0\n",
       "2        0        1            0     0          0\n",
       "3        0        0            0     0          1\n",
       "4        0        0            1     0          0\n",
       "5        0        0            1     0          1"
      ]
     },
     "execution_count": 32,
     "metadata": {},
     "output_type": "execute_result"
    }
   ],
   "source": [
    "document_vector = pd.DataFrame(bagofwords, columns=feature_names)\n",
    "document_vector"
   ]
  },
  {
   "cell_type": "code",
   "execution_count": 34,
   "metadata": {},
   "outputs": [
    {
     "data": {
      "text/plain": [
       "[array([0, 0, 0, 1, 0], dtype=int64),\n",
       " array([1, 1, 0, 1, 0], dtype=int64),\n",
       " array([0, 1, 0, 0, 0], dtype=int64),\n",
       " array([0, 0, 0, 0, 1], dtype=int64),\n",
       " array([0, 0, 1, 0, 0], dtype=int64),\n",
       " array([0, 0, 1, 0, 1], dtype=int64)]"
      ]
     },
     "execution_count": 34,
     "metadata": {},
     "output_type": "execute_result"
    }
   ],
   "source": [
    "# Create vectors\n",
    "A = bagofwords[0]\n",
    "B = bagofwords[1]\n",
    "C = bagofwords[2]\n",
    "D = bagofwords[3]\n",
    "E = bagofwords[4]\n",
    "F = bagofwords[5]\n",
    "\n",
    "vectors = [A, B, C, D, E, F]\n",
    "vectors"
   ]
  },
  {
   "cell_type": "code",
   "execution_count": 36,
   "metadata": {},
   "outputs": [
    {
     "data": {
      "text/html": [
       "<div>\n",
       "<style scoped>\n",
       "    .dataframe tbody tr th:only-of-type {\n",
       "        vertical-align: middle;\n",
       "    }\n",
       "\n",
       "    .dataframe tbody tr th {\n",
       "        vertical-align: top;\n",
       "    }\n",
       "\n",
       "    .dataframe thead th {\n",
       "        text-align: right;\n",
       "    }\n",
       "</style>\n",
       "<table border=\"1\" class=\"dataframe\">\n",
       "  <thead>\n",
       "    <tr style=\"text-align: right;\">\n",
       "      <th></th>\n",
       "      <th>innings</th>\n",
       "      <th>pitcher</th>\n",
       "      <th>quarterback</th>\n",
       "      <th>runs</th>\n",
       "      <th>touchdown</th>\n",
       "    </tr>\n",
       "  </thead>\n",
       "  <tbody>\n",
       "    <tr>\n",
       "      <th>0</th>\n",
       "      <td>0.00000</td>\n",
       "      <td>0.00000</td>\n",
       "      <td>0.000000</td>\n",
       "      <td>1.00000</td>\n",
       "      <td>0.000000</td>\n",
       "    </tr>\n",
       "    <tr>\n",
       "      <th>1</th>\n",
       "      <td>0.57735</td>\n",
       "      <td>0.57735</td>\n",
       "      <td>0.000000</td>\n",
       "      <td>0.57735</td>\n",
       "      <td>0.000000</td>\n",
       "    </tr>\n",
       "    <tr>\n",
       "      <th>2</th>\n",
       "      <td>0.00000</td>\n",
       "      <td>1.00000</td>\n",
       "      <td>0.000000</td>\n",
       "      <td>0.00000</td>\n",
       "      <td>0.000000</td>\n",
       "    </tr>\n",
       "    <tr>\n",
       "      <th>3</th>\n",
       "      <td>0.00000</td>\n",
       "      <td>0.00000</td>\n",
       "      <td>0.000000</td>\n",
       "      <td>0.00000</td>\n",
       "      <td>1.000000</td>\n",
       "    </tr>\n",
       "    <tr>\n",
       "      <th>4</th>\n",
       "      <td>0.00000</td>\n",
       "      <td>0.00000</td>\n",
       "      <td>1.000000</td>\n",
       "      <td>0.00000</td>\n",
       "      <td>0.000000</td>\n",
       "    </tr>\n",
       "    <tr>\n",
       "      <th>5</th>\n",
       "      <td>0.00000</td>\n",
       "      <td>0.00000</td>\n",
       "      <td>0.707107</td>\n",
       "      <td>0.00000</td>\n",
       "      <td>0.707107</td>\n",
       "    </tr>\n",
       "  </tbody>\n",
       "</table>\n",
       "</div>"
      ],
      "text/plain": [
       "   innings  pitcher  quarterback     runs  touchdown\n",
       "0  0.00000  0.00000     0.000000  1.00000   0.000000\n",
       "1  0.57735  0.57735     0.000000  0.57735   0.000000\n",
       "2  0.00000  1.00000     0.000000  0.00000   0.000000\n",
       "3  0.00000  0.00000     0.000000  0.00000   1.000000\n",
       "4  0.00000  0.00000     1.000000  0.00000   0.000000\n",
       "5  0.00000  0.00000     0.707107  0.00000   0.707107"
      ]
     },
     "execution_count": 36,
     "metadata": {},
     "output_type": "execute_result"
    }
   ],
   "source": [
    "# Create normalized vectors\n",
    "A_normalized = normalize_vector(A)\n",
    "B_normalized = normalize_vector(B)\n",
    "C_normalized = normalize_vector(C)\n",
    "D_normalized = normalize_vector(D)\n",
    "E_normalized = normalize_vector(E)\n",
    "F_normalized = normalize_vector(F)\n",
    "\n",
    "normalized_vectors = [A_normalized, B_normalized, C_normalized, D_normalized, E_normalized, F_normalized]\n",
    "pd.DataFrame(normalized_vectors, columns=feature_names)"
   ]
  },
  {
   "cell_type": "code",
   "execution_count": 37,
   "metadata": {},
   "outputs": [],
   "source": [
    "# Calculate Cosine Similarity and Distance\n",
    "\n",
    "# Calculate Cosine Similarity between all vectors\n",
    "number_of_documents = len(corpus)\n",
    "cosine_similarity_matrix = np.zeros((number_of_documents, number_of_documents))\n",
    "cosine_distance_matrix = np.zeros((number_of_documents, number_of_documents))"
   ]
  },
  {
   "cell_type": "code",
   "execution_count": 38,
   "metadata": {},
   "outputs": [],
   "source": [
    "for i in range(number_of_documents):\n",
    "    for j in range(number_of_documents):\n",
    "        cosine_similarity_matrix[i, j] = calculate_cosine_similarity(normalized_vectors[i], normalized_vectors[j])\n",
    "        cosine_distance_matrix[i, j] = 1 - cosine_similarity_matrix[i, j]"
   ]
  },
  {
   "cell_type": "code",
   "execution_count": 39,
   "metadata": {},
   "outputs": [
    {
     "name": "stdout",
     "output_type": "stream",
     "text": [
      "Cosine Similarity Matrix:\n",
      "[[1.         0.57735027 0.         0.         0.         0.        ]\n",
      " [0.57735027 1.         0.57735027 0.         0.         0.        ]\n",
      " [0.         0.57735027 1.         0.         0.         0.        ]\n",
      " [0.         0.         0.         1.         0.         0.70710678]\n",
      " [0.         0.         0.         0.         1.         0.70710678]\n",
      " [0.         0.         0.         0.70710678 0.70710678 1.        ]]\n"
     ]
    }
   ],
   "source": [
    "print(f\"Cosine Similarity Matrix:\\n{cosine_similarity_matrix}\")"
   ]
  },
  {
   "cell_type": "code",
   "execution_count": 40,
   "metadata": {},
   "outputs": [
    {
     "name": "stdout",
     "output_type": "stream",
     "text": [
      "Cosine Distance Matrix:\n",
      "[[ 0.00000000e+00  4.22649731e-01  1.00000000e+00  1.00000000e+00\n",
      "   1.00000000e+00  1.00000000e+00]\n",
      " [ 4.22649731e-01 -2.22044605e-16  4.22649731e-01  1.00000000e+00\n",
      "   1.00000000e+00  1.00000000e+00]\n",
      " [ 1.00000000e+00  4.22649731e-01  0.00000000e+00  1.00000000e+00\n",
      "   1.00000000e+00  1.00000000e+00]\n",
      " [ 1.00000000e+00  1.00000000e+00  1.00000000e+00  0.00000000e+00\n",
      "   1.00000000e+00  2.92893219e-01]\n",
      " [ 1.00000000e+00  1.00000000e+00  1.00000000e+00  1.00000000e+00\n",
      "   0.00000000e+00  2.92893219e-01]\n",
      " [ 1.00000000e+00  1.00000000e+00  1.00000000e+00  2.92893219e-01\n",
      "   2.92893219e-01  2.22044605e-16]]\n"
     ]
    }
   ],
   "source": [
    "print(f\"Cosine Distance Matrix:\\n{cosine_distance_matrix}\")"
   ]
  },
  {
   "cell_type": "code",
   "execution_count": 43,
   "metadata": {},
   "outputs": [
    {
     "name": "stdout",
     "output_type": "stream",
     "text": [
      "Document Term Matrix:\n",
      "[[0 0 0 1 0]\n",
      " [1 1 0 1 0]\n",
      " [0 1 0 0 0]\n",
      " [0 0 0 0 1]\n",
      " [0 0 1 0 0]\n",
      " [0 0 1 0 1]]\n",
      "\n",
      "Term Document Matrix:\n",
      "[[0 1 0 0 0 0]\n",
      " [0 1 1 0 0 0]\n",
      " [0 0 0 0 1 1]\n",
      " [1 1 0 0 0 0]\n",
      " [0 0 0 1 0 1]]\n"
     ]
    }
   ],
   "source": [
    "# Create Document-Term Matrix Term Document Matrix and calculate SVD\n",
    "\n",
    "A_word = bagofwords.T\n",
    "A_document = bagofwords\n",
    "\n",
    "print(f\"Document Term Matrix:\\n{A_document}\")\n",
    "print()\n",
    "print(f\"Term Document Matrix:\\n{A_word}\")"
   ]
  },
  {
   "cell_type": "code",
   "execution_count": 44,
   "metadata": {},
   "outputs": [
    {
     "name": "stdout",
     "output_type": "stream",
     "text": [
      "U:\n",
      "[[-4.59700843e-01 -0.00000000e+00 -0.00000000e+00 -1.57009246e-16\n",
      "  -8.88073834e-01]\n",
      " [-6.27963030e-01  0.00000000e+00  0.00000000e+00  7.07106781e-01\n",
      "   3.25057584e-01]\n",
      " [ 0.00000000e+00 -7.07106781e-01 -7.07106781e-01  0.00000000e+00\n",
      "   0.00000000e+00]\n",
      " [-6.27963030e-01  0.00000000e+00  0.00000000e+00 -7.07106781e-01\n",
      "   3.25057584e-01]\n",
      " [ 0.00000000e+00 -7.07106781e-01  7.07106781e-01  0.00000000e+00\n",
      "   0.00000000e+00]]\n",
      "\n",
      "S:\n",
      "[1.93185165 1.73205081 1.         1.         0.51763809]\n",
      "\n",
      "VT:\n",
      "[[-3.25057584e-01 -8.88073834e-01 -3.25057584e-01  0.00000000e+00\n",
      "   0.00000000e+00  0.00000000e+00]\n",
      " [-0.00000000e+00 -0.00000000e+00  0.00000000e+00 -4.08248290e-01\n",
      "  -4.08248290e-01 -8.16496581e-01]\n",
      " [-0.00000000e+00 -0.00000000e+00  0.00000000e+00  7.07106781e-01\n",
      "  -7.07106781e-01  5.55111512e-16]\n",
      " [-7.07106781e-01  0.00000000e+00  7.07106781e-01  0.00000000e+00\n",
      "   0.00000000e+00  0.00000000e+00]\n",
      " [ 6.27963030e-01 -4.59700843e-01  6.27963030e-01  0.00000000e+00\n",
      "   0.00000000e+00  0.00000000e+00]\n",
      " [ 0.00000000e+00  0.00000000e+00  0.00000000e+00 -5.77350269e-01\n",
      "  -5.77350269e-01  5.77350269e-01]]\n"
     ]
    }
   ],
   "source": [
    "# Calculate SVD for the word vector\n",
    "U_word, S_word, VT_word = lg.svd(A_word)\n",
    "\n",
    "print(f\"U:\\n{U_word}\")\n",
    "print()\n",
    "print(f\"S:\\n{S_word}\")\n",
    "print()\n",
    "print(f\"VT:\\n{VT_word}\")"
   ]
  },
  {
   "cell_type": "code",
   "execution_count": 45,
   "metadata": {},
   "outputs": [
    {
     "name": "stdout",
     "output_type": "stream",
     "text": [
      "Reduced Word Vector:\n",
      "[[-0.88807383  0.        ]\n",
      " [-1.21313142  0.        ]\n",
      " [ 0.         -1.22474487]\n",
      " [-1.21313142  0.        ]\n",
      " [ 0.         -1.22474487]]\n"
     ]
    }
   ],
   "source": [
    "sigma_significant_num = 2\n",
    "truncated_U, truncated_sigma, truncated_VT = truncate_svd(U_word, S_word, VT_word, sigma_significant_num)\n",
    "reduced_word_vector = np.dot(truncated_U, truncated_sigma)\n",
    "print(f\"Reduced Word Vector:\\n{reduced_word_vector}\")"
   ]
  },
  {
   "cell_type": "code",
   "execution_count": 46,
   "metadata": {},
   "outputs": [
    {
     "name": "stdout",
     "output_type": "stream",
     "text": [
      "U:\n",
      "[[-3.25057584e-01  0.00000000e+00  0.00000000e+00 -7.07106781e-01\n",
      "   6.27963030e-01  0.00000000e+00]\n",
      " [-8.88073834e-01  0.00000000e+00  0.00000000e+00  0.00000000e+00\n",
      "  -4.59700843e-01  0.00000000e+00]\n",
      " [-3.25057584e-01  0.00000000e+00  0.00000000e+00  7.07106781e-01\n",
      "   6.27963030e-01  0.00000000e+00]\n",
      " [ 0.00000000e+00  4.08248290e-01 -7.07106781e-01  0.00000000e+00\n",
      "   0.00000000e+00 -5.77350269e-01]\n",
      " [ 0.00000000e+00  4.08248290e-01  7.07106781e-01  0.00000000e+00\n",
      "   0.00000000e+00 -5.77350269e-01]\n",
      " [ 0.00000000e+00  8.16496581e-01 -3.33066907e-16  0.00000000e+00\n",
      "   0.00000000e+00  5.77350269e-01]]\n",
      "\n",
      "S:\n",
      "[1.93185165 1.73205081 1.         1.         0.51763809]\n",
      "\n",
      "VT:\n",
      "[[-0.45970084 -0.62796303  0.         -0.62796303 -0.        ]\n",
      " [-0.         -0.          0.70710678  0.          0.70710678]\n",
      " [-0.         -0.          0.70710678  0.         -0.70710678]\n",
      " [ 0.          0.70710678  0.         -0.70710678  0.        ]\n",
      " [-0.88807383  0.32505758  0.          0.32505758 -0.        ]]\n"
     ]
    }
   ],
   "source": [
    "# Calculate SVD for the document vector\n",
    "U_document, S_document, VT_document = lg.svd(A_document)\n",
    "\n",
    "print(f\"U:\\n{U_document}\")\n",
    "print()\n",
    "print(f\"S:\\n{S_document}\")\n",
    "print()\n",
    "print(f\"VT:\\n{VT_document}\")"
   ]
  },
  {
   "cell_type": "code",
   "execution_count": 47,
   "metadata": {},
   "outputs": [
    {
     "name": "stdout",
     "output_type": "stream",
     "text": [
      "Reduced Document Vector:\n",
      "[[-0.62796303  0.        ]\n",
      " [-1.7156269   0.        ]\n",
      " [-0.62796303  0.        ]\n",
      " [ 0.          0.70710678]\n",
      " [ 0.          0.70710678]\n",
      " [ 0.          1.41421356]]\n"
     ]
    }
   ],
   "source": [
    "sigma_significant_num = 2\n",
    "truncated_U, truncated_sigma, truncated_VT = truncate_svd(U_document, S_document, VT_document, sigma_significant_num)\n",
    "reduced_document_vector = np.dot(truncated_U, truncated_sigma)\n",
    "print(f\"Reduced Document Vector:\\n{reduced_document_vector}\")"
   ]
  },
  {
   "cell_type": "code",
   "execution_count": 48,
   "metadata": {},
   "outputs": [
    {
     "data": {
      "text/plain": [
       "[array([-0.62796303,  0.        ]),\n",
       " array([-1.7156269,  0.       ]),\n",
       " array([-0.62796303,  0.        ]),\n",
       " array([0.        , 0.70710678]),\n",
       " array([0.        , 0.70710678]),\n",
       " array([0.        , 1.41421356])]"
      ]
     },
     "execution_count": 48,
     "metadata": {},
     "output_type": "execute_result"
    }
   ],
   "source": [
    "# Create vectors\n",
    "\n",
    "A = reduced_document_vector[0]\n",
    "B = reduced_document_vector[1]\n",
    "C = reduced_document_vector[2]\n",
    "D = reduced_document_vector[3]\n",
    "E = reduced_document_vector[4]\n",
    "F = reduced_document_vector[5]\n",
    "\n",
    "vectors = [A, B, C, D, E, F]\n",
    "vectors"
   ]
  },
  {
   "cell_type": "code",
   "execution_count": 49,
   "metadata": {},
   "outputs": [
    {
     "data": {
      "text/plain": [
       "[array([-1.,  0.]),\n",
       " array([-1.,  0.]),\n",
       " array([-1.,  0.]),\n",
       " array([0., 1.]),\n",
       " array([0., 1.]),\n",
       " array([0., 1.])]"
      ]
     },
     "execution_count": 49,
     "metadata": {},
     "output_type": "execute_result"
    }
   ],
   "source": [
    "# Create Normalized Vectors\n",
    "\n",
    "A_normalized = normalize_vector(A)\n",
    "B_normalized = normalize_vector(B)\n",
    "C_normalized = normalize_vector(C)\n",
    "D_normalized = normalize_vector(D)\n",
    "E_normalized = normalize_vector(E)\n",
    "F_normalized = normalize_vector(F)\n",
    "\n",
    "normalized_vectors = [A_normalized, B_normalized, C_normalized, D_normalized, E_normalized, F_normalized]\n",
    "normalized_vectors"
   ]
  },
  {
   "cell_type": "code",
   "execution_count": 50,
   "metadata": {},
   "outputs": [
    {
     "name": "stdout",
     "output_type": "stream",
     "text": [
      "Cosine Similarity Matrix:\n",
      "[[1. 1. 1. 0. 0. 0.]\n",
      " [1. 1. 1. 0. 0. 0.]\n",
      " [1. 1. 1. 0. 0. 0.]\n",
      " [0. 0. 0. 1. 1. 1.]\n",
      " [0. 0. 0. 1. 1. 1.]\n",
      " [0. 0. 0. 1. 1. 1.]]\n",
      "\n",
      "Cosine Distance Matrix:\n",
      "[[0. 0. 0. 1. 1. 1.]\n",
      " [0. 0. 0. 1. 1. 1.]\n",
      " [0. 0. 0. 1. 1. 1.]\n",
      " [1. 1. 1. 0. 0. 0.]\n",
      " [1. 1. 1. 0. 0. 0.]\n",
      " [1. 1. 1. 0. 0. 0.]]\n"
     ]
    }
   ],
   "source": [
    "# Let's calculate the cosine similarity between the documents using the reduced matrix\n",
    "number_of_documents = len(corpus)\n",
    "cosine_similarity_matrix = np.zeros((number_of_documents, number_of_documents))\n",
    "cosine_distance_matrix = np.zeros((number_of_documents, number_of_documents))\n",
    "\n",
    "for i in range(number_of_documents):\n",
    "    for j in range(number_of_documents):\n",
    "        cosine_similarity_matrix[i, j] = calculate_cosine_similarity(normalized_vectors[i], normalized_vectors[j])\n",
    "        cosine_distance_matrix[i, j] = 1 - cosine_similarity_matrix[i, j]\n",
    "\n",
    "print(f\"Cosine Similarity Matrix:\\n{cosine_similarity_matrix}\")\n",
    "print()\n",
    "print(f\"Cosine Distance Matrix:\\n{cosine_distance_matrix}\")"
   ]
  },
  {
   "cell_type": "code",
   "execution_count": 52,
   "metadata": {},
   "outputs": [
    {
     "data": {
      "text/html": [
       "<div>\n",
       "<style scoped>\n",
       "    .dataframe tbody tr th:only-of-type {\n",
       "        vertical-align: middle;\n",
       "    }\n",
       "\n",
       "    .dataframe tbody tr th {\n",
       "        vertical-align: top;\n",
       "    }\n",
       "\n",
       "    .dataframe thead th {\n",
       "        text-align: right;\n",
       "    }\n",
       "</style>\n",
       "<table border=\"1\" class=\"dataframe\">\n",
       "  <thead>\n",
       "    <tr style=\"text-align: right;\">\n",
       "      <th></th>\n",
       "      <th>Topic 1</th>\n",
       "      <th>Topic 2</th>\n",
       "    </tr>\n",
       "  </thead>\n",
       "  <tbody>\n",
       "    <tr>\n",
       "      <th>0</th>\n",
       "      <td>0.628</td>\n",
       "      <td>-0.000</td>\n",
       "    </tr>\n",
       "    <tr>\n",
       "      <th>1</th>\n",
       "      <td>1.716</td>\n",
       "      <td>-0.000</td>\n",
       "    </tr>\n",
       "    <tr>\n",
       "      <th>2</th>\n",
       "      <td>0.628</td>\n",
       "      <td>0.000</td>\n",
       "    </tr>\n",
       "    <tr>\n",
       "      <th>3</th>\n",
       "      <td>0.000</td>\n",
       "      <td>0.707</td>\n",
       "    </tr>\n",
       "    <tr>\n",
       "      <th>4</th>\n",
       "      <td>0.000</td>\n",
       "      <td>0.707</td>\n",
       "    </tr>\n",
       "    <tr>\n",
       "      <th>5</th>\n",
       "      <td>0.000</td>\n",
       "      <td>1.414</td>\n",
       "    </tr>\n",
       "  </tbody>\n",
       "</table>\n",
       "</div>"
      ],
      "text/plain": [
       "   Topic 1  Topic 2\n",
       "0    0.628   -0.000\n",
       "1    1.716   -0.000\n",
       "2    0.628    0.000\n",
       "3    0.000    0.707\n",
       "4    0.000    0.707\n",
       "5    0.000    1.414"
      ]
     },
     "execution_count": 52,
     "metadata": {},
     "output_type": "execute_result"
    }
   ],
   "source": [
    "# Using Scikit-learn to perform LSA\n",
    "\n",
    "sigma_significant_num = 2\n",
    "svd = TruncatedSVD(n_components=sigma_significant_num)\n",
    "lsa = svd.fit_transform(bagofwords)\n",
    "\n",
    "df = pd.DataFrame(np.round(lsa, 3), columns = ['Topic 1', 'Topic 2'])\n",
    "df"
   ]
  },
  {
   "cell_type": "code",
   "execution_count": 54,
   "metadata": {},
   "outputs": [
    {
     "data": {
      "text/html": [
       "<div>\n",
       "<style scoped>\n",
       "    .dataframe tbody tr th:only-of-type {\n",
       "        vertical-align: middle;\n",
       "    }\n",
       "\n",
       "    .dataframe tbody tr th {\n",
       "        vertical-align: top;\n",
       "    }\n",
       "\n",
       "    .dataframe thead th {\n",
       "        text-align: right;\n",
       "    }\n",
       "</style>\n",
       "<table border=\"1\" class=\"dataframe\">\n",
       "  <thead>\n",
       "    <tr style=\"text-align: right;\">\n",
       "      <th></th>\n",
       "      <th>Topic 1</th>\n",
       "      <th>Topic 2</th>\n",
       "    </tr>\n",
       "    <tr>\n",
       "      <th>Corups</th>\n",
       "      <th></th>\n",
       "      <th></th>\n",
       "    </tr>\n",
       "  </thead>\n",
       "  <tbody>\n",
       "    <tr>\n",
       "      <th>runs</th>\n",
       "      <td>0.628</td>\n",
       "      <td>-0.000</td>\n",
       "    </tr>\n",
       "    <tr>\n",
       "      <th>runs pitcher innings</th>\n",
       "      <td>1.716</td>\n",
       "      <td>-0.000</td>\n",
       "    </tr>\n",
       "    <tr>\n",
       "      <th>pitcher</th>\n",
       "      <td>0.628</td>\n",
       "      <td>0.000</td>\n",
       "    </tr>\n",
       "    <tr>\n",
       "      <th>touchdown</th>\n",
       "      <td>0.000</td>\n",
       "      <td>0.707</td>\n",
       "    </tr>\n",
       "    <tr>\n",
       "      <th>quarterback</th>\n",
       "      <td>0.000</td>\n",
       "      <td>0.707</td>\n",
       "    </tr>\n",
       "    <tr>\n",
       "      <th>touchdown quarterback</th>\n",
       "      <td>0.000</td>\n",
       "      <td>1.414</td>\n",
       "    </tr>\n",
       "  </tbody>\n",
       "</table>\n",
       "</div>"
      ],
      "text/plain": [
       "                       Topic 1  Topic 2\n",
       "Corups                                 \n",
       "runs                     0.628   -0.000\n",
       "runs pitcher innings     1.716   -0.000\n",
       "pitcher                  0.628    0.000\n",
       "touchdown                0.000    0.707\n",
       "quarterback              0.000    0.707\n",
       "touchdown quarterback    0.000    1.414"
      ]
     },
     "execution_count": 54,
     "metadata": {},
     "output_type": "execute_result"
    }
   ],
   "source": [
    "topic_encoded_df = pd.DataFrame(np.round(lsa, 3), columns = ['Topic 1', 'Topic 2'])\n",
    "topic_encoded_df['Corups'] = corpus\n",
    "topic_encoded_df.set_index('Corups', inplace=True)\n",
    "topic_encoded_df"
   ]
  },
  {
   "cell_type": "code",
   "execution_count": 61,
   "metadata": {},
   "outputs": [
    {
     "data": {
      "text/html": [
       "<div>\n",
       "<style scoped>\n",
       "    .dataframe tbody tr th:only-of-type {\n",
       "        vertical-align: middle;\n",
       "    }\n",
       "\n",
       "    .dataframe tbody tr th {\n",
       "        vertical-align: top;\n",
       "    }\n",
       "\n",
       "    .dataframe thead th {\n",
       "        text-align: right;\n",
       "    }\n",
       "</style>\n",
       "<table border=\"1\" class=\"dataframe\">\n",
       "  <thead>\n",
       "    <tr style=\"text-align: right;\">\n",
       "      <th></th>\n",
       "      <th>Topic 1</th>\n",
       "      <th>Topic 2</th>\n",
       "    </tr>\n",
       "    <tr>\n",
       "      <th>Corups</th>\n",
       "      <th></th>\n",
       "      <th></th>\n",
       "    </tr>\n",
       "  </thead>\n",
       "  <tbody>\n",
       "    <tr>\n",
       "      <th>runs pitcher innings</th>\n",
       "      <td>1.716</td>\n",
       "      <td>-0.000</td>\n",
       "    </tr>\n",
       "    <tr>\n",
       "      <th>runs</th>\n",
       "      <td>0.628</td>\n",
       "      <td>-0.000</td>\n",
       "    </tr>\n",
       "    <tr>\n",
       "      <th>pitcher</th>\n",
       "      <td>0.628</td>\n",
       "      <td>0.000</td>\n",
       "    </tr>\n",
       "    <tr>\n",
       "      <th>touchdown</th>\n",
       "      <td>0.000</td>\n",
       "      <td>0.707</td>\n",
       "    </tr>\n",
       "    <tr>\n",
       "      <th>quarterback</th>\n",
       "      <td>0.000</td>\n",
       "      <td>0.707</td>\n",
       "    </tr>\n",
       "    <tr>\n",
       "      <th>touchdown quarterback</th>\n",
       "      <td>0.000</td>\n",
       "      <td>1.414</td>\n",
       "    </tr>\n",
       "  </tbody>\n",
       "</table>\n",
       "</div>"
      ],
      "text/plain": [
       "                       Topic 1  Topic 2\n",
       "Corups                                 \n",
       "runs pitcher innings     1.716   -0.000\n",
       "runs                     0.628   -0.000\n",
       "pitcher                  0.628    0.000\n",
       "touchdown                0.000    0.707\n",
       "quarterback              0.000    0.707\n",
       "touchdown quarterback    0.000    1.414"
      ]
     },
     "execution_count": 61,
     "metadata": {},
     "output_type": "execute_result"
    }
   ],
   "source": [
    "topic_encoded_df.sort_values(by=['Topic 1'], ascending=False)"
   ]
  },
  {
   "cell_type": "code",
   "execution_count": 57,
   "metadata": {},
   "outputs": [
    {
     "data": {
      "text/html": [
       "<div>\n",
       "<style scoped>\n",
       "    .dataframe tbody tr th:only-of-type {\n",
       "        vertical-align: middle;\n",
       "    }\n",
       "\n",
       "    .dataframe tbody tr th {\n",
       "        vertical-align: top;\n",
       "    }\n",
       "\n",
       "    .dataframe thead th {\n",
       "        text-align: right;\n",
       "    }\n",
       "</style>\n",
       "<table border=\"1\" class=\"dataframe\">\n",
       "  <thead>\n",
       "    <tr style=\"text-align: right;\">\n",
       "      <th></th>\n",
       "      <th>Topic 1</th>\n",
       "      <th>Topic 2</th>\n",
       "      <th>abs_topic_1</th>\n",
       "      <th>abs_topic_2</th>\n",
       "    </tr>\n",
       "  </thead>\n",
       "  <tbody>\n",
       "    <tr>\n",
       "      <th>pitcher</th>\n",
       "      <td>0.628</td>\n",
       "      <td>0.000</td>\n",
       "      <td>0.628</td>\n",
       "      <td>0.000</td>\n",
       "    </tr>\n",
       "    <tr>\n",
       "      <th>runs</th>\n",
       "      <td>0.628</td>\n",
       "      <td>-0.000</td>\n",
       "      <td>0.628</td>\n",
       "      <td>0.000</td>\n",
       "    </tr>\n",
       "    <tr>\n",
       "      <th>innings</th>\n",
       "      <td>0.460</td>\n",
       "      <td>-0.000</td>\n",
       "      <td>0.460</td>\n",
       "      <td>0.000</td>\n",
       "    </tr>\n",
       "    <tr>\n",
       "      <th>quarterback</th>\n",
       "      <td>0.000</td>\n",
       "      <td>0.707</td>\n",
       "      <td>0.000</td>\n",
       "      <td>0.707</td>\n",
       "    </tr>\n",
       "    <tr>\n",
       "      <th>touchdown</th>\n",
       "      <td>0.000</td>\n",
       "      <td>0.707</td>\n",
       "      <td>0.000</td>\n",
       "      <td>0.707</td>\n",
       "    </tr>\n",
       "  </tbody>\n",
       "</table>\n",
       "</div>"
      ],
      "text/plain": [
       "             Topic 1  Topic 2  abs_topic_1  abs_topic_2\n",
       "pitcher        0.628    0.000        0.628        0.000\n",
       "runs           0.628   -0.000        0.628        0.000\n",
       "innings        0.460   -0.000        0.460        0.000\n",
       "quarterback    0.000    0.707        0.000        0.707\n",
       "touchdown      0.000    0.707        0.000        0.707"
      ]
     },
     "execution_count": 57,
     "metadata": {},
     "output_type": "execute_result"
    }
   ],
   "source": [
    "encoding_matrix = pd.DataFrame(np.round(svd.components_, 3), index=['Topic 1', 'Topic 2'], columns=feature_names).T\n",
    "encoding_matrix['abs_topic_1'] = np.abs(encoding_matrix['Topic 1'])\n",
    "encoding_matrix['abs_topic_2'] = np.abs(encoding_matrix['Topic 2'])\n",
    "encoding_matrix.sort_values(by=['abs_topic_1'], ascending=False)"
   ]
  },
  {
   "cell_type": "code",
   "execution_count": 58,
   "metadata": {},
   "outputs": [
    {
     "data": {
      "text/html": [
       "<div>\n",
       "<style scoped>\n",
       "    .dataframe tbody tr th:only-of-type {\n",
       "        vertical-align: middle;\n",
       "    }\n",
       "\n",
       "    .dataframe tbody tr th {\n",
       "        vertical-align: top;\n",
       "    }\n",
       "\n",
       "    .dataframe thead th {\n",
       "        text-align: right;\n",
       "    }\n",
       "</style>\n",
       "<table border=\"1\" class=\"dataframe\">\n",
       "  <thead>\n",
       "    <tr style=\"text-align: right;\">\n",
       "      <th></th>\n",
       "      <th>Topic 1</th>\n",
       "      <th>Topic 2</th>\n",
       "      <th>abs_topic_1</th>\n",
       "      <th>abs_topic_2</th>\n",
       "    </tr>\n",
       "  </thead>\n",
       "  <tbody>\n",
       "    <tr>\n",
       "      <th>quarterback</th>\n",
       "      <td>0.000</td>\n",
       "      <td>0.707</td>\n",
       "      <td>0.000</td>\n",
       "      <td>0.707</td>\n",
       "    </tr>\n",
       "    <tr>\n",
       "      <th>touchdown</th>\n",
       "      <td>0.000</td>\n",
       "      <td>0.707</td>\n",
       "      <td>0.000</td>\n",
       "      <td>0.707</td>\n",
       "    </tr>\n",
       "    <tr>\n",
       "      <th>innings</th>\n",
       "      <td>0.460</td>\n",
       "      <td>-0.000</td>\n",
       "      <td>0.460</td>\n",
       "      <td>0.000</td>\n",
       "    </tr>\n",
       "    <tr>\n",
       "      <th>pitcher</th>\n",
       "      <td>0.628</td>\n",
       "      <td>0.000</td>\n",
       "      <td>0.628</td>\n",
       "      <td>0.000</td>\n",
       "    </tr>\n",
       "    <tr>\n",
       "      <th>runs</th>\n",
       "      <td>0.628</td>\n",
       "      <td>-0.000</td>\n",
       "      <td>0.628</td>\n",
       "      <td>0.000</td>\n",
       "    </tr>\n",
       "  </tbody>\n",
       "</table>\n",
       "</div>"
      ],
      "text/plain": [
       "             Topic 1  Topic 2  abs_topic_1  abs_topic_2\n",
       "quarterback    0.000    0.707        0.000        0.707\n",
       "touchdown      0.000    0.707        0.000        0.707\n",
       "innings        0.460   -0.000        0.460        0.000\n",
       "pitcher        0.628    0.000        0.628        0.000\n",
       "runs           0.628   -0.000        0.628        0.000"
      ]
     },
     "execution_count": 58,
     "metadata": {},
     "output_type": "execute_result"
    }
   ],
   "source": [
    "encoding_matrix.sort_values(by=['abs_topic_2'], ascending=False)"
   ]
  },
  {
   "cell_type": "markdown",
   "metadata": {},
   "source": [
    "The two top words are:\n",
    "\n",
    "<b>Topic 1</b>\n",
    "<ul>\n",
    " <li>Pitcher</li>\n",
    " <li>Runs</li>\n",
    "</ul>\n",
    "<br>\n",
    "<b>Topic 2</b>\n",
    "<ul>\n",
    " <li>Touchdown</li>\n",
    " <li>Quarterback</li>\n",
    " </ul>"
   ]
  }
 ],
 "metadata": {
  "kernelspec": {
   "display_name": "base",
   "language": "python",
   "name": "python3"
  },
  "language_info": {
   "codemirror_mode": {
    "name": "ipython",
    "version": 3
   },
   "file_extension": ".py",
   "mimetype": "text/x-python",
   "name": "python",
   "nbconvert_exporter": "python",
   "pygments_lexer": "ipython3",
   "version": "3.11.5"
  }
 },
 "nbformat": 4,
 "nbformat_minor": 2
}
