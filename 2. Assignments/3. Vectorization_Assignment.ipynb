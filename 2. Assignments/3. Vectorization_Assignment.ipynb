{
 "cells": [
  {
   "cell_type": "markdown",
   "metadata": {},
   "source": [
    "<h1>CS 41344 - Natural Language Processing</h1>\n",
    "<h2 style = 'color:yellow'>Assignment - 3: Vectorization</h2>"
   ]
  },
  {
   "cell_type": "markdown",
   "metadata": {},
   "source": [
    "<h3 style = 'color:lightgreen'>0. Import Libraries</h3>"
   ]
  },
  {
   "cell_type": "code",
   "execution_count": 54,
   "metadata": {},
   "outputs": [],
   "source": [
    "import numpy as np\n",
    "import pandas as pd\n",
    "import matplotlib.pyplot as plt\n",
    "from textblob import TextBlob\n",
    "from collections import OrderedDict\n",
    "\n",
    "from sklearn.feature_extraction.text import CountVectorizer\n",
    "from sklearn.feature_extraction.text import TfidfTransformer\n",
    "\n",
    "import nltk\n",
    "from collections import Counter"
   ]
  },
  {
   "cell_type": "code",
   "execution_count": 3,
   "metadata": {},
   "outputs": [
    {
     "name": "stderr",
     "output_type": "stream",
     "text": [
      "[nltk_data] Downloading package stopwords to\n",
      "[nltk_data]     C:\\Users\\Owner\\AppData\\Roaming\\nltk_data...\n",
      "[nltk_data]   Package stopwords is already up-to-date!\n",
      "[nltk_data] Downloading package punkt to\n",
      "[nltk_data]     C:\\Users\\Owner\\AppData\\Roaming\\nltk_data...\n",
      "[nltk_data]   Package punkt is already up-to-date!\n",
      "[nltk_data] Downloading package averaged_perceptron_tagger to\n",
      "[nltk_data]     C:\\Users\\Owner\\AppData\\Roaming\\nltk_data...\n",
      "[nltk_data]   Package averaged_perceptron_tagger is already up-to-\n",
      "[nltk_data]       date!\n",
      "[nltk_data] Downloading package brown to\n",
      "[nltk_data]     C:\\Users\\Owner\\AppData\\Roaming\\nltk_data...\n",
      "[nltk_data]   Package brown is already up-to-date!\n"
     ]
    },
    {
     "data": {
      "text/plain": [
       "True"
      ]
     },
     "execution_count": 3,
     "metadata": {},
     "output_type": "execute_result"
    }
   ],
   "source": [
    "nltk.download('stopwords')\n",
    "nltk.download('punkt')\n",
    "nltk.download('averaged_perceptron_tagger')\n",
    "nltk.download('brown')"
   ]
  },
  {
   "cell_type": "markdown",
   "metadata": {},
   "source": [
    "<h3 style = 'color:lightgreen'>1. Load Text/Data</h3>"
   ]
  },
  {
   "cell_type": "code",
   "execution_count": 39,
   "metadata": {},
   "outputs": [],
   "source": [
    "textRJ = open(\"../0. Data/RomeoJuliet.txt\", \"r\").read()\n",
    "blobRJ = TextBlob(textRJ)\n",
    "\n",
    "textH = open(\"../0. Data/Hamlet.txt\", \"r\").read()\n",
    "blobH = TextBlob(textH)"
   ]
  },
  {
   "cell_type": "markdown",
   "metadata": {},
   "source": [
    "<h3 style = 'color:lightgreen'>2. Assignment</h3>\n",
    "<h3 style = 'color:green'>2.1 Compute and Plot Normalized Vectors</h3>"
   ]
  },
  {
   "cell_type": "code",
   "execution_count": 4,
   "metadata": {},
   "outputs": [],
   "source": [
    "A = np.array([3, 7])\n",
    "B = np.array([5, 36])\n",
    "C = np.array([7, 29])\n",
    "D = np.array([212, 72])\n",
    "E = np.array([23, 2])"
   ]
  },
  {
   "cell_type": "code",
   "execution_count": 5,
   "metadata": {},
   "outputs": [],
   "source": [
    "# Calculate Normalized Vectors\n",
    "A_norm = A / np.linalg.norm(A)\n",
    "B_norm = B / np.linalg.norm(B)\n",
    "C_norm = C / np.linalg.norm(C)\n",
    "D_norm = D / np.linalg.norm(D)\n",
    "E_norm = E / np.linalg.norm(E)"
   ]
  },
  {
   "cell_type": "code",
   "execution_count": 7,
   "metadata": {},
   "outputs": [
    {
     "data": {
      "text/html": [
       "<div>\n",
       "<style scoped>\n",
       "    .dataframe tbody tr th:only-of-type {\n",
       "        vertical-align: middle;\n",
       "    }\n",
       "\n",
       "    .dataframe tbody tr th {\n",
       "        vertical-align: top;\n",
       "    }\n",
       "\n",
       "    .dataframe thead th {\n",
       "        text-align: right;\n",
       "    }\n",
       "</style>\n",
       "<table border=\"1\" class=\"dataframe\">\n",
       "  <thead>\n",
       "    <tr style=\"text-align: right;\">\n",
       "      <th></th>\n",
       "      <th>0</th>\n",
       "      <th>1</th>\n",
       "      <th>Normalized</th>\n",
       "    </tr>\n",
       "  </thead>\n",
       "  <tbody>\n",
       "    <tr>\n",
       "      <th>A</th>\n",
       "      <td>3</td>\n",
       "      <td>7</td>\n",
       "      <td>[0.39391929857916763, 0.9191450300180578]</td>\n",
       "    </tr>\n",
       "    <tr>\n",
       "      <th>B</th>\n",
       "      <td>5</td>\n",
       "      <td>36</td>\n",
       "      <td>[0.13756837127468774, 0.9904922731777517]</td>\n",
       "    </tr>\n",
       "    <tr>\n",
       "      <th>C</th>\n",
       "      <td>7</td>\n",
       "      <td>29</td>\n",
       "      <td>[0.23464053310389682, 0.9720822085732868]</td>\n",
       "    </tr>\n",
       "    <tr>\n",
       "      <th>D</th>\n",
       "      <td>212</td>\n",
       "      <td>72</td>\n",
       "      <td>[0.9468815887204546, 0.3215824263578902]</td>\n",
       "    </tr>\n",
       "    <tr>\n",
       "      <th>E</th>\n",
       "      <td>23</td>\n",
       "      <td>2</td>\n",
       "      <td>[0.996240588195683, 0.086629616364842]</td>\n",
       "    </tr>\n",
       "  </tbody>\n",
       "</table>\n",
       "</div>"
      ],
      "text/plain": [
       "     0   1                                 Normalized\n",
       "A    3   7  [0.39391929857916763, 0.9191450300180578]\n",
       "B    5  36  [0.13756837127468774, 0.9904922731777517]\n",
       "C    7  29  [0.23464053310389682, 0.9720822085732868]\n",
       "D  212  72   [0.9468815887204546, 0.3215824263578902]\n",
       "E   23   2     [0.996240588195683, 0.086629616364842]"
      ]
     },
     "execution_count": 7,
     "metadata": {},
     "output_type": "execute_result"
    }
   ],
   "source": [
    "df_normalized_vectors = pd.DataFrame({\n",
    "    '0': [A[0], B[0], C[0], D[0], E[0]],\n",
    "    '1': [A[1], B[1], C[1], D[1], E[1]],\n",
    "    'Normalized': [A_norm, B_norm, C_norm, D_norm, E_norm]\n",
    "})\n",
    "df_normalized_vectors.index = ['A', 'B', 'C', 'D', 'E']\n",
    "df_normalized_vectors"
   ]
  },
  {
   "cell_type": "code",
   "execution_count": 26,
   "metadata": {},
   "outputs": [
    {
     "data": {
      "image/png": "[encoded data removed]",
      "text/plain": [
       "<Figure size 640x480 with 1 Axes>"
      ]
     },
     "metadata": {},
     "output_type": "display_data"
    }
   ],
   "source": [
    "# Plot Vectors\n",
    "x1 = A_norm[0]; x2 = B_norm[0]; x3 = C_norm[0]; x4 = D_norm[0]; x5 = E_norm[0]\n",
    "y1 = A_norm[1]; y2 = B_norm[1]; y3 = C_norm[1]; y4 = D_norm[1]; y5 = E_norm[1] \n",
    "\n",
    "# Plot two vectors from 0, 0 to x1, y1 and x2, y2\n",
    "QV1 = plt.quiver([0, 0, 0, 0, 0], [0, 0, 0, 0, 0], [x1, x2, x3, x4, x5], [y1, y2, y3, y4, y5], angles='xy', scale_units='xy', scale=1, color=['r', 'b', 'g', 'y', 'c'])\n",
    "\n",
    "plt.xlim([0,1])\n",
    "plt.ylim([0,1])\n",
    "plt.xlabel('x', fontsize=16)\n",
    "plt.ylabel('y', fontsize=16)\n",
    "plt.title('Vectors', fontsize=16)\n",
    "plt.show()"
   ]
  },
  {
   "cell_type": "markdown",
   "metadata": {},
   "source": [
    "<h3 style = 'color:green'>2.2 Compute Distances - Euclidean, Manhattan, and Cosine (Similarity and Distance)</h3>"
   ]
  },
  {
   "cell_type": "code",
   "execution_count": 12,
   "metadata": {},
   "outputs": [],
   "source": [
    "def compute_distances(A, B):\n",
    "    euclidean = np.linalg.norm(A - B)\n",
    "    manhattan = np.sum(np.abs(A - B))\n",
    "    cosine_similarity = np.dot(A, B) / (np.linalg.norm(A) * np.linalg.norm(B))\n",
    "    cosine_distance = 1 - cosine_similarity\n",
    "    return euclidean, manhattan, cosine_similarity, cosine_distance"
   ]
  },
  {
   "cell_type": "code",
   "execution_count": 13,
   "metadata": {},
   "outputs": [
    {
     "data": {
      "text/plain": [
       "(0.2660943949735793,\n",
       " 0.32769817046417377,\n",
       " 0.9645968864818225,\n",
       " 0.03540311351817749)"
      ]
     },
     "execution_count": 13,
     "metadata": {},
     "output_type": "execute_result"
    }
   ],
   "source": [
    "compute_distances(A_norm, B_norm)"
   ]
  },
  {
   "cell_type": "code",
   "execution_count": 20,
   "metadata": {},
   "outputs": [
    {
     "data": {
      "text/html": [
       "<div>\n",
       "<style scoped>\n",
       "    .dataframe tbody tr th:only-of-type {\n",
       "        vertical-align: middle;\n",
       "    }\n",
       "\n",
       "    .dataframe tbody tr th {\n",
       "        vertical-align: top;\n",
       "    }\n",
       "\n",
       "    .dataframe thead th {\n",
       "        text-align: right;\n",
       "    }\n",
       "</style>\n",
       "<table border=\"1\" class=\"dataframe\">\n",
       "  <thead>\n",
       "    <tr style=\"text-align: right;\">\n",
       "      <th></th>\n",
       "      <th>Euclidean</th>\n",
       "      <th>Manhattan</th>\n",
       "      <th>Cosine Similarity</th>\n",
       "      <th>Cosine Distance</th>\n",
       "    </tr>\n",
       "  </thead>\n",
       "  <tbody>\n",
       "    <tr>\n",
       "      <th>B</th>\n",
       "      <td>0.266094</td>\n",
       "      <td>0.327698</td>\n",
       "      <td>0.964597</td>\n",
       "      <td>0.035403</td>\n",
       "    </tr>\n",
       "    <tr>\n",
       "      <th>C</th>\n",
       "      <td>0.167845</td>\n",
       "      <td>0.212216</td>\n",
       "      <td>0.985914</td>\n",
       "      <td>0.014086</td>\n",
       "    </tr>\n",
       "    <tr>\n",
       "      <th>D</th>\n",
       "      <td>0.814155</td>\n",
       "      <td>1.150525</td>\n",
       "      <td>0.668576</td>\n",
       "      <td>0.331424</td>\n",
       "    </tr>\n",
       "    <tr>\n",
       "      <th>E</th>\n",
       "      <td>1.027557</td>\n",
       "      <td>1.434837</td>\n",
       "      <td>0.472064</td>\n",
       "      <td>0.527936</td>\n",
       "    </tr>\n",
       "  </tbody>\n",
       "</table>\n",
       "</div>"
      ],
      "text/plain": [
       "   Euclidean  Manhattan  Cosine Similarity  Cosine Distance\n",
       "B   0.266094   0.327698           0.964597         0.035403\n",
       "C   0.167845   0.212216           0.985914         0.014086\n",
       "D   0.814155   1.150525           0.668576         0.331424\n",
       "E   1.027557   1.434837           0.472064         0.527936"
      ]
     },
     "execution_count": 20,
     "metadata": {},
     "output_type": "execute_result"
    }
   ],
   "source": [
    "df_distances_from_A = pd.DataFrame({\n",
    "    'Euclidean': [compute_distances(A_norm, B_norm)[0], compute_distances(A_norm, C_norm)[0], compute_distances(A_norm, D_norm)[0], compute_distances(A_norm, E_norm)[0]],\n",
    "    'Manhattan': [compute_distances(A_norm, B_norm)[1], compute_distances(A_norm, C_norm)[1], compute_distances(A_norm, D_norm)[1], compute_distances(A_norm, E_norm)[1]],\n",
    "    'Cosine Similarity': [compute_distances(A_norm, B_norm)[2], compute_distances(A_norm, C_norm)[2], compute_distances(A_norm, D_norm)[2], compute_distances(A_norm, E_norm)[2]],\n",
    "    'Cosine Distance': [compute_distances(A_norm, B_norm)[3], compute_distances(A_norm, C_norm)[3], compute_distances(A_norm, D_norm)[3], compute_distances(A_norm, E_norm)[3]]\n",
    "})\n",
    "df_distances_from_A.index = ['B', 'C', 'D', 'E']\n",
    "df_distances_from_A"
   ]
  },
  {
   "cell_type": "code",
   "execution_count": 21,
   "metadata": {},
   "outputs": [
    {
     "data": {
      "text/html": [
       "<div>\n",
       "<style scoped>\n",
       "    .dataframe tbody tr th:only-of-type {\n",
       "        vertical-align: middle;\n",
       "    }\n",
       "\n",
       "    .dataframe tbody tr th {\n",
       "        vertical-align: top;\n",
       "    }\n",
       "\n",
       "    .dataframe thead th {\n",
       "        text-align: right;\n",
       "    }\n",
       "</style>\n",
       "<table border=\"1\" class=\"dataframe\">\n",
       "  <thead>\n",
       "    <tr style=\"text-align: right;\">\n",
       "      <th></th>\n",
       "      <th>Euclidean</th>\n",
       "      <th>Manhattan</th>\n",
       "      <th>Cosine Similarity</th>\n",
       "      <th>Cosine Distance</th>\n",
       "    </tr>\n",
       "  </thead>\n",
       "  <tbody>\n",
       "    <tr>\n",
       "      <th>A</th>\n",
       "      <td>0.266094</td>\n",
       "      <td>0.327698</td>\n",
       "      <td>0.964597</td>\n",
       "      <td>0.035403</td>\n",
       "    </tr>\n",
       "    <tr>\n",
       "      <th>C</th>\n",
       "      <td>0.098803</td>\n",
       "      <td>0.115482</td>\n",
       "      <td>0.995119</td>\n",
       "      <td>0.004881</td>\n",
       "    </tr>\n",
       "    <tr>\n",
       "      <th>D</th>\n",
       "      <td>1.049966</td>\n",
       "      <td>1.478223</td>\n",
       "      <td>0.448786</td>\n",
       "      <td>0.551214</td>\n",
       "    </tr>\n",
       "    <tr>\n",
       "      <th>E</th>\n",
       "      <td>1.246710</td>\n",
       "      <td>1.762535</td>\n",
       "      <td>0.222857</td>\n",
       "      <td>0.777143</td>\n",
       "    </tr>\n",
       "  </tbody>\n",
       "</table>\n",
       "</div>"
      ],
      "text/plain": [
       "   Euclidean  Manhattan  Cosine Similarity  Cosine Distance\n",
       "A   0.266094   0.327698           0.964597         0.035403\n",
       "C   0.098803   0.115482           0.995119         0.004881\n",
       "D   1.049966   1.478223           0.448786         0.551214\n",
       "E   1.246710   1.762535           0.222857         0.777143"
      ]
     },
     "execution_count": 21,
     "metadata": {},
     "output_type": "execute_result"
    }
   ],
   "source": [
    "df_distances_from_B = pd.DataFrame({\n",
    "    'Euclidean': [compute_distances(B_norm, A_norm)[0], compute_distances(B_norm, C_norm)[0], compute_distances(B_norm, D_norm)[0], compute_distances(B_norm, E_norm)[0]],\n",
    "    'Manhattan': [compute_distances(B_norm, A_norm)[1], compute_distances(B_norm, C_norm)[1], compute_distances(B_norm, D_norm)[1], compute_distances(B_norm, E_norm)[1]],\n",
    "    'Cosine Similarity': [compute_distances(B_norm, A_norm)[2], compute_distances(B_norm, C_norm)[2], compute_distances(B_norm, D_norm)[2], compute_distances(B_norm, E_norm)[2]],\n",
    "    'Cosine Distance': [compute_distances(B_norm, A_norm)[3], compute_distances(B_norm, C_norm)[3], compute_distances(B_norm, D_norm)[3], compute_distances(B_norm, E_norm)[3]]\n",
    "})\n",
    "df_distances_from_B.index = ['A', 'C', 'D', 'E']\n",
    "df_distances_from_B"
   ]
  },
  {
   "cell_type": "code",
   "execution_count": 22,
   "metadata": {},
   "outputs": [
    {
     "data": {
      "text/html": [
       "<div>\n",
       "<style scoped>\n",
       "    .dataframe tbody tr th:only-of-type {\n",
       "        vertical-align: middle;\n",
       "    }\n",
       "\n",
       "    .dataframe tbody tr th {\n",
       "        vertical-align: top;\n",
       "    }\n",
       "\n",
       "    .dataframe thead th {\n",
       "        text-align: right;\n",
       "    }\n",
       "</style>\n",
       "<table border=\"1\" class=\"dataframe\">\n",
       "  <thead>\n",
       "    <tr style=\"text-align: right;\">\n",
       "      <th></th>\n",
       "      <th>Euclidean</th>\n",
       "      <th>Manhattan</th>\n",
       "      <th>Cosine Similarity</th>\n",
       "      <th>Cosine Distance</th>\n",
       "    </tr>\n",
       "  </thead>\n",
       "  <tbody>\n",
       "    <tr>\n",
       "      <th>A</th>\n",
       "      <td>0.167845</td>\n",
       "      <td>0.212216</td>\n",
       "      <td>0.985914</td>\n",
       "      <td>0.014086</td>\n",
       "    </tr>\n",
       "    <tr>\n",
       "      <th>B</th>\n",
       "      <td>0.098803</td>\n",
       "      <td>0.115482</td>\n",
       "      <td>0.995119</td>\n",
       "      <td>0.004881</td>\n",
       "    </tr>\n",
       "    <tr>\n",
       "      <th>D</th>\n",
       "      <td>0.964592</td>\n",
       "      <td>1.362741</td>\n",
       "      <td>0.534781</td>\n",
       "      <td>0.465219</td>\n",
       "    </tr>\n",
       "    <tr>\n",
       "      <th>E</th>\n",
       "      <td>1.167930</td>\n",
       "      <td>1.647053</td>\n",
       "      <td>0.317970</td>\n",
       "      <td>0.682030</td>\n",
       "    </tr>\n",
       "  </tbody>\n",
       "</table>\n",
       "</div>"
      ],
      "text/plain": [
       "   Euclidean  Manhattan  Cosine Similarity  Cosine Distance\n",
       "A   0.167845   0.212216           0.985914         0.014086\n",
       "B   0.098803   0.115482           0.995119         0.004881\n",
       "D   0.964592   1.362741           0.534781         0.465219\n",
       "E   1.167930   1.647053           0.317970         0.682030"
      ]
     },
     "execution_count": 22,
     "metadata": {},
     "output_type": "execute_result"
    }
   ],
   "source": [
    "df_distances_from_C = pd.DataFrame({\n",
    "    'Euclidean': [compute_distances(C_norm, A_norm)[0], compute_distances(C_norm, B_norm)[0], compute_distances(C_norm, D_norm)[0], compute_distances(C_norm, E_norm)[0]],\n",
    "    'Manhattan': [compute_distances(C_norm, A_norm)[1], compute_distances(C_norm, B_norm)[1], compute_distances(C_norm, D_norm)[1], compute_distances(C_norm, E_norm)[1]],\n",
    "    'Cosine Similarity': [compute_distances(C_norm, A_norm)[2], compute_distances(C_norm, B_norm)[2], compute_distances(C_norm, D_norm)[2], compute_distances(C_norm, E_norm)[2]],\n",
    "    'Cosine Distance': [compute_distances(C_norm, A_norm)[3], compute_distances(C_norm, B_norm)[3], compute_distances(C_norm, D_norm)[3], compute_distances(C_norm, E_norm)[3]]\n",
    "})\n",
    "df_distances_from_C.index = ['A', 'B', 'D', 'E']\n",
    "df_distances_from_C"
   ]
  },
  {
   "cell_type": "code",
   "execution_count": 23,
   "metadata": {},
   "outputs": [
    {
     "data": {
      "text/html": [
       "<div>\n",
       "<style scoped>\n",
       "    .dataframe tbody tr th:only-of-type {\n",
       "        vertical-align: middle;\n",
       "    }\n",
       "\n",
       "    .dataframe tbody tr th {\n",
       "        vertical-align: top;\n",
       "    }\n",
       "\n",
       "    .dataframe thead th {\n",
       "        text-align: right;\n",
       "    }\n",
       "</style>\n",
       "<table border=\"1\" class=\"dataframe\">\n",
       "  <thead>\n",
       "    <tr style=\"text-align: right;\">\n",
       "      <th></th>\n",
       "      <th>Euclidean</th>\n",
       "      <th>Manhattan</th>\n",
       "      <th>Cosine Similarity</th>\n",
       "      <th>Cosine Distance</th>\n",
       "    </tr>\n",
       "  </thead>\n",
       "  <tbody>\n",
       "    <tr>\n",
       "      <th>A</th>\n",
       "      <td>0.814155</td>\n",
       "      <td>1.150525</td>\n",
       "      <td>0.668576</td>\n",
       "      <td>0.331424</td>\n",
       "    </tr>\n",
       "    <tr>\n",
       "      <th>B</th>\n",
       "      <td>1.049966</td>\n",
       "      <td>1.478223</td>\n",
       "      <td>0.448786</td>\n",
       "      <td>0.551214</td>\n",
       "    </tr>\n",
       "    <tr>\n",
       "      <th>C</th>\n",
       "      <td>0.964592</td>\n",
       "      <td>1.362741</td>\n",
       "      <td>0.534781</td>\n",
       "      <td>0.465219</td>\n",
       "    </tr>\n",
       "    <tr>\n",
       "      <th>E</th>\n",
       "      <td>0.240082</td>\n",
       "      <td>0.284312</td>\n",
       "      <td>0.971180</td>\n",
       "      <td>0.028820</td>\n",
       "    </tr>\n",
       "  </tbody>\n",
       "</table>\n",
       "</div>"
      ],
      "text/plain": [
       "   Euclidean  Manhattan  Cosine Similarity  Cosine Distance\n",
       "A   0.814155   1.150525           0.668576         0.331424\n",
       "B   1.049966   1.478223           0.448786         0.551214\n",
       "C   0.964592   1.362741           0.534781         0.465219\n",
       "E   0.240082   0.284312           0.971180         0.028820"
      ]
     },
     "execution_count": 23,
     "metadata": {},
     "output_type": "execute_result"
    }
   ],
   "source": [
    "df_distances_from_D = pd.DataFrame({\n",
    "    'Euclidean': [compute_distances(D_norm, A_norm)[0], compute_distances(D_norm, B_norm)[0], compute_distances(D_norm, C_norm)[0], compute_distances(D_norm, E_norm)[0]],\n",
    "    'Manhattan': [compute_distances(D_norm, A_norm)[1], compute_distances(D_norm, B_norm)[1], compute_distances(D_norm, C_norm)[1], compute_distances(D_norm, E_norm)[1]],\n",
    "    'Cosine Similarity': [compute_distances(D_norm, A_norm)[2], compute_distances(D_norm, B_norm)[2], compute_distances(D_norm, C_norm)[2], compute_distances(D_norm, E_norm)[2]],\n",
    "    'Cosine Distance': [compute_distances(D_norm, A_norm)[3], compute_distances(D_norm, B_norm)[3], compute_distances(D_norm, C_norm)[3], compute_distances(D_norm, E_norm)[3]]\n",
    "})\n",
    "df_distances_from_D.index = ['A', 'B', 'C', 'E']\n",
    "df_distances_from_D"
   ]
  },
  {
   "cell_type": "code",
   "execution_count": 70,
   "metadata": {},
   "outputs": [
    {
     "data": {
      "text/html": [
       "<div>\n",
       "<style scoped>\n",
       "    .dataframe tbody tr th:only-of-type {\n",
       "        vertical-align: middle;\n",
       "    }\n",
       "\n",
       "    .dataframe tbody tr th {\n",
       "        vertical-align: top;\n",
       "    }\n",
       "\n",
       "    .dataframe thead th {\n",
       "        text-align: right;\n",
       "    }\n",
       "</style>\n",
       "<table border=\"1\" class=\"dataframe\">\n",
       "  <thead>\n",
       "    <tr style=\"text-align: right;\">\n",
       "      <th></th>\n",
       "      <th>Euclidean</th>\n",
       "      <th>Manhattan</th>\n",
       "      <th>Cosine Similarity</th>\n",
       "      <th>Cosine Distance</th>\n",
       "    </tr>\n",
       "  </thead>\n",
       "  <tbody>\n",
       "    <tr>\n",
       "      <th>A</th>\n",
       "      <td>1.027557</td>\n",
       "      <td>1.434837</td>\n",
       "      <td>0.472064</td>\n",
       "      <td>0.527936</td>\n",
       "    </tr>\n",
       "    <tr>\n",
       "      <th>B</th>\n",
       "      <td>1.246710</td>\n",
       "      <td>1.762535</td>\n",
       "      <td>0.222857</td>\n",
       "      <td>0.777143</td>\n",
       "    </tr>\n",
       "    <tr>\n",
       "      <th>C</th>\n",
       "      <td>1.167930</td>\n",
       "      <td>1.647053</td>\n",
       "      <td>0.317970</td>\n",
       "      <td>0.682030</td>\n",
       "    </tr>\n",
       "    <tr>\n",
       "      <th>D</th>\n",
       "      <td>0.240082</td>\n",
       "      <td>0.284312</td>\n",
       "      <td>0.971180</td>\n",
       "      <td>0.028820</td>\n",
       "    </tr>\n",
       "  </tbody>\n",
       "</table>\n",
       "</div>"
      ],
      "text/plain": [
       "   Euclidean  Manhattan  Cosine Similarity  Cosine Distance\n",
       "A   1.027557   1.434837           0.472064         0.527936\n",
       "B   1.246710   1.762535           0.222857         0.777143\n",
       "C   1.167930   1.647053           0.317970         0.682030\n",
       "D   0.240082   0.284312           0.971180         0.028820"
      ]
     },
     "execution_count": 70,
     "metadata": {},
     "output_type": "execute_result"
    }
   ],
   "source": [
    "df_distances_from_E = pd.DataFrame({\n",
    "    'Euclidean': [compute_distances(E_norm, A_norm)[0], compute_distances(E_norm, B_norm)[0], compute_distances(E_norm, C_norm)[0], compute_distances(E_norm, D_norm)[0]],\n",
    "    'Manhattan': [compute_distances(E_norm, A_norm)[1], compute_distances(E_norm, B_norm)[1], compute_distances(E_norm, C_norm)[1], compute_distances(E_norm, D_norm)[1]],\n",
    "    'Cosine Similarity': [compute_distances(E_norm, A_norm)[2], compute_distances(E_norm, B_norm)[2], compute_distances(E_norm, C_norm)[2], compute_distances(E_norm, D_norm)[2]],\n",
    "    'Cosine Distance': [compute_distances(E_norm, A_norm)[3], compute_distances(E_norm, B_norm)[3], compute_distances(E_norm, C_norm)[3], compute_distances(E_norm, D_norm)[3]]\n",
    "})\n",
    "df_distances_from_E.index = ['A', 'B', 'C', 'D']\n",
    "df_distances_from_E"
   ]
  },
  {
   "cell_type": "markdown",
   "metadata": {},
   "source": [
    "<h3 style = 'color:green'>2.3 Compute Distances from Search Query</h3>"
   ]
  },
  {
   "cell_type": "code",
   "execution_count": 28,
   "metadata": {},
   "outputs": [
    {
     "data": {
      "text/html": [
       "<div>\n",
       "<style scoped>\n",
       "    .dataframe tbody tr th:only-of-type {\n",
       "        vertical-align: middle;\n",
       "    }\n",
       "\n",
       "    .dataframe tbody tr th {\n",
       "        vertical-align: top;\n",
       "    }\n",
       "\n",
       "    .dataframe thead th {\n",
       "        text-align: right;\n",
       "    }\n",
       "</style>\n",
       "<table border=\"1\" class=\"dataframe\">\n",
       "  <thead>\n",
       "    <tr style=\"text-align: right;\">\n",
       "      <th></th>\n",
       "      <th>Euclidean</th>\n",
       "      <th>Manhattan</th>\n",
       "      <th>Cosine Similarity</th>\n",
       "      <th>Cosine Distance</th>\n",
       "    </tr>\n",
       "  </thead>\n",
       "  <tbody>\n",
       "    <tr>\n",
       "      <th>A</th>\n",
       "      <td>0.232176</td>\n",
       "      <td>0.288645</td>\n",
       "      <td>0.973047</td>\n",
       "      <td>0.026953</td>\n",
       "    </tr>\n",
       "    <tr>\n",
       "      <th>B</th>\n",
       "      <td>0.034183</td>\n",
       "      <td>0.039053</td>\n",
       "      <td>0.999416</td>\n",
       "      <td>0.000584</td>\n",
       "    </tr>\n",
       "    <tr>\n",
       "      <th>C</th>\n",
       "      <td>0.064647</td>\n",
       "      <td>0.076429</td>\n",
       "      <td>0.997910</td>\n",
       "      <td>0.002090</td>\n",
       "    </tr>\n",
       "    <tr>\n",
       "      <th>D</th>\n",
       "      <td>1.020719</td>\n",
       "      <td>1.439170</td>\n",
       "      <td>0.479067</td>\n",
       "      <td>0.520933</td>\n",
       "    </tr>\n",
       "    <tr>\n",
       "      <th>E</th>\n",
       "      <td>1.219799</td>\n",
       "      <td>1.723482</td>\n",
       "      <td>0.256046</td>\n",
       "      <td>0.743954</td>\n",
       "    </tr>\n",
       "  </tbody>\n",
       "</table>\n",
       "</div>"
      ],
      "text/plain": [
       "   Euclidean  Manhattan  Cosine Similarity  Cosine Distance\n",
       "A   0.232176   0.288645           0.973047         0.026953\n",
       "B   0.034183   0.039053           0.999416         0.000584\n",
       "C   0.064647   0.076429           0.997910         0.002090\n",
       "D   1.020719   1.439170           0.479067         0.520933\n",
       "E   1.219799   1.723482           0.256046         0.743954"
      ]
     },
     "execution_count": 28,
     "metadata": {},
     "output_type": "execute_result"
    }
   ],
   "source": [
    "query_vector = np.array([4, 23])\n",
    "query_vector_norm = query_vector / np.linalg.norm(query_vector)\n",
    "\n",
    "df_distances_from_query = pd.DataFrame({\n",
    "    'Euclidean': [compute_distances(query_vector_norm, A_norm)[0], compute_distances(query_vector_norm, B_norm)[0], compute_distances(query_vector_norm, C_norm)[0], compute_distances(query_vector_norm, D_norm)[0], compute_distances(query_vector_norm, E_norm)[0]],\n",
    "    'Manhattan': [compute_distances(query_vector_norm, A_norm)[1], compute_distances(query_vector_norm, B_norm)[1], compute_distances(query_vector_norm, C_norm)[1], compute_distances(query_vector_norm, D_norm)[1], compute_distances(query_vector_norm, E_norm)[1]],\n",
    "    'Cosine Similarity': [compute_distances(query_vector_norm, A_norm)[2], compute_distances(query_vector_norm, B_norm)[2], compute_distances(query_vector_norm, C_norm)[2], compute_distances(query_vector_norm, D_norm)[2], compute_distances(query_vector_norm, E_norm)[2]],\n",
    "    'Cosine Distance': [compute_distances(query_vector_norm, A_norm)[3], compute_distances(query_vector_norm, B_norm)[3], compute_distances(query_vector_norm, C_norm)[3], compute_distances(query_vector_norm, D_norm)[3], compute_distances(query_vector_norm, E_norm)[3]]\n",
    "})\n",
    "df_distances_from_query.index = ['A', 'B', 'C', 'D', 'E']\n",
    "df_distances_from_query"
   ]
  },
  {
   "cell_type": "code",
   "execution_count": 29,
   "metadata": {},
   "outputs": [
    {
     "data": {
      "text/plain": [
       "'B'"
      ]
     },
     "execution_count": 29,
     "metadata": {},
     "output_type": "execute_result"
    }
   ],
   "source": [
    "# Find the closest vector to the query vector using Cosine Distance\n",
    "closest_vector = df_distances_from_query['Cosine Distance'].idxmin()\n",
    "closest_vector"
   ]
  },
  {
   "cell_type": "code",
   "execution_count": 34,
   "metadata": {},
   "outputs": [
    {
     "data": {
      "image/png": "[encoded data removed]",
      "text/plain": [
       "<Figure size 640x480 with 1 Axes>"
      ]
     },
     "metadata": {},
     "output_type": "display_data"
    }
   ],
   "source": [
    "# Plot Vectors\n",
    "x1 = query_vector_norm[0]; x2 = A_norm[0]; x3 = B_norm[0]; x4 = C_norm[0]; x5 = D_norm[0]; x6 = E_norm[0]\n",
    "y1 = query_vector_norm[1]; y2 = A_norm[1]; y3 = B_norm[1]; y4 = C_norm[1]; y5 = D_norm[1]; y6 = E_norm[1] \n",
    "\n",
    "# Plot two vectors from 0, 0 to x1, y1 and x2, y2\n",
    "QV1 = plt.quiver([0, 0, 0, 0, 0, 0], \n",
    "                 [0, 0, 0, 0, 0, 0], \n",
    "                 [x1, x2, x3, x4, x5, x6], \n",
    "                 [y1, y2, y3, y4, y5, y6], \n",
    "                 angles='xy', \n",
    "                 scale_units='xy', \n",
    "                 scale=1, \n",
    "                 color=['r', 'b', 'g', 'y', 'c', 'm'])\n",
    "\n",
    "plt.xlim([0,1])\n",
    "plt.ylim([0,1])\n",
    "plt.xlabel('x', fontsize=16)\n",
    "plt.ylabel('y', fontsize=16)\n",
    "plt.title('All Vectors', fontsize=16)\n",
    "plt.show()"
   ]
  },
  {
   "cell_type": "code",
   "execution_count": 33,
   "metadata": {},
   "outputs": [
    {
     "data": {
      "image/png": "[encoded data removed]",
      "text/plain": [
       "<Figure size 640x480 with 1 Axes>"
      ]
     },
     "metadata": {},
     "output_type": "display_data"
    }
   ],
   "source": [
    "# Plot Closest Vector and Search Query Vector\n",
    "x1 = query_vector_norm[0]; x2 = B_norm[0]\n",
    "y1 = query_vector_norm[1]; y2 = B_norm[1]\n",
    "\n",
    "# Plot two vectors from 0, 0 to x1, y1 and x2, y2\n",
    "QV1 = plt.quiver([0, 0], \n",
    "                 [0, 0], \n",
    "                 [x1, x2], \n",
    "                 [y1, y2], \n",
    "                 angles='xy', \n",
    "                 scale_units='xy', \n",
    "                 scale=1, \n",
    "                 color=['r', 'b'])\n",
    "\n",
    "plt.xlim([0,1])\n",
    "plt.ylim([0,1])\n",
    "plt.xlabel('x', fontsize=16)\n",
    "plt.ylabel('y', fontsize=16)\n",
    "plt.title('Closest Vectors', fontsize=16)\n",
    "plt.show()"
   ]
  },
  {
   "cell_type": "markdown",
   "metadata": {},
   "source": [
    "<h3 style = 'color:green'>2.4 Zipf's Law</h3>"
   ]
  },
  {
   "cell_type": "code",
   "execution_count": 42,
   "metadata": {},
   "outputs": [],
   "source": [
    "puncs = [',', '.', '``', \"''\", ':', ';', '?', '(', ')', '[', ']', '--', '&', '!', '*', '@', '#', '$', '%', '...']"
   ]
  },
  {
   "cell_type": "code",
   "execution_count": 44,
   "metadata": {},
   "outputs": [],
   "source": [
    "word_list_H = [word.lower() for word in blobH.words if word not in puncs and '_' not in word and ' ' not in word]\n",
    "word_list_RJ = [word.lower() for word in blobRJ.words if word not in puncs and '_' not in word and ' ' not in word]"
   ]
  },
  {
   "cell_type": "code",
   "execution_count": 51,
   "metadata": {},
   "outputs": [
    {
     "name": "stdout",
     "output_type": "stream",
     "text": [
      "[('the', 1302), ('’', 1068), ('and', 1053), ('to', 827), ('of', 800), ('you', 632), ('i', 630), ('a', 610), ('in', 527), ('my', 516)]\n",
      "[('the', 876), ('’', 869), ('and', 808), ('i', 655), ('to', 626), ('a', 542), ('of', 519), ('in', 395), ('is', 372), ('that', 369)]\n"
     ]
    }
   ],
   "source": [
    "token_counts_H = Counter(word_list_H)\n",
    "token_counts_RJ = Counter(word_list_RJ)\n",
    "\n",
    "print(token_counts_H.most_common(10))\n",
    "print(token_counts_RJ.most_common(10))"
   ]
  },
  {
   "cell_type": "code",
   "execution_count": 52,
   "metadata": {},
   "outputs": [
    {
     "data": {
      "text/plain": [
       "[<matplotlib.lines.Line2D at 0x16551a8be10>]"
      ]
     },
     "execution_count": 52,
     "metadata": {},
     "output_type": "execute_result"
    },
    {
     "data": {
      "image/png": "[encoded data removed]",
      "text/plain": [
       "<Figure size 640x480 with 1 Axes>"
      ]
     },
     "metadata": {},
     "output_type": "display_data"
    }
   ],
   "source": [
    "sorted_token_counts = OrderedDict(sorted(token_counts_H.items(), key= lambda x: x[1], reverse=True))\n",
    "frequency_vector = np.array(list(sorted_token_counts.values()))\n",
    "rank = np.arange(1, len(frequency_vector) + 1)\n",
    "\n",
    "plt.clf()\n",
    "plt.title('Zipf Plot for Hamlet')\n",
    "plt.plot(np.log10(rank), np.log10(frequency_vector))"
   ]
  },
  {
   "cell_type": "code",
   "execution_count": 53,
   "metadata": {},
   "outputs": [
    {
     "data": {
      "text/plain": [
       "[<matplotlib.lines.Line2D at 0x16551a88090>]"
      ]
     },
     "execution_count": 53,
     "metadata": {},
     "output_type": "execute_result"
    },
    {
     "data": {
      "image/png": "[encoded data removed]",
      "text/plain": [
       "<Figure size 640x480 with 1 Axes>"
      ]
     },
     "metadata": {},
     "output_type": "display_data"
    }
   ],
   "source": [
    "sorted_token_counts = OrderedDict(sorted(token_counts_RJ.items(), key= lambda x: x[1], reverse=True))\n",
    "frequency_vector = np.array(list(sorted_token_counts.values()))\n",
    "rank = np.arange(1, len(frequency_vector) + 1)\n",
    "\n",
    "plt.clf()\n",
    "plt.title('Zipf Plot for Romeo & Juliet')\n",
    "plt.plot(np.log10(rank), np.log10(frequency_vector))"
   ]
  },
  {
   "cell_type": "markdown",
   "metadata": {},
   "source": [
    "<h3 style = 'color:green'>2.5 TF-IDF Vectors</h3>"
   ]
  },
  {
   "cell_type": "markdown",
   "metadata": {},
   "source": [
    "The Scikit-Learn implementation of TF-IDF is used to compute the TF-IDF vectors for each document. By default, the data is normalized using the L2-norm. This calculation is missing when calculating the TF-IDF manually.\n",
    "\n",
    "In the following example, I have normalized the calculation."
   ]
  },
  {
   "cell_type": "code",
   "execution_count": 59,
   "metadata": {},
   "outputs": [
    {
     "data": {
      "text/plain": [
       "['disneyland is in orange county',\n",
       " 'orange county disneyland is better than orlando disneyland']"
      ]
     },
     "execution_count": 59,
     "metadata": {},
     "output_type": "execute_result"
    }
   ],
   "source": [
    "doc_1 = \"disneyland is in orange county\"\n",
    "doc_2 = \"orange county disneyland is better than orlando disneyland\"\n",
    "corpus = [doc_1, doc_2]\n",
    "corpus"
   ]
  },
  {
   "cell_type": "code",
   "execution_count": 60,
   "metadata": {},
   "outputs": [],
   "source": [
    "# Compute Standard TF-IDF values\n",
    "\n",
    "# Create a CountVectorizer for parsing/counting words\n",
    "count_vectorizer = CountVectorizer(stop_words='english')\n",
    "X = count_vectorizer.fit_transform(corpus)"
   ]
  },
  {
   "cell_type": "code",
   "execution_count": 64,
   "metadata": {},
   "outputs": [
    {
     "data": {
      "text/plain": [
       "array([1, 2, 2, 2, 1])"
      ]
     },
     "execution_count": 64,
     "metadata": {},
     "output_type": "execute_result"
    }
   ],
   "source": [
    "df = np.sum(X.toarray() > 0, axis=0)\n",
    "df"
   ]
  },
  {
   "cell_type": "code",
   "execution_count": 66,
   "metadata": {},
   "outputs": [],
   "source": [
    "tf = X.toarray()\n",
    "idf = np.log10(len(corpus) / df) + 1"
   ]
  },
  {
   "cell_type": "code",
   "execution_count": 67,
   "metadata": {},
   "outputs": [
    {
     "data": {
      "text/plain": [
       "array([[0.        , 0.28414873, 0.28414873, 0.28414873, 0.        ],\n",
       "       [0.36968602, 0.28414873, 0.56829746, 0.28414873, 0.36968602]])"
      ]
     },
     "execution_count": 67,
     "metadata": {},
     "output_type": "execute_result"
    }
   ],
   "source": [
    "tfidf_manual = tf * idf\n",
    "tfidf_manual_normalized = tfidf_manual / np.linalg.norm(tfidf_manual)\n",
    "tfidf_manual_normalized"
   ]
  },
  {
   "cell_type": "code",
   "execution_count": 69,
   "metadata": {},
   "outputs": [
    {
     "data": {
      "text/plain": [
       "array([[0.        , 0.57735027, 0.57735027, 0.57735027, 0.        ],\n",
       "       [0.44554752, 0.31701073, 0.63402146, 0.31701073, 0.44554752]])"
      ]
     },
     "execution_count": 69,
     "metadata": {},
     "output_type": "execute_result"
    }
   ],
   "source": [
    "# Using scikit-learn's TfidfTransformer\n",
    "transformer = TfidfTransformer()\n",
    "tfidf_sklearn = transformer.fit_transform(X)\n",
    "tfidf_sklearn_array = tfidf_sklearn.toarray()\n",
    "tfidf_sklearn_array"
   ]
  },
  {
   "cell_type": "code",
   "execution_count": null,
   "metadata": {},
   "outputs": [],
   "source": []
  }
 ],
 "metadata": {
  "kernelspec": {
   "display_name": "base",
   "language": "python",
   "name": "python3"
  },
  "language_info": {
   "codemirror_mode": {
    "name": "ipython",
    "version": 3
   },
   "file_extension": ".py",
   "mimetype": "text/x-python",
   "name": "python",
   "nbconvert_exporter": "python",
   "pygments_lexer": "ipython3",
   "version": "3.11.5"
  }
 },
 "nbformat": 4,
 "nbformat_minor": 2
}
