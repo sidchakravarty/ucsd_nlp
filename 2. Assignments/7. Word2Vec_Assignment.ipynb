{
 "cells": [
  {
   "cell_type": "markdown",
   "metadata": {},
   "source": [
    "<h1>CS 41344 - Natural Language Processing</h1>\n",
    "<h2 style = 'color:yellow'>Assignment - 7: Word2Vec</h2>"
   ]
  },
  {
   "cell_type": "markdown",
   "metadata": {},
   "source": [
    "<h3 style = 'color:lightgreen'>Assignment - 7.0 Import Libraries</h3>"
   ]
  },
  {
   "cell_type": "code",
   "execution_count": 1,
   "metadata": {},
   "outputs": [],
   "source": [
    "import numpy as np\n",
    "import pandas as pd\n",
    "import matplotlib.pyplot as plt\n",
    "from IPython.display import display, Image\n",
    "from gensim.models import Word2Vec, KeyedVectors\n",
    "\n",
    "import nltk\n",
    "from nltk.corpus import stopwords\n",
    "from nltk.tokenize import word_tokenize\n",
    "\n",
    "import tensorflow as tf\n",
    "import tensorflow_hub as hub\n",
    "import keras as ks\n",
    "from keras.models import Sequential\n",
    "from keras.layers import Dense, Activation, Dropout"
   ]
  },
  {
   "cell_type": "code",
   "execution_count": 2,
   "metadata": {},
   "outputs": [
    {
     "name": "stderr",
     "output_type": "stream",
     "text": [
      "[nltk_data] Downloading package punkt to\n",
      "[nltk_data]     C:\\Users\\Owner\\AppData\\Roaming\\nltk_data...\n",
      "[nltk_data]   Package punkt is already up-to-date!\n",
      "[nltk_data] Downloading package stopwords to\n",
      "[nltk_data]     C:\\Users\\Owner\\AppData\\Roaming\\nltk_data...\n",
      "[nltk_data]   Package stopwords is already up-to-date!\n"
     ]
    }
   ],
   "source": [
    "nltk.download('punkt')  # Tokenizer\n",
    "nltk.download('stopwords')  # Stop words list\n",
    "stop_words = set(stopwords.words('english'))"
   ]
  },
  {
   "cell_type": "markdown",
   "metadata": {},
   "source": [
    "<h3 style = 'color:lightgreen'>7.1 GoogleNews - Vector Math</h3>"
   ]
  },
  {
   "cell_type": "code",
   "execution_count": 3,
   "metadata": {},
   "outputs": [],
   "source": [
    "path = r'D:\\Documents\\Education\\UC San Diego\\10. NLP\\3. Data\\Google News\\GoogleNews-vectors-negative300.bin'\n",
    "model = KeyedVectors.load_word2vec_format(path, binary=True, limit=500000)"
   ]
  },
  {
   "cell_type": "code",
   "execution_count": 4,
   "metadata": {},
   "outputs": [],
   "source": [
    "def find_most_similar(vec, topn=10):\n",
    "    \"\"\"\n",
    "    Find the most similar words to the given vector.\n",
    "    \n",
    "    \n",
    "    :param vec: Vector to find most similar words to.\n",
    "    :param topn: Number of most similar words to return.\n",
    "    \n",
    "    :return: List of most similar words to the given vector.\n",
    "    \"\"\"\n",
    "    return model.most_similar([vec], topn=topn)[1:]"
   ]
  },
  {
   "cell_type": "code",
   "execution_count": 5,
   "metadata": {},
   "outputs": [
    {
     "data": {
      "text/plain": [
       "[('politics', 0.4568769037723541),\n",
       " ('Mowlam', 0.40961188077926636),\n",
       " ('Sue_Ryder', 0.4075208306312561),\n",
       " ('Breast_Cancer_Campaign', 0.39671528339385986),\n",
       " ('Mo_Mowlam', 0.37945008277893066),\n",
       " ('Breakthrough_Breast_Cancer', 0.37573352456092834),\n",
       " ('WRVS', 0.3747096359729767),\n",
       " ('CLIC_Sargent', 0.37424948811531067),\n",
       " ('Margaret_Thatcher', 0.3684638738632202)]"
      ]
     },
     "execution_count": 5,
     "metadata": {},
     "output_type": "execute_result"
    }
   ],
   "source": [
    "find_most_similar(model['Marie_Curie'] - model['physics'] + model['politics'])"
   ]
  },
  {
   "cell_type": "code",
   "execution_count": 6,
   "metadata": {},
   "outputs": [
    {
     "data": {
      "text/plain": [
       "[('Dolphins', 0.7073556184768677),\n",
       " ('Miami_Dolphins', 0.6461876034736633),\n",
       " ('Broncos', 0.6419293284416199),\n",
       " ('Seminoles', 0.6188381910324097),\n",
       " ('Gators', 0.6109528541564941),\n",
       " ('Hokies', 0.5927007794380188),\n",
       " ('Dallas_Cowboys', 0.5866430401802063),\n",
       " ('Sooners', 0.586640477180481),\n",
       " ('Cleveland_Browns', 0.5844414234161377)]"
      ]
     },
     "execution_count": 6,
     "metadata": {},
     "output_type": "execute_result"
    }
   ],
   "source": [
    "find_most_similar(model['Cowboys'] - model['Dallas'] + model['Miami'])"
   ]
  },
  {
   "cell_type": "code",
   "execution_count": 7,
   "metadata": {},
   "outputs": [
    {
     "data": {
      "text/plain": [
       "[('Colorado', 0.7621334791183472),\n",
       " ('Sacramento', 0.7206397652626038),\n",
       " ('Grand_Junction', 0.6696534752845764),\n",
       " ('Fort_Collins', 0.6669073104858398),\n",
       " ('Boulder', 0.6501880288124084),\n",
       " ('Colorado_Springs', 0.6477944850921631),\n",
       " ('Pueblo', 0.6256301403045654),\n",
       " ('Spokane', 0.6246553063392639),\n",
       " ('Gunnison', 0.6222273111343384)]"
      ]
     },
     "execution_count": 7,
     "metadata": {},
     "output_type": "execute_result"
    }
   ],
   "source": [
    "find_most_similar(model['Sacramento'] - model['California'] + model['Colorado'])"
   ]
  },
  {
   "cell_type": "code",
   "execution_count": 8,
   "metadata": {},
   "outputs": [
    {
     "data": {
      "text/plain": [
       "[('Giants', 0.6826241612434387),\n",
       " ('Niners', 0.6466033458709717),\n",
       " ('##ers', 0.6438729166984558),\n",
       " ('San_Francisco_##ers', 0.6088259816169739),\n",
       " ('Oakland_Raiders', 0.6043735146522522),\n",
       " ('Broncos', 0.5943415760993958),\n",
       " ('Raiders', 0.5565468072891235),\n",
       " ('Seahawks', 0.5484771728515625),\n",
       " ('Dallas_Cowboys', 0.5368008613586426)]"
      ]
     },
     "execution_count": 8,
     "metadata": {},
     "output_type": "execute_result"
    }
   ],
   "source": [
    "find_most_similar(model['Cowboys'] - model['Dallas'] + model['San_Francisco'])"
   ]
  },
  {
   "cell_type": "markdown",
   "metadata": {},
   "source": [
    "<h3 style = 'color:lightgreen'>7.2 GoogleNews - Compute Similarity</h3>"
   ]
  },
  {
   "cell_type": "code",
   "execution_count": 9,
   "metadata": {},
   "outputs": [],
   "source": [
    "def computeSimilarity(words: list) -> np.ndarray:\n",
    "    similarity_between_words = np.zeros((len(words), len(words))) # Create a matrix to store the similarity between words\n",
    "    for i in range(len(words)):\n",
    "        for j in range(len(words)):\n",
    "            similarity_between_words[i, j] = model.similarity(words[i], words[j])\n",
    "    return similarity_between_words"
   ]
  },
  {
   "cell_type": "code",
   "execution_count": 10,
   "metadata": {},
   "outputs": [
    {
     "data": {
      "text/html": [
       "<div>\n",
       "<style scoped>\n",
       "    .dataframe tbody tr th:only-of-type {\n",
       "        vertical-align: middle;\n",
       "    }\n",
       "\n",
       "    .dataframe tbody tr th {\n",
       "        vertical-align: top;\n",
       "    }\n",
       "\n",
       "    .dataframe thead th {\n",
       "        text-align: right;\n",
       "    }\n",
       "</style>\n",
       "<table border=\"1\" class=\"dataframe\">\n",
       "  <thead>\n",
       "    <tr style=\"text-align: right;\">\n",
       "      <th></th>\n",
       "      <th>beautiful</th>\n",
       "      <th>gorgeous</th>\n",
       "      <th>dazzling</th>\n",
       "      <th>splendid</th>\n",
       "      <th>magnificient</th>\n",
       "      <th>ugly</th>\n",
       "    </tr>\n",
       "  </thead>\n",
       "  <tbody>\n",
       "    <tr>\n",
       "      <th>beautiful</th>\n",
       "      <td>1.000000</td>\n",
       "      <td>0.835300</td>\n",
       "      <td>0.479497</td>\n",
       "      <td>0.553344</td>\n",
       "      <td>0.492378</td>\n",
       "      <td>0.334443</td>\n",
       "    </tr>\n",
       "    <tr>\n",
       "      <th>gorgeous</th>\n",
       "      <td>0.835300</td>\n",
       "      <td>1.000000</td>\n",
       "      <td>0.529788</td>\n",
       "      <td>0.550633</td>\n",
       "      <td>0.423641</td>\n",
       "      <td>0.298337</td>\n",
       "    </tr>\n",
       "    <tr>\n",
       "      <th>dazzling</th>\n",
       "      <td>0.479497</td>\n",
       "      <td>0.529788</td>\n",
       "      <td>1.000000</td>\n",
       "      <td>0.661542</td>\n",
       "      <td>0.449416</td>\n",
       "      <td>0.216860</td>\n",
       "    </tr>\n",
       "    <tr>\n",
       "      <th>splendid</th>\n",
       "      <td>0.553344</td>\n",
       "      <td>0.550633</td>\n",
       "      <td>0.661542</td>\n",
       "      <td>1.000000</td>\n",
       "      <td>0.595924</td>\n",
       "      <td>0.224971</td>\n",
       "    </tr>\n",
       "    <tr>\n",
       "      <th>magnificient</th>\n",
       "      <td>0.492378</td>\n",
       "      <td>0.423641</td>\n",
       "      <td>0.449416</td>\n",
       "      <td>0.595924</td>\n",
       "      <td>1.000000</td>\n",
       "      <td>0.170645</td>\n",
       "    </tr>\n",
       "    <tr>\n",
       "      <th>ugly</th>\n",
       "      <td>0.334443</td>\n",
       "      <td>0.298337</td>\n",
       "      <td>0.216860</td>\n",
       "      <td>0.224971</td>\n",
       "      <td>0.170645</td>\n",
       "      <td>1.000000</td>\n",
       "    </tr>\n",
       "  </tbody>\n",
       "</table>\n",
       "</div>"
      ],
      "text/plain": [
       "              beautiful  gorgeous  dazzling  splendid  magnificient      ugly\n",
       "beautiful      1.000000  0.835300  0.479497  0.553344      0.492378  0.334443\n",
       "gorgeous       0.835300  1.000000  0.529788  0.550633      0.423641  0.298337\n",
       "dazzling       0.479497  0.529788  1.000000  0.661542      0.449416  0.216860\n",
       "splendid       0.553344  0.550633  0.661542  1.000000      0.595924  0.224971\n",
       "magnificient   0.492378  0.423641  0.449416  0.595924      1.000000  0.170645\n",
       "ugly           0.334443  0.298337  0.216860  0.224971      0.170645  1.000000"
      ]
     },
     "execution_count": 10,
     "metadata": {},
     "output_type": "execute_result"
    }
   ],
   "source": [
    "similarity_matrix = computeSimilarity(['beautiful', 'gorgeous', 'dazzling', 'splendid', 'magnificient', 'ugly'])\n",
    "df = pd.DataFrame(similarity_matrix, columns = ['beautiful', 'gorgeous', 'dazzling', 'splendid', 'magnificient', 'ugly'],\n",
    "                  index = ['beautiful', 'gorgeous', 'dazzling', 'splendid', 'magnificient', 'ugly'])\n",
    "df"
   ]
  },
  {
   "cell_type": "markdown",
   "metadata": {},
   "source": [
    "<h3 style = 'color:lightgreen'>7.3 GoogleNews - Compute Similarity</h3>"
   ]
  },
  {
   "cell_type": "code",
   "execution_count": 11,
   "metadata": {},
   "outputs": [
    {
     "data": {
      "text/html": [
       "<div>\n",
       "<style scoped>\n",
       "    .dataframe tbody tr th:only-of-type {\n",
       "        vertical-align: middle;\n",
       "    }\n",
       "\n",
       "    .dataframe tbody tr th {\n",
       "        vertical-align: top;\n",
       "    }\n",
       "\n",
       "    .dataframe thead th {\n",
       "        text-align: right;\n",
       "    }\n",
       "</style>\n",
       "<table border=\"1\" class=\"dataframe\">\n",
       "  <thead>\n",
       "    <tr style=\"text-align: right;\">\n",
       "      <th></th>\n",
       "      <th>false</th>\n",
       "      <th>fake</th>\n",
       "      <th>fradulent</th>\n",
       "      <th>counterfeit</th>\n",
       "      <th>spurious</th>\n",
       "      <th>true</th>\n",
       "    </tr>\n",
       "  </thead>\n",
       "  <tbody>\n",
       "    <tr>\n",
       "      <th>false</th>\n",
       "      <td>1.000000</td>\n",
       "      <td>0.555666</td>\n",
       "      <td>0.509870</td>\n",
       "      <td>0.329798</td>\n",
       "      <td>0.537212</td>\n",
       "      <td>0.370943</td>\n",
       "    </tr>\n",
       "    <tr>\n",
       "      <th>fake</th>\n",
       "      <td>0.555666</td>\n",
       "      <td>1.000000</td>\n",
       "      <td>0.513419</td>\n",
       "      <td>0.613547</td>\n",
       "      <td>0.433471</td>\n",
       "      <td>0.280526</td>\n",
       "    </tr>\n",
       "    <tr>\n",
       "      <th>fradulent</th>\n",
       "      <td>0.509870</td>\n",
       "      <td>0.513419</td>\n",
       "      <td>1.000000</td>\n",
       "      <td>0.428285</td>\n",
       "      <td>0.377630</td>\n",
       "      <td>0.211092</td>\n",
       "    </tr>\n",
       "    <tr>\n",
       "      <th>counterfeit</th>\n",
       "      <td>0.329798</td>\n",
       "      <td>0.613547</td>\n",
       "      <td>0.428285</td>\n",
       "      <td>1.000000</td>\n",
       "      <td>0.321455</td>\n",
       "      <td>0.156603</td>\n",
       "    </tr>\n",
       "    <tr>\n",
       "      <th>spurious</th>\n",
       "      <td>0.537212</td>\n",
       "      <td>0.433471</td>\n",
       "      <td>0.377630</td>\n",
       "      <td>0.321455</td>\n",
       "      <td>1.000000</td>\n",
       "      <td>0.282308</td>\n",
       "    </tr>\n",
       "    <tr>\n",
       "      <th>true</th>\n",
       "      <td>0.370943</td>\n",
       "      <td>0.280526</td>\n",
       "      <td>0.211092</td>\n",
       "      <td>0.156603</td>\n",
       "      <td>0.282308</td>\n",
       "      <td>1.000000</td>\n",
       "    </tr>\n",
       "  </tbody>\n",
       "</table>\n",
       "</div>"
      ],
      "text/plain": [
       "                false      fake  fradulent  counterfeit  spurious      true\n",
       "false        1.000000  0.555666   0.509870     0.329798  0.537212  0.370943\n",
       "fake         0.555666  1.000000   0.513419     0.613547  0.433471  0.280526\n",
       "fradulent    0.509870  0.513419   1.000000     0.428285  0.377630  0.211092\n",
       "counterfeit  0.329798  0.613547   0.428285     1.000000  0.321455  0.156603\n",
       "spurious     0.537212  0.433471   0.377630     0.321455  1.000000  0.282308\n",
       "true         0.370943  0.280526   0.211092     0.156603  0.282308  1.000000"
      ]
     },
     "execution_count": 11,
     "metadata": {},
     "output_type": "execute_result"
    }
   ],
   "source": [
    "similarity_matrix = computeSimilarity(['false', 'fake', 'fradulent', 'counterfeit', 'spurious', 'true'])\n",
    "df = pd.DataFrame(similarity_matrix, columns = ['false', 'fake', 'fradulent', 'counterfeit', 'spurious', 'true'],\n",
    "                  index = ['false', 'fake', 'fradulent', 'counterfeit', 'spurious', 'true'])\n",
    "df"
   ]
  },
  {
   "cell_type": "markdown",
   "metadata": {},
   "source": [
    "<h3 style = 'color:lightgreen'>7.4 Compute Similarity between Coke & Pepsi</h3>"
   ]
  },
  {
   "cell_type": "code",
   "execution_count": 12,
   "metadata": {},
   "outputs": [],
   "source": [
    "embed = hub.load(\"https://tfhub.dev/google/Wiki-words-250-with-normalization/2\")"
   ]
  },
  {
   "cell_type": "code",
   "execution_count": 13,
   "metadata": {},
   "outputs": [],
   "source": [
    "# Function to compute cosine similarity\n",
    "def cosine_similarity(v1, v2):\n",
    "    dot_product = np.dot(v1, v2)\n",
    "    norm_v1 = np.linalg.norm(v1)\n",
    "    norm_v2 = np.linalg.norm(v2)\n",
    "    similarity = dot_product / (norm_v1 * norm_v2)\n",
    "    return similarity"
   ]
  },
  {
   "cell_type": "code",
   "execution_count": 14,
   "metadata": {},
   "outputs": [
    {
     "name": "stdout",
     "output_type": "stream",
     "text": [
      "Similarity between 'Coke' and 'Pepsi': 0.62521565\n"
     ]
    }
   ],
   "source": [
    "# Obtain embeddings for \"Coke\" and \"Pepsi\"\n",
    "coke_embedding = embed([\"Coke\"])[0]\n",
    "pepsi_embedding = embed([\"Pepsi\"])[0]\n",
    "\n",
    "# Compute similarity\n",
    "similarity = cosine_similarity(coke_embedding, pepsi_embedding)\n",
    "print(\"Similarity between 'Coke' and 'Pepsi':\", similarity)"
   ]
  },
  {
   "cell_type": "markdown",
   "metadata": {},
   "source": [
    "<h3 style = 'color:lightgreen'>7.5 Compute Skip-Ngram</h3>"
   ]
  },
  {
   "cell_type": "code",
   "execution_count": 15,
   "metadata": {},
   "outputs": [
    {
     "data": {
      "text/plain": [
       "['data science professionals have promising career path']"
      ]
     },
     "execution_count": 15,
     "metadata": {},
     "output_type": "execute_result"
    }
   ],
   "source": [
    "corpus = ['data science professionals have promising career path']\n",
    "corpus = [word.lower() for word in corpus]\n",
    "corpus"
   ]
  },
  {
   "cell_type": "code",
   "execution_count": 16,
   "metadata": {},
   "outputs": [
    {
     "name": "stdout",
     "output_type": "stream",
     "text": [
      "[['data', 'science', 'professionals', 'promising', 'career', 'path']]\n"
     ]
    }
   ],
   "source": [
    "target_words = []\n",
    "for sentence in corpus:\n",
    "    word_tokenized = nltk.word_tokenize(sentence)\n",
    "    filtered_words = [word for word in word_tokenized if word not in stop_words]\n",
    "    target_words.append(filtered_words)\n",
    "\n",
    "# target_words = set(target_words)\n",
    "print(target_words)"
   ]
  },
  {
   "cell_type": "code",
   "execution_count": 17,
   "metadata": {},
   "outputs": [
    {
     "name": "stdout",
     "output_type": "stream",
     "text": [
      "There are 6 unique words in the corpus and these are: ['career', 'data', 'path', 'professionals', 'promising', 'science']\n"
     ]
    }
   ],
   "source": [
    "def flatten_comprehension(matrix):\n",
    "    flattened_list = [item for row in matrix for item in row]\n",
    "    flattened_list = sorted(set(flattened_list))\n",
    "    return [_ for _ in flattened_list]\n",
    "\n",
    "flattened_list = flatten_comprehension(target_words)\n",
    "print(f\"There are {len(flattened_list)} unique words in the corpus and these are: {flattened_list}\")"
   ]
  },
  {
   "cell_type": "code",
   "execution_count": 30,
   "metadata": {},
   "outputs": [
    {
     "data": {
      "text/html": [
       "<div>\n",
       "<style scoped>\n",
       "    .dataframe tbody tr th:only-of-type {\n",
       "        vertical-align: middle;\n",
       "    }\n",
       "\n",
       "    .dataframe tbody tr th {\n",
       "        vertical-align: top;\n",
       "    }\n",
       "\n",
       "    .dataframe thead th {\n",
       "        text-align: right;\n",
       "    }\n",
       "</style>\n",
       "<table border=\"1\" class=\"dataframe\">\n",
       "  <thead>\n",
       "    <tr style=\"text-align: right;\">\n",
       "      <th></th>\n",
       "      <th>word</th>\n",
       "      <th>label</th>\n",
       "    </tr>\n",
       "  </thead>\n",
       "  <tbody>\n",
       "    <tr>\n",
       "      <th>0</th>\n",
       "      <td>data</td>\n",
       "      <td>science</td>\n",
       "    </tr>\n",
       "    <tr>\n",
       "      <th>1</th>\n",
       "      <td>science</td>\n",
       "      <td>data</td>\n",
       "    </tr>\n",
       "    <tr>\n",
       "      <th>2</th>\n",
       "      <td>science</td>\n",
       "      <td>professionals</td>\n",
       "    </tr>\n",
       "    <tr>\n",
       "      <th>3</th>\n",
       "      <td>professionals</td>\n",
       "      <td>science</td>\n",
       "    </tr>\n",
       "    <tr>\n",
       "      <th>4</th>\n",
       "      <td>professionals</td>\n",
       "      <td>promising</td>\n",
       "    </tr>\n",
       "    <tr>\n",
       "      <th>5</th>\n",
       "      <td>promising</td>\n",
       "      <td>professionals</td>\n",
       "    </tr>\n",
       "    <tr>\n",
       "      <th>6</th>\n",
       "      <td>promising</td>\n",
       "      <td>career</td>\n",
       "    </tr>\n",
       "    <tr>\n",
       "      <th>7</th>\n",
       "      <td>career</td>\n",
       "      <td>promising</td>\n",
       "    </tr>\n",
       "    <tr>\n",
       "      <th>8</th>\n",
       "      <td>career</td>\n",
       "      <td>path</td>\n",
       "    </tr>\n",
       "    <tr>\n",
       "      <th>9</th>\n",
       "      <td>path</td>\n",
       "      <td>career</td>\n",
       "    </tr>\n",
       "  </tbody>\n",
       "</table>\n",
       "</div>"
      ],
      "text/plain": [
       "            word          label\n",
       "0           data        science\n",
       "1        science           data\n",
       "2        science  professionals\n",
       "3  professionals        science\n",
       "4  professionals      promising\n",
       "5      promising  professionals\n",
       "6      promising         career\n",
       "7         career      promising\n",
       "8         career           path\n",
       "9           path         career"
      ]
     },
     "execution_count": 30,
     "metadata": {},
     "output_type": "execute_result"
    }
   ],
   "source": [
    "# Generate Skip-Ngrams: Window size = 1\n",
    "\n",
    "WINDOW_SIZE = 1\n",
    "\n",
    "word2int = {word: i for i, word in enumerate(flattened_list)} # Create a dictionary to map words to integers\n",
    "\n",
    "sentences = []\n",
    "for sentence in [' '.join(sentence) for sentence in target_words]: # Creates a list of sentences from a list of lists\n",
    "    sentences.append(sentence.split())\n",
    "\n",
    "skipNgram_data = []\n",
    "for sentence in sentences:\n",
    "    for idx, word in enumerate(sentence):\n",
    "        for neighbor in sentence[max(idx - WINDOW_SIZE, 0): min(idx + WINDOW_SIZE, len(sentence)) + 1]:\n",
    "            if neighbor != word:\n",
    "                skipNgram_data.append([word, neighbor])\n",
    "\n",
    "# Convert skipNgram_data into a DataFrame\n",
    "\n",
    "skipNgram_df_1 = pd.DataFrame(skipNgram_data, columns=['word', 'label'])\n",
    "skipNgram_df_1"
   ]
  },
  {
   "cell_type": "code",
   "execution_count": 31,
   "metadata": {},
   "outputs": [
    {
     "data": {
      "text/html": [
       "<div>\n",
       "<style scoped>\n",
       "    .dataframe tbody tr th:only-of-type {\n",
       "        vertical-align: middle;\n",
       "    }\n",
       "\n",
       "    .dataframe tbody tr th {\n",
       "        vertical-align: top;\n",
       "    }\n",
       "\n",
       "    .dataframe thead th {\n",
       "        text-align: right;\n",
       "    }\n",
       "</style>\n",
       "<table border=\"1\" class=\"dataframe\">\n",
       "  <thead>\n",
       "    <tr style=\"text-align: right;\">\n",
       "      <th></th>\n",
       "      <th>word</th>\n",
       "      <th>label</th>\n",
       "    </tr>\n",
       "  </thead>\n",
       "  <tbody>\n",
       "    <tr>\n",
       "      <th>0</th>\n",
       "      <td>data</td>\n",
       "      <td>science</td>\n",
       "    </tr>\n",
       "    <tr>\n",
       "      <th>1</th>\n",
       "      <td>data</td>\n",
       "      <td>professionals</td>\n",
       "    </tr>\n",
       "    <tr>\n",
       "      <th>2</th>\n",
       "      <td>science</td>\n",
       "      <td>data</td>\n",
       "    </tr>\n",
       "    <tr>\n",
       "      <th>3</th>\n",
       "      <td>science</td>\n",
       "      <td>professionals</td>\n",
       "    </tr>\n",
       "    <tr>\n",
       "      <th>4</th>\n",
       "      <td>science</td>\n",
       "      <td>promising</td>\n",
       "    </tr>\n",
       "    <tr>\n",
       "      <th>5</th>\n",
       "      <td>professionals</td>\n",
       "      <td>data</td>\n",
       "    </tr>\n",
       "    <tr>\n",
       "      <th>6</th>\n",
       "      <td>professionals</td>\n",
       "      <td>science</td>\n",
       "    </tr>\n",
       "    <tr>\n",
       "      <th>7</th>\n",
       "      <td>professionals</td>\n",
       "      <td>promising</td>\n",
       "    </tr>\n",
       "    <tr>\n",
       "      <th>8</th>\n",
       "      <td>professionals</td>\n",
       "      <td>career</td>\n",
       "    </tr>\n",
       "    <tr>\n",
       "      <th>9</th>\n",
       "      <td>promising</td>\n",
       "      <td>science</td>\n",
       "    </tr>\n",
       "    <tr>\n",
       "      <th>10</th>\n",
       "      <td>promising</td>\n",
       "      <td>professionals</td>\n",
       "    </tr>\n",
       "    <tr>\n",
       "      <th>11</th>\n",
       "      <td>promising</td>\n",
       "      <td>career</td>\n",
       "    </tr>\n",
       "    <tr>\n",
       "      <th>12</th>\n",
       "      <td>promising</td>\n",
       "      <td>path</td>\n",
       "    </tr>\n",
       "    <tr>\n",
       "      <th>13</th>\n",
       "      <td>career</td>\n",
       "      <td>professionals</td>\n",
       "    </tr>\n",
       "    <tr>\n",
       "      <th>14</th>\n",
       "      <td>career</td>\n",
       "      <td>promising</td>\n",
       "    </tr>\n",
       "    <tr>\n",
       "      <th>15</th>\n",
       "      <td>career</td>\n",
       "      <td>path</td>\n",
       "    </tr>\n",
       "    <tr>\n",
       "      <th>16</th>\n",
       "      <td>path</td>\n",
       "      <td>promising</td>\n",
       "    </tr>\n",
       "    <tr>\n",
       "      <th>17</th>\n",
       "      <td>path</td>\n",
       "      <td>career</td>\n",
       "    </tr>\n",
       "  </tbody>\n",
       "</table>\n",
       "</div>"
      ],
      "text/plain": [
       "             word          label\n",
       "0            data        science\n",
       "1            data  professionals\n",
       "2         science           data\n",
       "3         science  professionals\n",
       "4         science      promising\n",
       "5   professionals           data\n",
       "6   professionals        science\n",
       "7   professionals      promising\n",
       "8   professionals         career\n",
       "9       promising        science\n",
       "10      promising  professionals\n",
       "11      promising         career\n",
       "12      promising           path\n",
       "13         career  professionals\n",
       "14         career      promising\n",
       "15         career           path\n",
       "16           path      promising\n",
       "17           path         career"
      ]
     },
     "execution_count": 31,
     "metadata": {},
     "output_type": "execute_result"
    }
   ],
   "source": [
    "# Generate Skip-Ngrams: Window size = 2\n",
    "\n",
    "WINDOW_SIZE = 2\n",
    "\n",
    "word2int = {word: i for i, word in enumerate(flattened_list)} # Create a dictionary to map words to integers\n",
    "\n",
    "sentences = []\n",
    "for sentence in [' '.join(sentence) for sentence in target_words]: # Creates a list of sentences from a list of lists\n",
    "    sentences.append(sentence.split())\n",
    "\n",
    "skipNgram_data = []\n",
    "for sentence in sentences:\n",
    "    for idx, word in enumerate(sentence):\n",
    "        for neighbor in sentence[max(idx - WINDOW_SIZE, 0): min(idx + WINDOW_SIZE, len(sentence)) + 1]:\n",
    "            if neighbor != word:\n",
    "                skipNgram_data.append([word, neighbor])\n",
    "\n",
    "# Convert skipNgram_data into a DataFrame\n",
    "\n",
    "skipNgram_df_2 = pd.DataFrame(skipNgram_data, columns=['word', 'label'])\n",
    "skipNgram_df_2"
   ]
  },
  {
   "cell_type": "code",
   "execution_count": 32,
   "metadata": {},
   "outputs": [
    {
     "data": {
      "text/html": [
       "<div>\n",
       "<style scoped>\n",
       "    .dataframe tbody tr th:only-of-type {\n",
       "        vertical-align: middle;\n",
       "    }\n",
       "\n",
       "    .dataframe tbody tr th {\n",
       "        vertical-align: top;\n",
       "    }\n",
       "\n",
       "    .dataframe thead th {\n",
       "        text-align: right;\n",
       "    }\n",
       "</style>\n",
       "<table border=\"1\" class=\"dataframe\">\n",
       "  <thead>\n",
       "    <tr style=\"text-align: right;\">\n",
       "      <th></th>\n",
       "      <th>word</th>\n",
       "      <th>label</th>\n",
       "    </tr>\n",
       "  </thead>\n",
       "  <tbody>\n",
       "    <tr>\n",
       "      <th>0</th>\n",
       "      <td>data</td>\n",
       "      <td>science</td>\n",
       "    </tr>\n",
       "    <tr>\n",
       "      <th>1</th>\n",
       "      <td>data</td>\n",
       "      <td>professionals</td>\n",
       "    </tr>\n",
       "    <tr>\n",
       "      <th>2</th>\n",
       "      <td>data</td>\n",
       "      <td>promising</td>\n",
       "    </tr>\n",
       "    <tr>\n",
       "      <th>3</th>\n",
       "      <td>science</td>\n",
       "      <td>data</td>\n",
       "    </tr>\n",
       "    <tr>\n",
       "      <th>4</th>\n",
       "      <td>science</td>\n",
       "      <td>professionals</td>\n",
       "    </tr>\n",
       "    <tr>\n",
       "      <th>5</th>\n",
       "      <td>science</td>\n",
       "      <td>promising</td>\n",
       "    </tr>\n",
       "    <tr>\n",
       "      <th>6</th>\n",
       "      <td>science</td>\n",
       "      <td>career</td>\n",
       "    </tr>\n",
       "    <tr>\n",
       "      <th>7</th>\n",
       "      <td>professionals</td>\n",
       "      <td>data</td>\n",
       "    </tr>\n",
       "    <tr>\n",
       "      <th>8</th>\n",
       "      <td>professionals</td>\n",
       "      <td>science</td>\n",
       "    </tr>\n",
       "    <tr>\n",
       "      <th>9</th>\n",
       "      <td>professionals</td>\n",
       "      <td>promising</td>\n",
       "    </tr>\n",
       "    <tr>\n",
       "      <th>10</th>\n",
       "      <td>professionals</td>\n",
       "      <td>career</td>\n",
       "    </tr>\n",
       "    <tr>\n",
       "      <th>11</th>\n",
       "      <td>professionals</td>\n",
       "      <td>path</td>\n",
       "    </tr>\n",
       "    <tr>\n",
       "      <th>12</th>\n",
       "      <td>promising</td>\n",
       "      <td>data</td>\n",
       "    </tr>\n",
       "    <tr>\n",
       "      <th>13</th>\n",
       "      <td>promising</td>\n",
       "      <td>science</td>\n",
       "    </tr>\n",
       "    <tr>\n",
       "      <th>14</th>\n",
       "      <td>promising</td>\n",
       "      <td>professionals</td>\n",
       "    </tr>\n",
       "    <tr>\n",
       "      <th>15</th>\n",
       "      <td>promising</td>\n",
       "      <td>career</td>\n",
       "    </tr>\n",
       "    <tr>\n",
       "      <th>16</th>\n",
       "      <td>promising</td>\n",
       "      <td>path</td>\n",
       "    </tr>\n",
       "    <tr>\n",
       "      <th>17</th>\n",
       "      <td>career</td>\n",
       "      <td>science</td>\n",
       "    </tr>\n",
       "    <tr>\n",
       "      <th>18</th>\n",
       "      <td>career</td>\n",
       "      <td>professionals</td>\n",
       "    </tr>\n",
       "    <tr>\n",
       "      <th>19</th>\n",
       "      <td>career</td>\n",
       "      <td>promising</td>\n",
       "    </tr>\n",
       "    <tr>\n",
       "      <th>20</th>\n",
       "      <td>career</td>\n",
       "      <td>path</td>\n",
       "    </tr>\n",
       "    <tr>\n",
       "      <th>21</th>\n",
       "      <td>path</td>\n",
       "      <td>professionals</td>\n",
       "    </tr>\n",
       "    <tr>\n",
       "      <th>22</th>\n",
       "      <td>path</td>\n",
       "      <td>promising</td>\n",
       "    </tr>\n",
       "    <tr>\n",
       "      <th>23</th>\n",
       "      <td>path</td>\n",
       "      <td>career</td>\n",
       "    </tr>\n",
       "  </tbody>\n",
       "</table>\n",
       "</div>"
      ],
      "text/plain": [
       "             word          label\n",
       "0            data        science\n",
       "1            data  professionals\n",
       "2            data      promising\n",
       "3         science           data\n",
       "4         science  professionals\n",
       "5         science      promising\n",
       "6         science         career\n",
       "7   professionals           data\n",
       "8   professionals        science\n",
       "9   professionals      promising\n",
       "10  professionals         career\n",
       "11  professionals           path\n",
       "12      promising           data\n",
       "13      promising        science\n",
       "14      promising  professionals\n",
       "15      promising         career\n",
       "16      promising           path\n",
       "17         career        science\n",
       "18         career  professionals\n",
       "19         career      promising\n",
       "20         career           path\n",
       "21           path  professionals\n",
       "22           path      promising\n",
       "23           path         career"
      ]
     },
     "execution_count": 32,
     "metadata": {},
     "output_type": "execute_result"
    }
   ],
   "source": [
    "# Generate Skip-Ngrams: Window size = 3\n",
    "\n",
    "WINDOW_SIZE = 3\n",
    "\n",
    "word2int = {word: i for i, word in enumerate(flattened_list)} # Create a dictionary to map words to integers\n",
    "\n",
    "sentences = []\n",
    "for sentence in [' '.join(sentence) for sentence in target_words]: # Creates a list of sentences from a list of lists\n",
    "    sentences.append(sentence.split())\n",
    "\n",
    "skipNgram_data = []\n",
    "for sentence in sentences:\n",
    "    for idx, word in enumerate(sentence):\n",
    "        for neighbor in sentence[max(idx - WINDOW_SIZE, 0): min(idx + WINDOW_SIZE, len(sentence)) + 1]:\n",
    "            if neighbor != word:\n",
    "                skipNgram_data.append([word, neighbor])\n",
    "\n",
    "# Convert skipNgram_data into a DataFrame\n",
    "\n",
    "skipNgram_df_3 = pd.DataFrame(skipNgram_data, columns=['word', 'label'])\n",
    "skipNgram_df_3"
   ]
  },
  {
   "cell_type": "markdown",
   "metadata": {},
   "source": [
    "<h3 style = 'color:lightgreen'>7.6 One-Hot Encoding</h3>"
   ]
  },
  {
   "cell_type": "code",
   "execution_count": 28,
   "metadata": {},
   "outputs": [],
   "source": [
    "ONE_HOT_ENCODING = len(flattened_list)"
   ]
  },
  {
   "cell_type": "code",
   "execution_count": 29,
   "metadata": {},
   "outputs": [],
   "source": [
    "def one_hot_encoder(x):\n",
    "    one_hot = np.zeros(ONE_HOT_ENCODING)\n",
    "    one_hot[x] = 1\n",
    "    return one_hot"
   ]
  },
  {
   "cell_type": "code",
   "execution_count": 33,
   "metadata": {},
   "outputs": [],
   "source": [
    "X = []\n",
    "Y = []\n",
    "\n",
    "for x, y in zip(skipNgram_df_2['word'], skipNgram_df_2['label']):\n",
    "    X.append(one_hot_encoder(word2int[x]))\n",
    "    Y.append(one_hot_encoder(word2int[y]))\n",
    "\n",
    "# Convert X and y into numpy arrays\n",
    "X_train = np.asarray(X)\n",
    "y_train = np.asarray(Y)"
   ]
  },
  {
   "cell_type": "code",
   "execution_count": 34,
   "metadata": {},
   "outputs": [
    {
     "data": {
      "text/plain": [
       "((18, 6), (18, 6))"
      ]
     },
     "execution_count": 34,
     "metadata": {},
     "output_type": "execute_result"
    }
   ],
   "source": [
    "X_train.shape, y_train.shape"
   ]
  },
  {
   "cell_type": "code",
   "execution_count": 35,
   "metadata": {},
   "outputs": [
    {
     "data": {
      "text/plain": [
       "array([[0., 1., 0., 0., 0., 0.],\n",
       "       [0., 1., 0., 0., 0., 0.],\n",
       "       [0., 0., 0., 0., 0., 1.],\n",
       "       [0., 0., 0., 0., 0., 1.],\n",
       "       [0., 0., 0., 0., 0., 1.],\n",
       "       [0., 0., 0., 1., 0., 0.],\n",
       "       [0., 0., 0., 1., 0., 0.],\n",
       "       [0., 0., 0., 1., 0., 0.],\n",
       "       [0., 0., 0., 1., 0., 0.],\n",
       "       [0., 0., 0., 0., 1., 0.],\n",
       "       [0., 0., 0., 0., 1., 0.],\n",
       "       [0., 0., 0., 0., 1., 0.],\n",
       "       [0., 0., 0., 0., 1., 0.],\n",
       "       [1., 0., 0., 0., 0., 0.],\n",
       "       [1., 0., 0., 0., 0., 0.],\n",
       "       [1., 0., 0., 0., 0., 0.],\n",
       "       [0., 0., 1., 0., 0., 0.],\n",
       "       [0., 0., 1., 0., 0., 0.]])"
      ]
     },
     "execution_count": 35,
     "metadata": {},
     "output_type": "execute_result"
    }
   ],
   "source": [
    "X_train"
   ]
  },
  {
   "cell_type": "code",
   "execution_count": 36,
   "metadata": {},
   "outputs": [
    {
     "data": {
      "text/plain": [
       "array([[0., 0., 0., 0., 0., 1.],\n",
       "       [0., 0., 0., 1., 0., 0.],\n",
       "       [0., 1., 0., 0., 0., 0.],\n",
       "       [0., 0., 0., 1., 0., 0.],\n",
       "       [0., 0., 0., 0., 1., 0.],\n",
       "       [0., 1., 0., 0., 0., 0.],\n",
       "       [0., 0., 0., 0., 0., 1.],\n",
       "       [0., 0., 0., 0., 1., 0.],\n",
       "       [1., 0., 0., 0., 0., 0.],\n",
       "       [0., 0., 0., 0., 0., 1.],\n",
       "       [0., 0., 0., 1., 0., 0.],\n",
       "       [1., 0., 0., 0., 0., 0.],\n",
       "       [0., 0., 1., 0., 0., 0.],\n",
       "       [0., 0., 0., 1., 0., 0.],\n",
       "       [0., 0., 0., 0., 1., 0.],\n",
       "       [0., 0., 1., 0., 0., 0.],\n",
       "       [0., 0., 0., 0., 1., 0.],\n",
       "       [1., 0., 0., 0., 0., 0.]])"
      ]
     },
     "execution_count": 36,
     "metadata": {},
     "output_type": "execute_result"
    }
   ],
   "source": [
    "y_train"
   ]
  },
  {
   "cell_type": "markdown",
   "metadata": {},
   "source": [
    "<h3 style = 'color:lightgreen'>7.7 Deep Learning Model for Word2Vec</h3>"
   ]
  },
  {
   "cell_type": "code",
   "execution_count": 38,
   "metadata": {},
   "outputs": [
    {
     "data": {
      "text/plain": [
       "['i like deep learning', 'i like nlp', 'i enjoy flying']"
      ]
     },
     "execution_count": 38,
     "metadata": {},
     "output_type": "execute_result"
    }
   ],
   "source": [
    "corpus = [\n",
    "     'I like deep learning', \n",
    "     'I like NLP', \n",
    "     'I enjoy flying'\n",
    "]\n",
    "corpus = [word.lower() for word in corpus]\n",
    "corpus"
   ]
  },
  {
   "cell_type": "code",
   "execution_count": 39,
   "metadata": {},
   "outputs": [
    {
     "name": "stdout",
     "output_type": "stream",
     "text": [
      "[['like', 'deep', 'learning'], ['like', 'nlp'], ['enjoy', 'flying']]\n"
     ]
    }
   ],
   "source": [
    "target_words = []\n",
    "for sentence in corpus:\n",
    "    word_tokenized = nltk.word_tokenize(sentence)\n",
    "    filtered_words = [word for word in word_tokenized if word not in stop_words]\n",
    "    target_words.append(filtered_words)\n",
    "\n",
    "# target_words = set(target_words)\n",
    "print(target_words)"
   ]
  },
  {
   "cell_type": "code",
   "execution_count": 41,
   "metadata": {},
   "outputs": [
    {
     "name": "stdout",
     "output_type": "stream",
     "text": [
      "There are 6 unique words in the corpus and these are: ['deep', 'enjoy', 'flying', 'learning', 'like', 'nlp']\n"
     ]
    }
   ],
   "source": [
    "flattened_list = flatten_comprehension(target_words)\n",
    "print(f\"There are {len(flattened_list)} unique words in the corpus and these are: {flattened_list}\")"
   ]
  },
  {
   "cell_type": "code",
   "execution_count": 42,
   "metadata": {},
   "outputs": [],
   "source": [
    "# Generate Skip-Ngrams\n",
    "\n",
    "word2int = {word: i for i, word in enumerate(flattened_list)} # Create a dictionary to map words to integers\n",
    "\n",
    "sentences = []\n",
    "for sentence in [' '.join(sentence) for sentence in target_words]: # Creates a list of sentences from a list of lists\n",
    "    sentences.append(sentence.split())\n",
    "\n",
    "WINDOW_SIZE = 2\n",
    "\n",
    "skipNgram_data = []\n",
    "for sentence in sentences:\n",
    "    for idx, word in enumerate(sentence):\n",
    "        for neighbor in sentence[max(idx - WINDOW_SIZE, 0): min(idx + WINDOW_SIZE, len(sentence)) + 1]:\n",
    "            if neighbor != word:\n",
    "                skipNgram_data.append([word, neighbor])"
   ]
  },
  {
   "cell_type": "code",
   "execution_count": 43,
   "metadata": {},
   "outputs": [
    {
     "data": {
      "text/html": [
       "<div>\n",
       "<style scoped>\n",
       "    .dataframe tbody tr th:only-of-type {\n",
       "        vertical-align: middle;\n",
       "    }\n",
       "\n",
       "    .dataframe tbody tr th {\n",
       "        vertical-align: top;\n",
       "    }\n",
       "\n",
       "    .dataframe thead th {\n",
       "        text-align: right;\n",
       "    }\n",
       "</style>\n",
       "<table border=\"1\" class=\"dataframe\">\n",
       "  <thead>\n",
       "    <tr style=\"text-align: right;\">\n",
       "      <th></th>\n",
       "      <th>word</th>\n",
       "      <th>neighbor</th>\n",
       "    </tr>\n",
       "  </thead>\n",
       "  <tbody>\n",
       "    <tr>\n",
       "      <th>0</th>\n",
       "      <td>like</td>\n",
       "      <td>deep</td>\n",
       "    </tr>\n",
       "    <tr>\n",
       "      <th>1</th>\n",
       "      <td>like</td>\n",
       "      <td>learning</td>\n",
       "    </tr>\n",
       "    <tr>\n",
       "      <th>2</th>\n",
       "      <td>deep</td>\n",
       "      <td>like</td>\n",
       "    </tr>\n",
       "    <tr>\n",
       "      <th>3</th>\n",
       "      <td>deep</td>\n",
       "      <td>learning</td>\n",
       "    </tr>\n",
       "    <tr>\n",
       "      <th>4</th>\n",
       "      <td>learning</td>\n",
       "      <td>like</td>\n",
       "    </tr>\n",
       "    <tr>\n",
       "      <th>5</th>\n",
       "      <td>learning</td>\n",
       "      <td>deep</td>\n",
       "    </tr>\n",
       "    <tr>\n",
       "      <th>6</th>\n",
       "      <td>like</td>\n",
       "      <td>nlp</td>\n",
       "    </tr>\n",
       "    <tr>\n",
       "      <th>7</th>\n",
       "      <td>nlp</td>\n",
       "      <td>like</td>\n",
       "    </tr>\n",
       "    <tr>\n",
       "      <th>8</th>\n",
       "      <td>enjoy</td>\n",
       "      <td>flying</td>\n",
       "    </tr>\n",
       "    <tr>\n",
       "      <th>9</th>\n",
       "      <td>flying</td>\n",
       "      <td>enjoy</td>\n",
       "    </tr>\n",
       "  </tbody>\n",
       "</table>\n",
       "</div>"
      ],
      "text/plain": [
       "       word  neighbor\n",
       "0      like      deep\n",
       "1      like  learning\n",
       "2      deep      like\n",
       "3      deep  learning\n",
       "4  learning      like\n",
       "5  learning      deep\n",
       "6      like       nlp\n",
       "7       nlp      like\n",
       "8     enjoy    flying\n",
       "9    flying     enjoy"
      ]
     },
     "execution_count": 43,
     "metadata": {},
     "output_type": "execute_result"
    }
   ],
   "source": [
    "skipNgram_df = pd.DataFrame(skipNgram_data, columns=['word', 'neighbor'])\n",
    "skipNgram_df.head(10)"
   ]
  },
  {
   "cell_type": "code",
   "execution_count": 44,
   "metadata": {},
   "outputs": [],
   "source": [
    "ONE_HOT_ENCODING = len(flattened_list)"
   ]
  },
  {
   "cell_type": "code",
   "execution_count": 45,
   "metadata": {},
   "outputs": [],
   "source": [
    "# Generate Data\n",
    "X = []\n",
    "Y = []\n",
    "\n",
    "for x, y in zip(skipNgram_df['word'], skipNgram_df['neighbor']):\n",
    "    X.append(one_hot_encoder(word2int[x]))\n",
    "    Y.append(one_hot_encoder(word2int[y]))\n",
    "\n",
    "# Convert X and y into numpy arrays\n",
    "X_train = np.asarray(X)\n",
    "y_train = np.asarray(Y)"
   ]
  },
  {
   "cell_type": "code",
   "execution_count": 46,
   "metadata": {},
   "outputs": [
    {
     "data": {
      "text/plain": [
       "array([[0., 0., 0., 0., 1., 0.],\n",
       "       [0., 0., 0., 0., 1., 0.],\n",
       "       [1., 0., 0., 0., 0., 0.],\n",
       "       [1., 0., 0., 0., 0., 0.],\n",
       "       [0., 0., 0., 1., 0., 0.],\n",
       "       [0., 0., 0., 1., 0., 0.],\n",
       "       [0., 0., 0., 0., 1., 0.],\n",
       "       [0., 0., 0., 0., 0., 1.],\n",
       "       [0., 1., 0., 0., 0., 0.],\n",
       "       [0., 0., 1., 0., 0., 0.]])"
      ]
     },
     "execution_count": 46,
     "metadata": {},
     "output_type": "execute_result"
    }
   ],
   "source": [
    "X_train"
   ]
  },
  {
   "cell_type": "code",
   "execution_count": 47,
   "metadata": {},
   "outputs": [
    {
     "name": "stdout",
     "output_type": "stream",
     "text": [
      "Model: \"sequential\"\n",
      "_________________________________________________________________\n",
      " Layer (type)                Output Shape              Param #   \n",
      "=================================================================\n",
      " dense (Dense)               (None, 2)                 14        \n",
      "                                                                 \n",
      " dense_1 (Dense)             (None, 6)                 18        \n",
      "                                                                 \n",
      "=================================================================\n",
      "Total params: 32\n",
      "Trainable params: 32\n",
      "Non-trainable params: 0\n",
      "_________________________________________________________________\n"
     ]
    }
   ],
   "source": [
    "model = Sequential()\n",
    "model.add(Dense(2, input_dim=X_train.shape[1], activation='linear'))\n",
    "model.add(Dense(y_train.shape[1], activation='softmax'))\n",
    "model.compile(loss='categorical_crossentropy', optimizer='adam', metrics=['accuracy'])\n",
    "model.summary()"
   ]
  },
  {
   "cell_type": "code",
   "execution_count": 48,
   "metadata": {},
   "outputs": [],
   "source": [
    "epochs = 20000\n",
    "history = model.fit(X_train, y_train, epochs=epochs, verbose=0)"
   ]
  },
  {
   "cell_type": "code",
   "execution_count": 49,
   "metadata": {},
   "outputs": [
    {
     "data": {
      "image/png": "[encoded data removed]",
      "text/plain": [
       "<Figure size 640x480 with 1 Axes>"
      ]
     },
     "metadata": {},
     "output_type": "display_data"
    }
   ],
   "source": [
    "# Visualize loss\n",
    "train_loss = history.history['loss']\n",
    "xc = range(epochs)\n",
    "plt.plot(xc, train_loss, label='Training loss')\n",
    "\n",
    "plt.figure(1, figsize=(7, 5))\n",
    "plt.xlabel('Epochs')\n",
    "plt.ylabel('Loss')\n",
    "plt.title('Training loss')\n",
    "plt.grid(True)\n",
    "plt.legend()\n",
    "plt.style.use(['ggplot'])"
   ]
  },
  {
   "cell_type": "code",
   "execution_count": 50,
   "metadata": {},
   "outputs": [
    {
     "name": "stdout",
     "output_type": "stream",
     "text": [
      "[[ 0.01242923  1.2744362 ]\n",
      " [ 3.692731    3.3622408 ]\n",
      " [ 4.475834   -3.9018946 ]\n",
      " [-4.9853272   0.8063006 ]\n",
      " [-0.47582376 -1.5943391 ]\n",
      " [-2.833599    2.7037933 ]]\n",
      "[-0.7472823  -0.06223788]\n"
     ]
    }
   ],
   "source": [
    "# Print Weights and Biases\n",
    "\n",
    "for layerNum, layer in enumerate(model.layers):\n",
    "    weights = layer.get_weights()[0]\n",
    "    biases = layer.get_weights()[1]\n",
    "    break\n",
    "\n",
    "print(weights)\n",
    "print(biases)"
   ]
  },
  {
   "cell_type": "code",
   "execution_count": 51,
   "metadata": {},
   "outputs": [
    {
     "name": "stdout",
     "output_type": "stream",
     "text": [
      "[[-0.7348531  1.2121984]\n",
      " [ 2.9454486  3.3000028]\n",
      " [ 3.7285516 -3.9641325]\n",
      " [-5.7326097  0.7440627]\n",
      " [-1.2231061 -1.656577 ]\n",
      " [-3.5808814  2.6415553]]\n"
     ]
    }
   ],
   "source": [
    "Word2Vec = weights + biases\n",
    "print(Word2Vec)"
   ]
  },
  {
   "cell_type": "code",
   "execution_count": 52,
   "metadata": {},
   "outputs": [
    {
     "data": {
      "text/html": [
       "<div>\n",
       "<style scoped>\n",
       "    .dataframe tbody tr th:only-of-type {\n",
       "        vertical-align: middle;\n",
       "    }\n",
       "\n",
       "    .dataframe tbody tr th {\n",
       "        vertical-align: top;\n",
       "    }\n",
       "\n",
       "    .dataframe thead th {\n",
       "        text-align: right;\n",
       "    }\n",
       "</style>\n",
       "<table border=\"1\" class=\"dataframe\">\n",
       "  <thead>\n",
       "    <tr style=\"text-align: right;\">\n",
       "      <th></th>\n",
       "      <th>word</th>\n",
       "      <th>x1</th>\n",
       "      <th>x2</th>\n",
       "    </tr>\n",
       "  </thead>\n",
       "  <tbody>\n",
       "    <tr>\n",
       "      <th>0</th>\n",
       "      <td>deep</td>\n",
       "      <td>-0.734853</td>\n",
       "      <td>1.212198</td>\n",
       "    </tr>\n",
       "    <tr>\n",
       "      <th>1</th>\n",
       "      <td>enjoy</td>\n",
       "      <td>2.945449</td>\n",
       "      <td>3.300003</td>\n",
       "    </tr>\n",
       "    <tr>\n",
       "      <th>2</th>\n",
       "      <td>flying</td>\n",
       "      <td>3.728552</td>\n",
       "      <td>-3.964133</td>\n",
       "    </tr>\n",
       "    <tr>\n",
       "      <th>3</th>\n",
       "      <td>learning</td>\n",
       "      <td>-5.732610</td>\n",
       "      <td>0.744063</td>\n",
       "    </tr>\n",
       "    <tr>\n",
       "      <th>4</th>\n",
       "      <td>like</td>\n",
       "      <td>-1.223106</td>\n",
       "      <td>-1.656577</td>\n",
       "    </tr>\n",
       "    <tr>\n",
       "      <th>5</th>\n",
       "      <td>nlp</td>\n",
       "      <td>-3.580881</td>\n",
       "      <td>2.641555</td>\n",
       "    </tr>\n",
       "  </tbody>\n",
       "</table>\n",
       "</div>"
      ],
      "text/plain": [
       "       word        x1        x2\n",
       "0      deep -0.734853  1.212198\n",
       "1     enjoy  2.945449  3.300003\n",
       "2    flying  3.728552 -3.964133\n",
       "3  learning -5.732610  0.744063\n",
       "4      like -1.223106 -1.656577\n",
       "5       nlp -3.580881  2.641555"
      ]
     },
     "execution_count": 52,
     "metadata": {},
     "output_type": "execute_result"
    }
   ],
   "source": [
    "w2v_df = pd.DataFrame(Word2Vec, columns=['x1', 'x2'])\n",
    "w2v_df['word'] = flattened_list\n",
    "w2v_df = w2v_df[['word', 'x1', 'x2']]\n",
    "w2v_df"
   ]
  },
  {
   "cell_type": "code",
   "execution_count": 53,
   "metadata": {},
   "outputs": [
    {
     "data": {
      "image/png": "[encoded data removed]",
      "text/plain": [
       "<Figure size 700x700 with 1 Axes>"
      ]
     },
     "metadata": {},
     "output_type": "display_data"
    }
   ],
   "source": [
    "fig, ax = plt.subplots(figsize=(7, 7))\n",
    "\n",
    "for word, x1, x2 in zip(w2v_df['word'], w2v_df['x1'], w2v_df['x2']):\n",
    "    ax.annotate(word, (x1, x2))\n",
    "\n",
    "PADDING = 1.0\n",
    "x_axis_min = np.amin(Word2Vec, axis=0)[0] - PADDING\n",
    "y_axis_min = np.amin(Word2Vec, axis=0)[1] - PADDING\n",
    "x_axis_max = np.amax(Word2Vec, axis=0)[0] + PADDING\n",
    "y_axis_max = np.amax(Word2Vec, axis=0)[1] + PADDING\n",
    "\n",
    "plt.xlim(x_axis_min, x_axis_max)\n",
    "plt.ylim(y_axis_min, y_axis_max)\n",
    "\n",
    "plt.show()"
   ]
  },
  {
   "cell_type": "code",
   "execution_count": null,
   "metadata": {},
   "outputs": [],
   "source": []
  }
 ],
 "metadata": {
  "kernelspec": {
   "display_name": "tensorflow",
   "language": "python",
   "name": "python3"
  },
  "language_info": {
   "codemirror_mode": {
    "name": "ipython",
    "version": 3
   },
   "file_extension": ".py",
   "mimetype": "text/x-python",
   "name": "python",
   "nbconvert_exporter": "python",
   "pygments_lexer": "ipython3",
   "version": "3.8.15"
  }
 },
 "nbformat": 4,
 "nbformat_minor": 2
}
