{
 "cells": [
  {
   "cell_type": "markdown",
   "metadata": {},
   "source": [
    "<h1>CS 41344 - Natural Language Processing</h1>\n",
    "<h2 style = 'color:yellow'>Assignment - 6: Deep Learning</h2>"
   ]
  },
  {
   "cell_type": "markdown",
   "metadata": {},
   "source": [
    "<h3 style = 'color:lightgreen'>Assignment - 6.0 Import Libraries</h3>"
   ]
  },
  {
   "cell_type": "code",
   "execution_count": 1,
   "metadata": {},
   "outputs": [],
   "source": [
    "import numpy as np\n",
    "import pandas as pd\n",
    "import matplotlib.pyplot as plt\n",
    "\n",
    "import tensorflow as tf"
   ]
  },
  {
   "cell_type": "markdown",
   "metadata": {},
   "source": [
    "<h4 style = 'color:green'>6.1 Calculate Activation Function</h4>"
   ]
  },
  {
   "cell_type": "code",
   "execution_count": 2,
   "metadata": {},
   "outputs": [],
   "source": [
    "def calculate_activation(perceptron_value: tf.Tensor, activation_type: str) -> tf.Tensor:\n",
    "    \"\"\"\n",
    "    Calculate the activation of a perceptron value based on the activation type.\n",
    "    \n",
    "    Parameters\n",
    "    ----------\n",
    "    perceptron_value : tf.Tensor\n",
    "        The value of the perceptron.\n",
    "    activation_type : str\n",
    "        The type of activation to use.\n",
    "    \n",
    "    Returns\n",
    "    -------\n",
    "    tf.Tensor\n",
    "        The activated value of the perceptron.\n",
    "    \"\"\"\n",
    "\n",
    "    if activation_type == \"ReLu\":\n",
    "        return tf.maximum(0, perceptron_value)\n",
    "    elif activation_type == \"Sigmoid\":\n",
    "        return 1 / (1 + tf.exp(-perceptron_value))\n",
    "    elif activation_type == \"Tanh\":\n",
    "        return (tf.exp(perceptron_value) - tf.exp(-perceptron_value)) / (tf.exp(perceptron_value) + tf.exp(-perceptron_value))\n",
    "    elif activation_type == \"Linear\":\n",
    "        return perceptron_value"
   ]
  },
  {
   "cell_type": "code",
   "execution_count": 4,
   "metadata": {},
   "outputs": [],
   "source": [
    "inputs = tf.constant([0.1, 0.2])\n",
    "weights_1 = tf.constant([0.15, 0.05])\n",
    "bias_1 = tf.constant(0.33)\n",
    "\n",
    "# Using tensordot for dot product\n",
    "layer_1_output = tf.tensordot(inputs, weights_1, axes=1) + bias_1\n",
    "# print(f\"Layer 1 Output: {layer_1_output.numpy()}\")\n",
    "\n",
    "layer_1_activation = calculate_activation(layer_1_output, \"Sigmoid\")\n",
    "# print(f\"Layer 1 Activation (Sigmoid): {layer_1_activation.numpy()}\")\n",
    "\n",
    "layer_2_weight = tf.constant(0.36)\n",
    "layer_2_bias = tf.constant(0.56)\n",
    "\n",
    "layer_2_output = layer_1_activation * layer_2_weight + layer_2_bias\n",
    "\n",
    "layer_2_activation = calculate_activation(layer_2_output, \"Sigmoid\")\n",
    "# print(f\"Layer 2 Activation (Sigmoid): {layer_2_activation.numpy()}\")"
   ]
  },
  {
   "cell_type": "code",
   "execution_count": 5,
   "metadata": {},
   "outputs": [
    {
     "data": {
      "text/html": [
       "<div>\n",
       "<style scoped>\n",
       "    .dataframe tbody tr th:only-of-type {\n",
       "        vertical-align: middle;\n",
       "    }\n",
       "\n",
       "    .dataframe tbody tr th {\n",
       "        vertical-align: top;\n",
       "    }\n",
       "\n",
       "    .dataframe thead th {\n",
       "        text-align: right;\n",
       "    }\n",
       "</style>\n",
       "<table border=\"1\" class=\"dataframe\">\n",
       "  <thead>\n",
       "    <tr style=\"text-align: right;\">\n",
       "      <th></th>\n",
       "      <th>Activation Function</th>\n",
       "      <th>Layer 1 Activation</th>\n",
       "      <th>Layer 2 Activation</th>\n",
       "    </tr>\n",
       "  </thead>\n",
       "  <tbody>\n",
       "    <tr>\n",
       "      <th>0</th>\n",
       "      <td>Sigmoid</td>\n",
       "      <td>0.587830</td>\n",
       "      <td>0.683871</td>\n",
       "    </tr>\n",
       "    <tr>\n",
       "      <th>1</th>\n",
       "      <td>Linear</td>\n",
       "      <td>0.355000</td>\n",
       "      <td>0.771619</td>\n",
       "    </tr>\n",
       "    <tr>\n",
       "      <th>2</th>\n",
       "      <td>Tanh</td>\n",
       "      <td>0.340802</td>\n",
       "      <td>0.647870</td>\n",
       "    </tr>\n",
       "    <tr>\n",
       "      <th>3</th>\n",
       "      <td>ReLu</td>\n",
       "      <td>0.355000</td>\n",
       "      <td>0.771619</td>\n",
       "    </tr>\n",
       "  </tbody>\n",
       "</table>\n",
       "</div>"
      ],
      "text/plain": [
       "  Activation Function  Layer 1 Activation  Layer 2 Activation\n",
       "0             Sigmoid            0.587830            0.683871\n",
       "1              Linear            0.355000            0.771619\n",
       "2                Tanh            0.340802            0.647870\n",
       "3                ReLu            0.355000            0.771619"
      ]
     },
     "execution_count": 5,
     "metadata": {},
     "output_type": "execute_result"
    }
   ],
   "source": [
    "activation_functions = [\"Sigmoid\", \"Linear\", \"Tanh\", \"ReLu\"]\n",
    "actF_layer1 = []\n",
    "actF_Layer2 = []\n",
    "for _ in activation_functions:\n",
    "    actF_layer1.append(calculate_activation(layer_1_output, _).numpy())\n",
    "    actF_Layer2.append(calculate_activation(layer_2_output, _).numpy())\n",
    "    \n",
    "df = pd.DataFrame({\n",
    "    \"Activation Function\": activation_functions,\n",
    "    \"Layer 1 Activation\": actF_layer1,\n",
    "    \"Layer 2 Activation\": actF_Layer2\n",
    "})\n",
    "df"
   ]
  },
  {
   "cell_type": "markdown",
   "metadata": {},
   "source": [
    "<h4 style = 'color:green'>6.2 Calculate Gradients</h4>"
   ]
  },
  {
   "cell_type": "code",
   "execution_count": 6,
   "metadata": {},
   "outputs": [],
   "source": [
    "def calculate_gradient(perceptron_value: tf.Tensor, activation_type: str) -> tf.Tensor:\n",
    "\n",
    "    \"\"\"\n",
    "    This function calculates the gradient of the perceptron value based on the activation type.\n",
    "\n",
    "    Parameters\n",
    "    ----------\n",
    "    perceptron_value : tf.Tensor\n",
    "        The value of the perceptron.\n",
    "    activation_type : str\n",
    "        The type of activation to use.\n",
    "    \n",
    "    Returns\n",
    "    -------\n",
    "    tf.Tensor\n",
    "        The gradient of the perceptron value.\n",
    "    \"\"\"\n",
    "\n",
    "    if activation_type == \"ReLu\":\n",
    "        return tf.where(perceptron_value < 0, 0, 1)\n",
    "    elif activation_type == \"Sigmoid\":\n",
    "        return calculate_activation(perceptron_value, \"Sigmoid\") * (1 - calculate_activation(perceptron_value, \"Sigmoid\"))\n",
    "    elif activation_type == \"Tanh\":\n",
    "        return 1 - tf.square(calculate_activation(perceptron_value, \"Tanh\"))\n",
    "    elif activation_type == \"Linear\":\n",
    "        return 1"
   ]
  },
  {
   "cell_type": "code",
   "execution_count": 7,
   "metadata": {},
   "outputs": [
    {
     "data": {
      "text/html": [
       "<div>\n",
       "<style scoped>\n",
       "    .dataframe tbody tr th:only-of-type {\n",
       "        vertical-align: middle;\n",
       "    }\n",
       "\n",
       "    .dataframe tbody tr th {\n",
       "        vertical-align: top;\n",
       "    }\n",
       "\n",
       "    .dataframe thead th {\n",
       "        text-align: right;\n",
       "    }\n",
       "</style>\n",
       "<table border=\"1\" class=\"dataframe\">\n",
       "  <thead>\n",
       "    <tr style=\"text-align: right;\">\n",
       "      <th></th>\n",
       "      <th>Activation Function</th>\n",
       "      <th>v1 Gradient</th>\n",
       "      <th>v2 Gradient</th>\n",
       "      <th>v3 Gradient</th>\n",
       "    </tr>\n",
       "  </thead>\n",
       "  <tbody>\n",
       "    <tr>\n",
       "      <th>0</th>\n",
       "      <td>Sigmoid</td>\n",
       "      <td>0.017663</td>\n",
       "      <td>0.235004</td>\n",
       "      <td>0.017663</td>\n",
       "    </tr>\n",
       "    <tr>\n",
       "      <th>1</th>\n",
       "      <td>Tanh</td>\n",
       "      <td>0.001341</td>\n",
       "      <td>0.786448</td>\n",
       "      <td>0.001341</td>\n",
       "    </tr>\n",
       "    <tr>\n",
       "      <th>2</th>\n",
       "      <td>ReLu</td>\n",
       "      <td>0.000000</td>\n",
       "      <td>1.000000</td>\n",
       "      <td>1.000000</td>\n",
       "    </tr>\n",
       "  </tbody>\n",
       "</table>\n",
       "</div>"
      ],
      "text/plain": [
       "  Activation Function  v1 Gradient  v2 Gradient  v3 Gradient\n",
       "0             Sigmoid     0.017663     0.235004     0.017663\n",
       "1                Tanh     0.001341     0.786448     0.001341\n",
       "2                ReLu     0.000000     1.000000     1.000000"
      ]
     },
     "execution_count": 7,
     "metadata": {},
     "output_type": "execute_result"
    }
   ],
   "source": [
    "v1 = -4.0\n",
    "v2 = 0.5\n",
    "v3 = 4.0\n",
    "\n",
    "activation_functions = [\"Sigmoid\", \"Tanh\", \"ReLu\"]\n",
    "gradF_v1 = []\n",
    "gradF_v2 = []\n",
    "gradF_v3 = []\n",
    "\n",
    "for _ in activation_functions:\n",
    "    gradF_v1.append(calculate_gradient(v1, _).numpy())\n",
    "    gradF_v2.append(calculate_gradient(v2, _).numpy())\n",
    "    gradF_v3.append(calculate_gradient(v3, _).numpy())\n",
    "\n",
    "df = pd.DataFrame({\n",
    "    \"Activation Function\": activation_functions,\n",
    "    \"v1 Gradient\": gradF_v1,\n",
    "    \"v2 Gradient\": gradF_v2,\n",
    "    \"v3 Gradient\": gradF_v3\n",
    "})\n",
    "\n",
    "df"
   ]
  },
  {
   "cell_type": "markdown",
   "metadata": {},
   "source": [
    "<h4 style = 'color:green'>6.3 Calculate Softmax</h4>"
   ]
  },
  {
   "cell_type": "code",
   "execution_count": 8,
   "metadata": {},
   "outputs": [],
   "source": [
    "def softmax(x):\n",
    "\n",
    "    \"\"\"\n",
    "    This function calculates the softmax of a tensor.\n",
    "    \n",
    "    Parameters\n",
    "    ----------\n",
    "    x : tf.Tensor\n",
    "        The input tensor.\n",
    "    \n",
    "    Returns\n",
    "    -------\n",
    "    tf.Tensor\n",
    "        The softmax of the input tensor.\n",
    "    \"\"\"\n",
    "\n",
    "    return tf.exp(x) / tf.reduce_sum(tf.exp(x))"
   ]
  },
  {
   "cell_type": "code",
   "execution_count": 9,
   "metadata": {},
   "outputs": [
    {
     "data": {
      "text/html": [
       "<div>\n",
       "<style scoped>\n",
       "    .dataframe tbody tr th:only-of-type {\n",
       "        vertical-align: middle;\n",
       "    }\n",
       "\n",
       "    .dataframe tbody tr th {\n",
       "        vertical-align: top;\n",
       "    }\n",
       "\n",
       "    .dataframe thead th {\n",
       "        text-align: right;\n",
       "    }\n",
       "</style>\n",
       "<table border=\"1\" class=\"dataframe\">\n",
       "  <thead>\n",
       "    <tr style=\"text-align: right;\">\n",
       "      <th></th>\n",
       "      <th>Input</th>\n",
       "      <th>Softmax Output</th>\n",
       "    </tr>\n",
       "  </thead>\n",
       "  <tbody>\n",
       "    <tr>\n",
       "      <th>0</th>\n",
       "      <td>[2.3, 1.2, 0.3, 0.0]</td>\n",
       "      <td>[0.6376, 0.2122, 0.0863, 0.0639]</td>\n",
       "    </tr>\n",
       "    <tr>\n",
       "      <th>1</th>\n",
       "      <td>[1.9, 1.7, 2.6, 0.2, 1.3]</td>\n",
       "      <td>[0.2191, 0.1794, 0.4412, 0.04, 0.1202]</td>\n",
       "    </tr>\n",
       "  </tbody>\n",
       "</table>\n",
       "</div>"
      ],
      "text/plain": [
       "                       Input                          Softmax Output\n",
       "0       [2.3, 1.2, 0.3, 0.0]        [0.6376, 0.2122, 0.0863, 0.0639]\n",
       "1  [1.9, 1.7, 2.6, 0.2, 1.3]  [0.2191, 0.1794, 0.4412, 0.04, 0.1202]"
      ]
     },
     "execution_count": 9,
     "metadata": {},
     "output_type": "execute_result"
    }
   ],
   "source": [
    "input_softmax_1 = tf.constant([2.3, 1.2, 0.3, 0.0])\n",
    "input_softmax_2 = tf.constant([1.9, 1.7, 2.6, 0.2, 1.3])\n",
    "\n",
    "softmax_output_1 = softmax(input_softmax_1)\n",
    "softmax_output_2 = softmax(input_softmax_2)\n",
    "\n",
    "data = {\n",
    "    \"Input\": [input_softmax_1.numpy(), input_softmax_2.numpy()],\n",
    "    \"Softmax Output\": [np.round(softmax_output_1.numpy(), 4), np.round(softmax_output_2.numpy(), 4)]\n",
    "}\n",
    "\n",
    "df = pd.DataFrame(data)\n",
    "df"
   ]
  },
  {
   "cell_type": "markdown",
   "metadata": {},
   "source": [
    "<h4 style = 'color:green'>6.4 Calculate Cross-Entropy Loss</h4>"
   ]
  },
  {
   "cell_type": "code",
   "execution_count": 10,
   "metadata": {},
   "outputs": [],
   "source": [
    "def cross_entropy_loss(target: tf.Tensor, compValue: tf.Tensor) -> tf.Tensor:\n",
    "\n",
    "    \"\"\"\n",
    "    This function calculates the cross-entropy loss between the target and the computed value.\n",
    "    \n",
    "    Parameters\n",
    "    ----------\n",
    "    target : tf.Tensor\n",
    "        The target tensor.\n",
    "    compValue : tf.Tensor\n",
    "        The computed value tensor.\n",
    "    \n",
    "    Returns\n",
    "    -------\n",
    "    tf.Tensor\n",
    "        The cross-entropy loss between the target and the computed value.\n",
    "    \"\"\"\n",
    "\n",
    "    loss =  - ((target * np.log(compValue) + (1 - target) * np.log(1 - compValue)))\n",
    "    return loss"
   ]
  },
  {
   "cell_type": "code",
   "execution_count": 11,
   "metadata": {},
   "outputs": [
    {
     "data": {
      "text/html": [
       "<div>\n",
       "<style scoped>\n",
       "    .dataframe tbody tr th:only-of-type {\n",
       "        vertical-align: middle;\n",
       "    }\n",
       "\n",
       "    .dataframe tbody tr th {\n",
       "        vertical-align: top;\n",
       "    }\n",
       "\n",
       "    .dataframe thead th {\n",
       "        text-align: right;\n",
       "    }\n",
       "</style>\n",
       "<table border=\"1\" class=\"dataframe\">\n",
       "  <thead>\n",
       "    <tr style=\"text-align: right;\">\n",
       "      <th></th>\n",
       "      <th>Target [0]</th>\n",
       "      <th>Computed Value</th>\n",
       "      <th>Target [1]</th>\n",
       "    </tr>\n",
       "  </thead>\n",
       "  <tbody>\n",
       "    <tr>\n",
       "      <th>0</th>\n",
       "      <td>0</td>\n",
       "      <td>0.95</td>\n",
       "      <td>1</td>\n",
       "    </tr>\n",
       "    <tr>\n",
       "      <th>1</th>\n",
       "      <td>0</td>\n",
       "      <td>0.80</td>\n",
       "      <td>1</td>\n",
       "    </tr>\n",
       "    <tr>\n",
       "      <th>2</th>\n",
       "      <td>0</td>\n",
       "      <td>0.60</td>\n",
       "      <td>1</td>\n",
       "    </tr>\n",
       "    <tr>\n",
       "      <th>3</th>\n",
       "      <td>0</td>\n",
       "      <td>0.40</td>\n",
       "      <td>1</td>\n",
       "    </tr>\n",
       "    <tr>\n",
       "      <th>4</th>\n",
       "      <td>0</td>\n",
       "      <td>0.10</td>\n",
       "      <td>1</td>\n",
       "    </tr>\n",
       "  </tbody>\n",
       "</table>\n",
       "</div>"
      ],
      "text/plain": [
       "   Target [0]  Computed Value  Target [1]\n",
       "0           0            0.95           1\n",
       "1           0            0.80           1\n",
       "2           0            0.60           1\n",
       "3           0            0.40           1\n",
       "4           0            0.10           1"
      ]
     },
     "execution_count": 11,
     "metadata": {},
     "output_type": "execute_result"
    }
   ],
   "source": [
    "data = {\n",
    "    \"Target [0]\": [0, 0, 0, 0, 0],\n",
    "    \"Computed Value\": [0.95, 0.8, 0.6, 0.4, 0.1],\n",
    "    \"Target [1]\": [1, 1, 1, 1, 1],\n",
    "}\n",
    "\n",
    "df = pd.DataFrame(data)\n",
    "df"
   ]
  },
  {
   "cell_type": "code",
   "execution_count": 12,
   "metadata": {},
   "outputs": [
    {
     "data": {
      "text/html": [
       "<div>\n",
       "<style scoped>\n",
       "    .dataframe tbody tr th:only-of-type {\n",
       "        vertical-align: middle;\n",
       "    }\n",
       "\n",
       "    .dataframe tbody tr th {\n",
       "        vertical-align: top;\n",
       "    }\n",
       "\n",
       "    .dataframe thead th {\n",
       "        text-align: right;\n",
       "    }\n",
       "</style>\n",
       "<table border=\"1\" class=\"dataframe\">\n",
       "  <thead>\n",
       "    <tr style=\"text-align: right;\">\n",
       "      <th></th>\n",
       "      <th>Target [0]</th>\n",
       "      <th>Computed Value</th>\n",
       "      <th>Target [1]</th>\n",
       "      <th>Cross Entropy Loss [0]</th>\n",
       "      <th>Cross Entropy Loss [1]</th>\n",
       "    </tr>\n",
       "  </thead>\n",
       "  <tbody>\n",
       "    <tr>\n",
       "      <th>0</th>\n",
       "      <td>0</td>\n",
       "      <td>0.95</td>\n",
       "      <td>1</td>\n",
       "      <td>2.995732</td>\n",
       "      <td>0.051293</td>\n",
       "    </tr>\n",
       "    <tr>\n",
       "      <th>1</th>\n",
       "      <td>0</td>\n",
       "      <td>0.80</td>\n",
       "      <td>1</td>\n",
       "      <td>1.609438</td>\n",
       "      <td>0.223144</td>\n",
       "    </tr>\n",
       "    <tr>\n",
       "      <th>2</th>\n",
       "      <td>0</td>\n",
       "      <td>0.60</td>\n",
       "      <td>1</td>\n",
       "      <td>0.916291</td>\n",
       "      <td>0.510826</td>\n",
       "    </tr>\n",
       "    <tr>\n",
       "      <th>3</th>\n",
       "      <td>0</td>\n",
       "      <td>0.40</td>\n",
       "      <td>1</td>\n",
       "      <td>0.510826</td>\n",
       "      <td>0.916291</td>\n",
       "    </tr>\n",
       "    <tr>\n",
       "      <th>4</th>\n",
       "      <td>0</td>\n",
       "      <td>0.10</td>\n",
       "      <td>1</td>\n",
       "      <td>0.105361</td>\n",
       "      <td>2.302585</td>\n",
       "    </tr>\n",
       "  </tbody>\n",
       "</table>\n",
       "</div>"
      ],
      "text/plain": [
       "   Target [0]  Computed Value  Target [1]  Cross Entropy Loss [0]  \\\n",
       "0           0            0.95           1                2.995732   \n",
       "1           0            0.80           1                1.609438   \n",
       "2           0            0.60           1                0.916291   \n",
       "3           0            0.40           1                0.510826   \n",
       "4           0            0.10           1                0.105361   \n",
       "\n",
       "   Cross Entropy Loss [1]  \n",
       "0                0.051293  \n",
       "1                0.223144  \n",
       "2                0.510826  \n",
       "3                0.916291  \n",
       "4                2.302585  "
      ]
     },
     "execution_count": 12,
     "metadata": {},
     "output_type": "execute_result"
    }
   ],
   "source": [
    "df['Cross Entropy Loss [0]'] = cross_entropy_loss(df['Target [0]'], df['Computed Value'])\n",
    "df['Cross Entropy Loss [1]'] = cross_entropy_loss(df['Target [1]'], df['Computed Value'])\n",
    "df"
   ]
  },
  {
   "cell_type": "markdown",
   "metadata": {},
   "source": [
    "<h4 style = 'color:green'>6.5 ArgMax Function</h4>"
   ]
  },
  {
   "cell_type": "code",
   "execution_count": 13,
   "metadata": {},
   "outputs": [
    {
     "data": {
      "text/plain": [
       "[[5, 2, 3], [26, 56, 92], [3, 0, 26]]"
      ]
     },
     "execution_count": 13,
     "metadata": {},
     "output_type": "execute_result"
    }
   ],
   "source": [
    "a = [\n",
    "    [5, 2, 3],\n",
    "    [26, 56, 92],\n",
    "    [3, 0, 26]\n",
    "]\n",
    "a"
   ]
  },
  {
   "cell_type": "code",
   "execution_count": 14,
   "metadata": {},
   "outputs": [
    {
     "name": "stdout",
     "output_type": "stream",
     "text": [
      "Argmax (axis=0): [1 1 1]\n",
      "Argmax (axis=1): [0 2 2]\n"
     ]
    }
   ],
   "source": [
    "a1 = tf.argmax(a, axis=0).numpy()\n",
    "a2 = tf.argmax(a, axis=1).numpy()\n",
    "\n",
    "print(f\"Argmax (axis=0): {a1}\")\n",
    "print(f\"Argmax (axis=1): {a2}\")"
   ]
  },
  {
   "cell_type": "markdown",
   "metadata": {},
   "source": [
    "<h4 style = 'color:green'>6.6 XOR Function</h4>"
   ]
  },
  {
   "cell_type": "code",
   "execution_count": 28,
   "metadata": {},
   "outputs": [],
   "source": [
    "inputs = np.array([\n",
    "    [0, 0],\n",
    "    [1, 0],\n",
    "    [0, 1],\n",
    "    [1, 1]\n",
    "])"
   ]
  },
  {
   "cell_type": "code",
   "execution_count": 17,
   "metadata": {},
   "outputs": [],
   "source": [
    "weights_1 = np.array([\n",
    "    [-4, -6, -5],\n",
    "    [3, 6, 4]\n",
    "], dtype=np.float32)\n",
    "\n",
    "bias_1 = np.array([-2, 3, -2], dtype=np.float32)\n",
    "\n",
    "weights_2 = np.array([\n",
    "    [5],\n",
    "    [-9],\n",
    "    [7]\n",
    "], dtype=np.float32)\n",
    "\n",
    "bias_2 = np.array([4], dtype=np.float32)"
   ]
  },
  {
   "cell_type": "code",
   "execution_count": 29,
   "metadata": {},
   "outputs": [],
   "source": [
    "# Calculate hidden layer output\n",
    "hidden_layer_input = np.dot(inputs, weights_1) + bias_1\n",
    "hidden_layer_output = calculate_activation(hidden_layer_input, \"Sigmoid\")"
   ]
  },
  {
   "cell_type": "code",
   "execution_count": 31,
   "metadata": {},
   "outputs": [
    {
     "data": {
      "text/plain": [
       "<tf.Tensor: shape=(4, 1), dtype=float64, numpy=\n",
       "array([[0.04137861],\n",
       "       [0.97319269],\n",
       "       [0.99201349],\n",
       "       [0.0179147 ]])>"
      ]
     },
     "execution_count": 31,
     "metadata": {},
     "output_type": "execute_result"
    }
   ],
   "source": [
    "# Calculate output layer output\n",
    "output_layer_input = np.dot(hidden_layer_output, weights_2) + bias_2\n",
    "final_output = calculate_activation(output_layer_input, \"Sigmoid\")\n",
    "final_output"
   ]
  },
  {
   "cell_type": "code",
   "execution_count": 36,
   "metadata": {},
   "outputs": [
    {
     "data": {
      "text/html": [
       "<div>\n",
       "<style scoped>\n",
       "    .dataframe tbody tr th:only-of-type {\n",
       "        vertical-align: middle;\n",
       "    }\n",
       "\n",
       "    .dataframe tbody tr th {\n",
       "        vertical-align: top;\n",
       "    }\n",
       "\n",
       "    .dataframe thead th {\n",
       "        text-align: right;\n",
       "    }\n",
       "</style>\n",
       "<table border=\"1\" class=\"dataframe\">\n",
       "  <thead>\n",
       "    <tr style=\"text-align: right;\">\n",
       "      <th></th>\n",
       "      <th>Input 1</th>\n",
       "      <th>Input 2</th>\n",
       "      <th>True Output</th>\n",
       "      <th>Computed Output</th>\n",
       "      <th>Error</th>\n",
       "    </tr>\n",
       "  </thead>\n",
       "  <tbody>\n",
       "    <tr>\n",
       "      <th>0</th>\n",
       "      <td>0</td>\n",
       "      <td>0</td>\n",
       "      <td>0</td>\n",
       "      <td>0.041379</td>\n",
       "      <td>0.001712</td>\n",
       "    </tr>\n",
       "    <tr>\n",
       "      <th>1</th>\n",
       "      <td>1</td>\n",
       "      <td>0</td>\n",
       "      <td>1</td>\n",
       "      <td>0.973193</td>\n",
       "      <td>0.000719</td>\n",
       "    </tr>\n",
       "    <tr>\n",
       "      <th>2</th>\n",
       "      <td>0</td>\n",
       "      <td>1</td>\n",
       "      <td>1</td>\n",
       "      <td>0.992013</td>\n",
       "      <td>0.000064</td>\n",
       "    </tr>\n",
       "    <tr>\n",
       "      <th>3</th>\n",
       "      <td>1</td>\n",
       "      <td>1</td>\n",
       "      <td>0</td>\n",
       "      <td>0.017915</td>\n",
       "      <td>0.000321</td>\n",
       "    </tr>\n",
       "  </tbody>\n",
       "</table>\n",
       "</div>"
      ],
      "text/plain": [
       "   Input 1  Input 2  True Output  Computed Output     Error\n",
       "0        0        0            0         0.041379  0.001712\n",
       "1        1        0            1         0.973193  0.000719\n",
       "2        0        1            1         0.992013  0.000064\n",
       "3        1        1            0         0.017915  0.000321"
      ]
     },
     "execution_count": 36,
     "metadata": {},
     "output_type": "execute_result"
    }
   ],
   "source": [
    "df = pd.DataFrame({\n",
    "    'Input 1': inputs[:, 0],\n",
    "    'Input 2': inputs[:, 1],\n",
    "    'True Output': [0, 1, 1, 0]\n",
    "})\n",
    "df['Computed Output'] = final_output\n",
    "df['Error'] = (df['Computed Output'] - df['True Output']) ** 2\n",
    "df"
   ]
  }
 ],
 "metadata": {
  "kernelspec": {
   "display_name": "tf_env",
   "language": "python",
   "name": "python3"
  },
  "language_info": {
   "codemirror_mode": {
    "name": "ipython",
    "version": 3
   },
   "file_extension": ".py",
   "mimetype": "text/x-python",
   "name": "python",
   "nbconvert_exporter": "python",
   "pygments_lexer": "ipython3",
   "version": "3.10.8"
  }
 },
 "nbformat": 4,
 "nbformat_minor": 2
}
